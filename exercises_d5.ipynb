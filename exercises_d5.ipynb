{
 "cells": [
  {
   "cell_type": "code",
   "execution_count": 20,
   "metadata": {},
   "outputs": [
    {
     "name": "stdout",
     "output_type": "stream",
     "text": [
      "\u001b[1m============================= test session starts ==============================\u001b[0m\n",
      "platform darwin -- Python 3.6.5, pytest-3.6.1, py-1.5.3, pluggy-0.6.0 -- /anaconda/bin/python\n",
      "cachedir: .pytest_cache\n",
      "rootdir: /Users/John.Ciemniecki/git/bootcamp, inifile:\n",
      "plugins: remotedata-0.3.0, openfiles-0.2.0, doctestplus-0.1.2, arraydiff-0.2\n",
      "collected 8 items                                                              \u001b[0m\n",
      "\n",
      "test_bootstrap.py::test_2D_ndarray \u001b[32mPASSED\u001b[0m\u001b[36m                                [ 12%]\u001b[0m\n",
      "test_bootstrap.py::test_string_dtype \u001b[32mPASSED\u001b[0m\u001b[36m                              [ 25%]\u001b[0m\n",
      "test_bootstrap.py::test_list_dtype \u001b[32mPASSED\u001b[0m\u001b[36m                                [ 37%]\u001b[0m\n",
      "test_bootstrap.py::test_array_NaN \u001b[32mPASSED\u001b[0m\u001b[36m                                 [ 50%]\u001b[0m\n",
      "test_bootstrap.py::test_array_inf \u001b[32mPASSED\u001b[0m\u001b[36m                                 [ 62%]\u001b[0m\n",
      "test_bootstrap.py::test_output_size \u001b[32mPASSED\u001b[0m\u001b[36m                               [ 75%]\u001b[0m\n",
      "test_bootstrap.py::test_diff_func \u001b[32mPASSED\u001b[0m\u001b[36m                                 [ 87%]\u001b[0m\n",
      "test_bootstrap.py::test_no_func \u001b[32mPASSED\u001b[0m\u001b[36m                                   [100%]\u001b[0m\n",
      "\n",
      "\u001b[32m\u001b[1m=========================== 8 passed in 0.43 seconds ===========================\u001b[0m\n"
     ]
    }
   ],
   "source": [
    "!pytest -v test_bootstrap.py"
   ]
  },
  {
   "cell_type": "code",
   "execution_count": 1,
   "metadata": {},
   "outputs": [],
   "source": [
    "import bootstrap as boot\n",
    "import pandas as pd\n",
    "import numpy as np\n",
    "import altair as alt\n",
    "import bootcamp_utils"
   ]
  },
  {
   "cell_type": "code",
   "execution_count": 2,
   "metadata": {},
   "outputs": [],
   "source": [
    "df = pd.read_csv('data/grant_complete.csv', comment='#')"
   ]
  },
  {
   "cell_type": "code",
   "execution_count": 3,
   "metadata": {},
   "outputs": [
    {
     "data": {
      "text/html": [
       "<div>\n",
       "<style scoped>\n",
       "    .dataframe tbody tr th:only-of-type {\n",
       "        vertical-align: middle;\n",
       "    }\n",
       "\n",
       "    .dataframe tbody tr th {\n",
       "        vertical-align: top;\n",
       "    }\n",
       "\n",
       "    .dataframe thead th {\n",
       "        text-align: right;\n",
       "    }\n",
       "</style>\n",
       "<table border=\"1\" class=\"dataframe\">\n",
       "  <thead>\n",
       "    <tr style=\"text-align: right;\">\n",
       "      <th></th>\n",
       "      <th>band</th>\n",
       "      <th>beak depth (mm)</th>\n",
       "      <th>beak length (mm)</th>\n",
       "      <th>species</th>\n",
       "      <th>year</th>\n",
       "    </tr>\n",
       "  </thead>\n",
       "  <tbody>\n",
       "    <tr>\n",
       "      <th>89</th>\n",
       "      <td>2</td>\n",
       "      <td>8.0</td>\n",
       "      <td>9.4</td>\n",
       "      <td>fortis</td>\n",
       "      <td>1975</td>\n",
       "    </tr>\n",
       "    <tr>\n",
       "      <th>90</th>\n",
       "      <td>9</td>\n",
       "      <td>8.3</td>\n",
       "      <td>9.2</td>\n",
       "      <td>fortis</td>\n",
       "      <td>1975</td>\n",
       "    </tr>\n",
       "    <tr>\n",
       "      <th>91</th>\n",
       "      <td>12</td>\n",
       "      <td>7.5</td>\n",
       "      <td>9.5</td>\n",
       "      <td>fortis</td>\n",
       "      <td>1975</td>\n",
       "    </tr>\n",
       "    <tr>\n",
       "      <th>92</th>\n",
       "      <td>15</td>\n",
       "      <td>8.0</td>\n",
       "      <td>9.5</td>\n",
       "      <td>fortis</td>\n",
       "      <td>1975</td>\n",
       "    </tr>\n",
       "    <tr>\n",
       "      <th>93</th>\n",
       "      <td>305</td>\n",
       "      <td>9.9</td>\n",
       "      <td>11.5</td>\n",
       "      <td>fortis</td>\n",
       "      <td>1975</td>\n",
       "    </tr>\n",
       "  </tbody>\n",
       "</table>\n",
       "</div>"
      ],
      "text/plain": [
       "    band  beak depth (mm)  beak length (mm) species  year\n",
       "89     2              8.0               9.4  fortis  1975\n",
       "90     9              8.3               9.2  fortis  1975\n",
       "91    12              7.5               9.5  fortis  1975\n",
       "92    15              8.0               9.5  fortis  1975\n",
       "93   305              9.9              11.5  fortis  1975"
      ]
     },
     "execution_count": 3,
     "metadata": {},
     "output_type": "execute_result"
    }
   ],
   "source": [
    "df_1975 = df.loc[df['year']==1975]\n",
    "df_1975.head()"
   ]
  },
  {
   "cell_type": "code",
   "execution_count": 4,
   "metadata": {},
   "outputs": [
    {
     "name": "stderr",
     "output_type": "stream",
     "text": [
      "/anaconda/lib/python3.6/site-packages/ipykernel_launcher.py:2: SettingWithCopyWarning: \n",
      "A value is trying to be set on a copy of a slice from a DataFrame.\n",
      "Try using .loc[row_indexer,col_indexer] = value instead\n",
      "\n",
      "See the caveats in the documentation: http://pandas.pydata.org/pandas-docs/stable/indexing.html#indexing-view-versus-copy\n",
      "  \n"
     ]
    },
    {
     "data": {
      "text/html": [
       "<div>\n",
       "<style scoped>\n",
       "    .dataframe tbody tr th:only-of-type {\n",
       "        vertical-align: middle;\n",
       "    }\n",
       "\n",
       "    .dataframe tbody tr th {\n",
       "        vertical-align: top;\n",
       "    }\n",
       "\n",
       "    .dataframe thead th {\n",
       "        text-align: right;\n",
       "    }\n",
       "</style>\n",
       "<table border=\"1\" class=\"dataframe\">\n",
       "  <thead>\n",
       "    <tr style=\"text-align: right;\">\n",
       "      <th></th>\n",
       "      <th>band</th>\n",
       "      <th>beak depth (mm)</th>\n",
       "      <th>beak length (mm)</th>\n",
       "      <th>species</th>\n",
       "      <th>year</th>\n",
       "      <th>ecdf_y grouped by species</th>\n",
       "    </tr>\n",
       "  </thead>\n",
       "  <tbody>\n",
       "    <tr>\n",
       "      <th>89</th>\n",
       "      <td>2</td>\n",
       "      <td>8.0</td>\n",
       "      <td>9.4</td>\n",
       "      <td>fortis</td>\n",
       "      <td>1975</td>\n",
       "      <td>0.054487</td>\n",
       "    </tr>\n",
       "    <tr>\n",
       "      <th>90</th>\n",
       "      <td>9</td>\n",
       "      <td>8.3</td>\n",
       "      <td>9.2</td>\n",
       "      <td>fortis</td>\n",
       "      <td>1975</td>\n",
       "      <td>0.137821</td>\n",
       "    </tr>\n",
       "    <tr>\n",
       "      <th>91</th>\n",
       "      <td>12</td>\n",
       "      <td>7.5</td>\n",
       "      <td>9.5</td>\n",
       "      <td>fortis</td>\n",
       "      <td>1975</td>\n",
       "      <td>0.003205</td>\n",
       "    </tr>\n",
       "    <tr>\n",
       "      <th>92</th>\n",
       "      <td>15</td>\n",
       "      <td>8.0</td>\n",
       "      <td>9.5</td>\n",
       "      <td>fortis</td>\n",
       "      <td>1975</td>\n",
       "      <td>0.057692</td>\n",
       "    </tr>\n",
       "    <tr>\n",
       "      <th>93</th>\n",
       "      <td>305</td>\n",
       "      <td>9.9</td>\n",
       "      <td>11.5</td>\n",
       "      <td>fortis</td>\n",
       "      <td>1975</td>\n",
       "      <td>0.810897</td>\n",
       "    </tr>\n",
       "  </tbody>\n",
       "</table>\n",
       "</div>"
      ],
      "text/plain": [
       "    band  beak depth (mm)  beak length (mm) species  year  \\\n",
       "89     2              8.0               9.4  fortis  1975   \n",
       "90     9              8.3               9.2  fortis  1975   \n",
       "91    12              7.5               9.5  fortis  1975   \n",
       "92    15              8.0               9.5  fortis  1975   \n",
       "93   305              9.9              11.5  fortis  1975   \n",
       "\n",
       "    ecdf_y grouped by species  \n",
       "89                   0.054487  \n",
       "90                   0.137821  \n",
       "91                   0.003205  \n",
       "92                   0.057692  \n",
       "93                   0.810897  "
      ]
     },
     "execution_count": 4,
     "metadata": {},
     "output_type": "execute_result"
    }
   ],
   "source": [
    "# Create ECDF for each species in the year 1975 using bootcamp_utils.ecdf_y\n",
    "grouped = df_1975.groupby('species')\n",
    "df_1975['ecdf_y grouped by species'] = grouped['beak depth (mm)'].transform(bootcamp_utils.ecdf_y)\n",
    "df_1975.head()"
   ]
  },
  {
   "cell_type": "code",
   "execution_count": 5,
   "metadata": {},
   "outputs": [
    {
     "data": {
      "text/html": [
       "<div>\n",
       "<style scoped>\n",
       "    .dataframe tbody tr th:only-of-type {\n",
       "        vertical-align: middle;\n",
       "    }\n",
       "\n",
       "    .dataframe tbody tr th {\n",
       "        vertical-align: top;\n",
       "    }\n",
       "\n",
       "    .dataframe thead th {\n",
       "        text-align: right;\n",
       "    }\n",
       "</style>\n",
       "<table border=\"1\" class=\"dataframe\">\n",
       "  <thead>\n",
       "    <tr style=\"text-align: right;\">\n",
       "      <th></th>\n",
       "      <th>species</th>\n",
       "      <th>beak length (mm)</th>\n",
       "      <th>ECDF</th>\n",
       "    </tr>\n",
       "  </thead>\n",
       "  <tbody>\n",
       "    <tr>\n",
       "      <th>0</th>\n",
       "      <td>fortis</td>\n",
       "      <td>8.338</td>\n",
       "      <td>0.000000</td>\n",
       "    </tr>\n",
       "    <tr>\n",
       "      <th>1</th>\n",
       "      <td>fortis</td>\n",
       "      <td>8.700</td>\n",
       "      <td>0.000000</td>\n",
       "    </tr>\n",
       "    <tr>\n",
       "      <th>2</th>\n",
       "      <td>fortis</td>\n",
       "      <td>8.700</td>\n",
       "      <td>0.000000</td>\n",
       "    </tr>\n",
       "    <tr>\n",
       "      <th>3</th>\n",
       "      <td>fortis</td>\n",
       "      <td>8.700</td>\n",
       "      <td>0.003205</td>\n",
       "    </tr>\n",
       "    <tr>\n",
       "      <th>4</th>\n",
       "      <td>fortis</td>\n",
       "      <td>8.800</td>\n",
       "      <td>0.003205</td>\n",
       "    </tr>\n",
       "  </tbody>\n",
       "</table>\n",
       "</div>"
      ],
      "text/plain": [
       "  species  beak length (mm)      ECDF\n",
       "0  fortis             8.338  0.000000\n",
       "1  fortis             8.700  0.000000\n",
       "2  fortis             8.700  0.000000\n",
       "3  fortis             8.700  0.003205\n",
       "4  fortis             8.800  0.003205"
      ]
     },
     "execution_count": 5,
     "metadata": {},
     "output_type": "execute_result"
    }
   ],
   "source": [
    "# Create formal ECDF for each species in the year 1975 using bootcamp_utils.ecdf_dataframe\n",
    "df_1975_ecdf = bootcamp_utils.ecdf_dataframe(df_1975, 'beak length (mm)', color='species', formal=True)\n",
    "df_1975_ecdf.head()"
   ]
  },
  {
   "cell_type": "code",
   "execution_count": 6,
   "metadata": {},
   "outputs": [
    {
     "data": {
      "application/vnd.vegalite.v2+json": {
       "$schema": "https://vega.github.io/schema/vega-lite/v2.4.3.json",
       "config": {
        "view": {
         "height": 300,
         "width": 400
        }
       },
       "data": {
        "values": [
         {
          "ECDF": 0,
          "beak length (mm)": 8.338,
          "species": "fortis"
         },
         {
          "ECDF": 0,
          "beak length (mm)": 8.7,
          "species": "fortis"
         },
         {
          "ECDF": 0,
          "beak length (mm)": 8.7,
          "species": "fortis"
         },
         {
          "ECDF": 0.003205128205128205,
          "beak length (mm)": 8.7,
          "species": "fortis"
         },
         {
          "ECDF": 0.003205128205128205,
          "beak length (mm)": 8.8,
          "species": "fortis"
         },
         {
          "ECDF": 0.00641025641025641,
          "beak length (mm)": 8.8,
          "species": "fortis"
         },
         {
          "ECDF": 0.00641025641025641,
          "beak length (mm)": 9,
          "species": "fortis"
         },
         {
          "ECDF": 0.009615384615384616,
          "beak length (mm)": 9,
          "species": "fortis"
         },
         {
          "ECDF": 0.009615384615384616,
          "beak length (mm)": 9.1,
          "species": "fortis"
         },
         {
          "ECDF": 0.01282051282051282,
          "beak length (mm)": 9.1,
          "species": "fortis"
         },
         {
          "ECDF": 0.01282051282051282,
          "beak length (mm)": 9.1,
          "species": "fortis"
         },
         {
          "ECDF": 0.016025641025641024,
          "beak length (mm)": 9.1,
          "species": "fortis"
         },
         {
          "ECDF": 0.016025641025641024,
          "beak length (mm)": 9.1,
          "species": "fortis"
         },
         {
          "ECDF": 0.019230769230769232,
          "beak length (mm)": 9.1,
          "species": "fortis"
         },
         {
          "ECDF": 0.019230769230769232,
          "beak length (mm)": 9.2,
          "species": "fortis"
         },
         {
          "ECDF": 0.022435897435897436,
          "beak length (mm)": 9.2,
          "species": "fortis"
         },
         {
          "ECDF": 0.022435897435897436,
          "beak length (mm)": 9.2,
          "species": "fortis"
         },
         {
          "ECDF": 0.02564102564102564,
          "beak length (mm)": 9.2,
          "species": "fortis"
         },
         {
          "ECDF": 0.02564102564102564,
          "beak length (mm)": 9.2,
          "species": "fortis"
         },
         {
          "ECDF": 0.028846153846153848,
          "beak length (mm)": 9.2,
          "species": "fortis"
         },
         {
          "ECDF": 0.028846153846153848,
          "beak length (mm)": 9.3,
          "species": "fortis"
         },
         {
          "ECDF": 0.03205128205128205,
          "beak length (mm)": 9.3,
          "species": "fortis"
         },
         {
          "ECDF": 0.03205128205128205,
          "beak length (mm)": 9.3,
          "species": "fortis"
         },
         {
          "ECDF": 0.035256410256410256,
          "beak length (mm)": 9.3,
          "species": "fortis"
         },
         {
          "ECDF": 0.035256410256410256,
          "beak length (mm)": 9.4,
          "species": "fortis"
         },
         {
          "ECDF": 0.038461538461538464,
          "beak length (mm)": 9.4,
          "species": "fortis"
         },
         {
          "ECDF": 0.038461538461538464,
          "beak length (mm)": 9.4,
          "species": "fortis"
         },
         {
          "ECDF": 0.041666666666666664,
          "beak length (mm)": 9.4,
          "species": "fortis"
         },
         {
          "ECDF": 0.041666666666666664,
          "beak length (mm)": 9.4,
          "species": "fortis"
         },
         {
          "ECDF": 0.04487179487179487,
          "beak length (mm)": 9.4,
          "species": "fortis"
         },
         {
          "ECDF": 0.04487179487179487,
          "beak length (mm)": 9.5,
          "species": "fortis"
         },
         {
          "ECDF": 0.04807692307692308,
          "beak length (mm)": 9.5,
          "species": "fortis"
         },
         {
          "ECDF": 0.04807692307692308,
          "beak length (mm)": 9.5,
          "species": "fortis"
         },
         {
          "ECDF": 0.05128205128205128,
          "beak length (mm)": 9.5,
          "species": "fortis"
         },
         {
          "ECDF": 0.05128205128205128,
          "beak length (mm)": 9.5,
          "species": "fortis"
         },
         {
          "ECDF": 0.05448717948717949,
          "beak length (mm)": 9.5,
          "species": "fortis"
         },
         {
          "ECDF": 0.05448717948717949,
          "beak length (mm)": 9.6,
          "species": "fortis"
         },
         {
          "ECDF": 0.057692307692307696,
          "beak length (mm)": 9.6,
          "species": "fortis"
         },
         {
          "ECDF": 0.057692307692307696,
          "beak length (mm)": 9.6,
          "species": "fortis"
         },
         {
          "ECDF": 0.060897435897435896,
          "beak length (mm)": 9.6,
          "species": "fortis"
         },
         {
          "ECDF": 0.060897435897435896,
          "beak length (mm)": 9.6,
          "species": "fortis"
         },
         {
          "ECDF": 0.0641025641025641,
          "beak length (mm)": 9.6,
          "species": "fortis"
         },
         {
          "ECDF": 0.0641025641025641,
          "beak length (mm)": 9.6,
          "species": "fortis"
         },
         {
          "ECDF": 0.0673076923076923,
          "beak length (mm)": 9.6,
          "species": "fortis"
         },
         {
          "ECDF": 0.0673076923076923,
          "beak length (mm)": 9.6,
          "species": "fortis"
         },
         {
          "ECDF": 0.07051282051282051,
          "beak length (mm)": 9.6,
          "species": "fortis"
         },
         {
          "ECDF": 0.07051282051282051,
          "beak length (mm)": 9.6,
          "species": "fortis"
         },
         {
          "ECDF": 0.07371794871794872,
          "beak length (mm)": 9.6,
          "species": "fortis"
         },
         {
          "ECDF": 0.07371794871794872,
          "beak length (mm)": 9.6,
          "species": "fortis"
         },
         {
          "ECDF": 0.07692307692307693,
          "beak length (mm)": 9.6,
          "species": "fortis"
         },
         {
          "ECDF": 0.07692307692307693,
          "beak length (mm)": 9.6,
          "species": "fortis"
         },
         {
          "ECDF": 0.08012820512820513,
          "beak length (mm)": 9.6,
          "species": "fortis"
         },
         {
          "ECDF": 0.08012820512820513,
          "beak length (mm)": 9.63,
          "species": "fortis"
         },
         {
          "ECDF": 0.08333333333333333,
          "beak length (mm)": 9.63,
          "species": "fortis"
         },
         {
          "ECDF": 0.08333333333333333,
          "beak length (mm)": 9.65,
          "species": "fortis"
         },
         {
          "ECDF": 0.08653846153846154,
          "beak length (mm)": 9.65,
          "species": "fortis"
         },
         {
          "ECDF": 0.08653846153846154,
          "beak length (mm)": 9.7,
          "species": "fortis"
         },
         {
          "ECDF": 0.08974358974358974,
          "beak length (mm)": 9.7,
          "species": "fortis"
         },
         {
          "ECDF": 0.08974358974358974,
          "beak length (mm)": 9.7,
          "species": "fortis"
         },
         {
          "ECDF": 0.09294871794871795,
          "beak length (mm)": 9.7,
          "species": "fortis"
         },
         {
          "ECDF": 0.09294871794871795,
          "beak length (mm)": 9.7,
          "species": "fortis"
         },
         {
          "ECDF": 0.09615384615384616,
          "beak length (mm)": 9.7,
          "species": "fortis"
         },
         {
          "ECDF": 0.09615384615384616,
          "beak length (mm)": 9.7,
          "species": "fortis"
         },
         {
          "ECDF": 0.09935897435897435,
          "beak length (mm)": 9.7,
          "species": "fortis"
         },
         {
          "ECDF": 0.09935897435897435,
          "beak length (mm)": 9.7,
          "species": "fortis"
         },
         {
          "ECDF": 0.10256410256410256,
          "beak length (mm)": 9.7,
          "species": "fortis"
         },
         {
          "ECDF": 0.10256410256410256,
          "beak length (mm)": 9.7,
          "species": "fortis"
         },
         {
          "ECDF": 0.10576923076923077,
          "beak length (mm)": 9.7,
          "species": "fortis"
         },
         {
          "ECDF": 0.10576923076923077,
          "beak length (mm)": 9.7,
          "species": "fortis"
         },
         {
          "ECDF": 0.10897435897435898,
          "beak length (mm)": 9.7,
          "species": "fortis"
         },
         {
          "ECDF": 0.10897435897435898,
          "beak length (mm)": 9.7,
          "species": "fortis"
         },
         {
          "ECDF": 0.11217948717948718,
          "beak length (mm)": 9.7,
          "species": "fortis"
         },
         {
          "ECDF": 0.11217948717948718,
          "beak length (mm)": 9.7,
          "species": "fortis"
         },
         {
          "ECDF": 0.11538461538461539,
          "beak length (mm)": 9.7,
          "species": "fortis"
         },
         {
          "ECDF": 0.11538461538461539,
          "beak length (mm)": 9.7,
          "species": "fortis"
         },
         {
          "ECDF": 0.11858974358974358,
          "beak length (mm)": 9.7,
          "species": "fortis"
         },
         {
          "ECDF": 0.11858974358974358,
          "beak length (mm)": 9.8,
          "species": "fortis"
         },
         {
          "ECDF": 0.12179487179487179,
          "beak length (mm)": 9.8,
          "species": "fortis"
         },
         {
          "ECDF": 0.12179487179487179,
          "beak length (mm)": 9.8,
          "species": "fortis"
         },
         {
          "ECDF": 0.125,
          "beak length (mm)": 9.8,
          "species": "fortis"
         },
         {
          "ECDF": 0.125,
          "beak length (mm)": 9.8,
          "species": "fortis"
         },
         {
          "ECDF": 0.1282051282051282,
          "beak length (mm)": 9.8,
          "species": "fortis"
         },
         {
          "ECDF": 0.1282051282051282,
          "beak length (mm)": 9.8,
          "species": "fortis"
         },
         {
          "ECDF": 0.13141025641025642,
          "beak length (mm)": 9.8,
          "species": "fortis"
         },
         {
          "ECDF": 0.13141025641025642,
          "beak length (mm)": 9.8,
          "species": "fortis"
         },
         {
          "ECDF": 0.1346153846153846,
          "beak length (mm)": 9.8,
          "species": "fortis"
         },
         {
          "ECDF": 0.1346153846153846,
          "beak length (mm)": 9.8,
          "species": "fortis"
         },
         {
          "ECDF": 0.13782051282051283,
          "beak length (mm)": 9.8,
          "species": "fortis"
         },
         {
          "ECDF": 0.13782051282051283,
          "beak length (mm)": 9.8,
          "species": "fortis"
         },
         {
          "ECDF": 0.14102564102564102,
          "beak length (mm)": 9.8,
          "species": "fortis"
         },
         {
          "ECDF": 0.14102564102564102,
          "beak length (mm)": 9.8,
          "species": "fortis"
         },
         {
          "ECDF": 0.14423076923076922,
          "beak length (mm)": 9.8,
          "species": "fortis"
         },
         {
          "ECDF": 0.14423076923076922,
          "beak length (mm)": 9.8,
          "species": "fortis"
         },
         {
          "ECDF": 0.14743589743589744,
          "beak length (mm)": 9.8,
          "species": "fortis"
         },
         {
          "ECDF": 0.14743589743589744,
          "beak length (mm)": 9.83,
          "species": "fortis"
         },
         {
          "ECDF": 0.15064102564102563,
          "beak length (mm)": 9.83,
          "species": "fortis"
         },
         {
          "ECDF": 0.15064102564102563,
          "beak length (mm)": 9.85,
          "species": "fortis"
         },
         {
          "ECDF": 0.15384615384615385,
          "beak length (mm)": 9.85,
          "species": "fortis"
         },
         {
          "ECDF": 0.15384615384615385,
          "beak length (mm)": 9.9,
          "species": "fortis"
         },
         {
          "ECDF": 0.15705128205128205,
          "beak length (mm)": 9.9,
          "species": "fortis"
         },
         {
          "ECDF": 0.15705128205128205,
          "beak length (mm)": 9.9,
          "species": "fortis"
         },
         {
          "ECDF": 0.16025641025641027,
          "beak length (mm)": 9.9,
          "species": "fortis"
         },
         {
          "ECDF": 0.16025641025641027,
          "beak length (mm)": 9.9,
          "species": "fortis"
         },
         {
          "ECDF": 0.16346153846153846,
          "beak length (mm)": 9.9,
          "species": "fortis"
         },
         {
          "ECDF": 0.16346153846153846,
          "beak length (mm)": 9.9,
          "species": "fortis"
         },
         {
          "ECDF": 0.16666666666666666,
          "beak length (mm)": 9.9,
          "species": "fortis"
         },
         {
          "ECDF": 0.16666666666666666,
          "beak length (mm)": 9.9,
          "species": "fortis"
         },
         {
          "ECDF": 0.16987179487179488,
          "beak length (mm)": 9.9,
          "species": "fortis"
         },
         {
          "ECDF": 0.16987179487179488,
          "beak length (mm)": 9.9,
          "species": "fortis"
         },
         {
          "ECDF": 0.17307692307692307,
          "beak length (mm)": 9.9,
          "species": "fortis"
         },
         {
          "ECDF": 0.17307692307692307,
          "beak length (mm)": 9.9,
          "species": "fortis"
         },
         {
          "ECDF": 0.1762820512820513,
          "beak length (mm)": 9.9,
          "species": "fortis"
         },
         {
          "ECDF": 0.1762820512820513,
          "beak length (mm)": 9.9,
          "species": "fortis"
         },
         {
          "ECDF": 0.1794871794871795,
          "beak length (mm)": 9.9,
          "species": "fortis"
         },
         {
          "ECDF": 0.1794871794871795,
          "beak length (mm)": 9.9,
          "species": "fortis"
         },
         {
          "ECDF": 0.18269230769230768,
          "beak length (mm)": 9.9,
          "species": "fortis"
         },
         {
          "ECDF": 0.18269230769230768,
          "beak length (mm)": 9.9,
          "species": "fortis"
         },
         {
          "ECDF": 0.1858974358974359,
          "beak length (mm)": 9.9,
          "species": "fortis"
         },
         {
          "ECDF": 0.1858974358974359,
          "beak length (mm)": 9.9,
          "species": "fortis"
         },
         {
          "ECDF": 0.1891025641025641,
          "beak length (mm)": 9.9,
          "species": "fortis"
         },
         {
          "ECDF": 0.1891025641025641,
          "beak length (mm)": 9.9,
          "species": "fortis"
         },
         {
          "ECDF": 0.19230769230769232,
          "beak length (mm)": 9.9,
          "species": "fortis"
         },
         {
          "ECDF": 0.19230769230769232,
          "beak length (mm)": 9.9,
          "species": "fortis"
         },
         {
          "ECDF": 0.1955128205128205,
          "beak length (mm)": 9.9,
          "species": "fortis"
         },
         {
          "ECDF": 0.1955128205128205,
          "beak length (mm)": 9.9,
          "species": "fortis"
         },
         {
          "ECDF": 0.1987179487179487,
          "beak length (mm)": 9.9,
          "species": "fortis"
         },
         {
          "ECDF": 0.1987179487179487,
          "beak length (mm)": 9.9,
          "species": "fortis"
         },
         {
          "ECDF": 0.20192307692307693,
          "beak length (mm)": 9.9,
          "species": "fortis"
         },
         {
          "ECDF": 0.20192307692307693,
          "beak length (mm)": 9.93,
          "species": "fortis"
         },
         {
          "ECDF": 0.20512820512820512,
          "beak length (mm)": 9.93,
          "species": "fortis"
         },
         {
          "ECDF": 0.20512820512820512,
          "beak length (mm)": 10,
          "species": "fortis"
         },
         {
          "ECDF": 0.20833333333333334,
          "beak length (mm)": 10,
          "species": "fortis"
         },
         {
          "ECDF": 0.20833333333333334,
          "beak length (mm)": 10,
          "species": "fortis"
         },
         {
          "ECDF": 0.21153846153846154,
          "beak length (mm)": 10,
          "species": "fortis"
         },
         {
          "ECDF": 0.21153846153846154,
          "beak length (mm)": 10,
          "species": "fortis"
         },
         {
          "ECDF": 0.21474358974358973,
          "beak length (mm)": 10,
          "species": "fortis"
         },
         {
          "ECDF": 0.21474358974358973,
          "beak length (mm)": 10,
          "species": "fortis"
         },
         {
          "ECDF": 0.21794871794871795,
          "beak length (mm)": 10,
          "species": "fortis"
         },
         {
          "ECDF": 0.21794871794871795,
          "beak length (mm)": 10,
          "species": "fortis"
         },
         {
          "ECDF": 0.22115384615384615,
          "beak length (mm)": 10,
          "species": "fortis"
         },
         {
          "ECDF": 0.22115384615384615,
          "beak length (mm)": 10,
          "species": "fortis"
         },
         {
          "ECDF": 0.22435897435897437,
          "beak length (mm)": 10,
          "species": "fortis"
         },
         {
          "ECDF": 0.22435897435897437,
          "beak length (mm)": 10,
          "species": "fortis"
         },
         {
          "ECDF": 0.22756410256410256,
          "beak length (mm)": 10,
          "species": "fortis"
         },
         {
          "ECDF": 0.22756410256410256,
          "beak length (mm)": 10,
          "species": "fortis"
         },
         {
          "ECDF": 0.23076923076923078,
          "beak length (mm)": 10,
          "species": "fortis"
         },
         {
          "ECDF": 0.23076923076923078,
          "beak length (mm)": 10,
          "species": "fortis"
         },
         {
          "ECDF": 0.23397435897435898,
          "beak length (mm)": 10,
          "species": "fortis"
         },
         {
          "ECDF": 0.23397435897435898,
          "beak length (mm)": 10.05,
          "species": "fortis"
         },
         {
          "ECDF": 0.23717948717948717,
          "beak length (mm)": 10.05,
          "species": "fortis"
         },
         {
          "ECDF": 0.23717948717948717,
          "beak length (mm)": 10.1,
          "species": "fortis"
         },
         {
          "ECDF": 0.2403846153846154,
          "beak length (mm)": 10.1,
          "species": "fortis"
         },
         {
          "ECDF": 0.2403846153846154,
          "beak length (mm)": 10.1,
          "species": "fortis"
         },
         {
          "ECDF": 0.24358974358974358,
          "beak length (mm)": 10.1,
          "species": "fortis"
         },
         {
          "ECDF": 0.24358974358974358,
          "beak length (mm)": 10.1,
          "species": "fortis"
         },
         {
          "ECDF": 0.2467948717948718,
          "beak length (mm)": 10.1,
          "species": "fortis"
         },
         {
          "ECDF": 0.2467948717948718,
          "beak length (mm)": 10.1,
          "species": "fortis"
         },
         {
          "ECDF": 0.25,
          "beak length (mm)": 10.1,
          "species": "fortis"
         },
         {
          "ECDF": 0.25,
          "beak length (mm)": 10.1,
          "species": "fortis"
         },
         {
          "ECDF": 0.2532051282051282,
          "beak length (mm)": 10.1,
          "species": "fortis"
         },
         {
          "ECDF": 0.2532051282051282,
          "beak length (mm)": 10.1,
          "species": "fortis"
         },
         {
          "ECDF": 0.2564102564102564,
          "beak length (mm)": 10.1,
          "species": "fortis"
         },
         {
          "ECDF": 0.2564102564102564,
          "beak length (mm)": 10.1,
          "species": "fortis"
         },
         {
          "ECDF": 0.25961538461538464,
          "beak length (mm)": 10.1,
          "species": "fortis"
         },
         {
          "ECDF": 0.25961538461538464,
          "beak length (mm)": 10.1,
          "species": "fortis"
         },
         {
          "ECDF": 0.26282051282051283,
          "beak length (mm)": 10.1,
          "species": "fortis"
         },
         {
          "ECDF": 0.26282051282051283,
          "beak length (mm)": 10.1,
          "species": "fortis"
         },
         {
          "ECDF": 0.266025641025641,
          "beak length (mm)": 10.1,
          "species": "fortis"
         },
         {
          "ECDF": 0.266025641025641,
          "beak length (mm)": 10.1,
          "species": "fortis"
         },
         {
          "ECDF": 0.2692307692307692,
          "beak length (mm)": 10.1,
          "species": "fortis"
         },
         {
          "ECDF": 0.2692307692307692,
          "beak length (mm)": 10.13,
          "species": "fortis"
         },
         {
          "ECDF": 0.2724358974358974,
          "beak length (mm)": 10.13,
          "species": "fortis"
         },
         {
          "ECDF": 0.2724358974358974,
          "beak length (mm)": 10.15,
          "species": "fortis"
         },
         {
          "ECDF": 0.27564102564102566,
          "beak length (mm)": 10.15,
          "species": "fortis"
         },
         {
          "ECDF": 0.27564102564102566,
          "beak length (mm)": 10.2,
          "species": "fortis"
         },
         {
          "ECDF": 0.27884615384615385,
          "beak length (mm)": 10.2,
          "species": "fortis"
         },
         {
          "ECDF": 0.27884615384615385,
          "beak length (mm)": 10.2,
          "species": "fortis"
         },
         {
          "ECDF": 0.28205128205128205,
          "beak length (mm)": 10.2,
          "species": "fortis"
         },
         {
          "ECDF": 0.28205128205128205,
          "beak length (mm)": 10.2,
          "species": "fortis"
         },
         {
          "ECDF": 0.28525641025641024,
          "beak length (mm)": 10.2,
          "species": "fortis"
         },
         {
          "ECDF": 0.28525641025641024,
          "beak length (mm)": 10.2,
          "species": "fortis"
         },
         {
          "ECDF": 0.28846153846153844,
          "beak length (mm)": 10.2,
          "species": "fortis"
         },
         {
          "ECDF": 0.28846153846153844,
          "beak length (mm)": 10.2,
          "species": "fortis"
         },
         {
          "ECDF": 0.2916666666666667,
          "beak length (mm)": 10.2,
          "species": "fortis"
         },
         {
          "ECDF": 0.2916666666666667,
          "beak length (mm)": 10.2,
          "species": "fortis"
         },
         {
          "ECDF": 0.2948717948717949,
          "beak length (mm)": 10.2,
          "species": "fortis"
         },
         {
          "ECDF": 0.2948717948717949,
          "beak length (mm)": 10.2,
          "species": "fortis"
         },
         {
          "ECDF": 0.2980769230769231,
          "beak length (mm)": 10.2,
          "species": "fortis"
         },
         {
          "ECDF": 0.2980769230769231,
          "beak length (mm)": 10.2,
          "species": "fortis"
         },
         {
          "ECDF": 0.30128205128205127,
          "beak length (mm)": 10.2,
          "species": "fortis"
         },
         {
          "ECDF": 0.30128205128205127,
          "beak length (mm)": 10.2,
          "species": "fortis"
         },
         {
          "ECDF": 0.30448717948717946,
          "beak length (mm)": 10.2,
          "species": "fortis"
         },
         {
          "ECDF": 0.30448717948717946,
          "beak length (mm)": 10.2,
          "species": "fortis"
         },
         {
          "ECDF": 0.3076923076923077,
          "beak length (mm)": 10.2,
          "species": "fortis"
         },
         {
          "ECDF": 0.3076923076923077,
          "beak length (mm)": 10.2,
          "species": "fortis"
         },
         {
          "ECDF": 0.3108974358974359,
          "beak length (mm)": 10.2,
          "species": "fortis"
         },
         {
          "ECDF": 0.3108974358974359,
          "beak length (mm)": 10.2,
          "species": "fortis"
         },
         {
          "ECDF": 0.3141025641025641,
          "beak length (mm)": 10.2,
          "species": "fortis"
         },
         {
          "ECDF": 0.3141025641025641,
          "beak length (mm)": 10.2,
          "species": "fortis"
         },
         {
          "ECDF": 0.3173076923076923,
          "beak length (mm)": 10.2,
          "species": "fortis"
         },
         {
          "ECDF": 0.3173076923076923,
          "beak length (mm)": 10.2,
          "species": "fortis"
         },
         {
          "ECDF": 0.32051282051282054,
          "beak length (mm)": 10.2,
          "species": "fortis"
         },
         {
          "ECDF": 0.32051282051282054,
          "beak length (mm)": 10.2,
          "species": "fortis"
         },
         {
          "ECDF": 0.32371794871794873,
          "beak length (mm)": 10.2,
          "species": "fortis"
         },
         {
          "ECDF": 0.32371794871794873,
          "beak length (mm)": 10.2,
          "species": "fortis"
         },
         {
          "ECDF": 0.3269230769230769,
          "beak length (mm)": 10.2,
          "species": "fortis"
         },
         {
          "ECDF": 0.3269230769230769,
          "beak length (mm)": 10.2,
          "species": "fortis"
         },
         {
          "ECDF": 0.3301282051282051,
          "beak length (mm)": 10.2,
          "species": "fortis"
         },
         {
          "ECDF": 0.3301282051282051,
          "beak length (mm)": 10.2,
          "species": "fortis"
         },
         {
          "ECDF": 0.3333333333333333,
          "beak length (mm)": 10.2,
          "species": "fortis"
         },
         {
          "ECDF": 0.3333333333333333,
          "beak length (mm)": 10.23,
          "species": "fortis"
         },
         {
          "ECDF": 0.33653846153846156,
          "beak length (mm)": 10.23,
          "species": "fortis"
         },
         {
          "ECDF": 0.33653846153846156,
          "beak length (mm)": 10.23,
          "species": "fortis"
         },
         {
          "ECDF": 0.33974358974358976,
          "beak length (mm)": 10.23,
          "species": "fortis"
         },
         {
          "ECDF": 0.33974358974358976,
          "beak length (mm)": 10.25,
          "species": "fortis"
         },
         {
          "ECDF": 0.34294871794871795,
          "beak length (mm)": 10.25,
          "species": "fortis"
         },
         {
          "ECDF": 0.34294871794871795,
          "beak length (mm)": 10.25,
          "species": "fortis"
         },
         {
          "ECDF": 0.34615384615384615,
          "beak length (mm)": 10.25,
          "species": "fortis"
         },
         {
          "ECDF": 0.34615384615384615,
          "beak length (mm)": 10.3,
          "species": "fortis"
         },
         {
          "ECDF": 0.34935897435897434,
          "beak length (mm)": 10.3,
          "species": "fortis"
         },
         {
          "ECDF": 0.34935897435897434,
          "beak length (mm)": 10.3,
          "species": "fortis"
         },
         {
          "ECDF": 0.3525641025641026,
          "beak length (mm)": 10.3,
          "species": "fortis"
         },
         {
          "ECDF": 0.3525641025641026,
          "beak length (mm)": 10.3,
          "species": "fortis"
         },
         {
          "ECDF": 0.3557692307692308,
          "beak length (mm)": 10.3,
          "species": "fortis"
         },
         {
          "ECDF": 0.3557692307692308,
          "beak length (mm)": 10.3,
          "species": "fortis"
         },
         {
          "ECDF": 0.358974358974359,
          "beak length (mm)": 10.3,
          "species": "fortis"
         },
         {
          "ECDF": 0.358974358974359,
          "beak length (mm)": 10.3,
          "species": "fortis"
         },
         {
          "ECDF": 0.36217948717948717,
          "beak length (mm)": 10.3,
          "species": "fortis"
         },
         {
          "ECDF": 0.36217948717948717,
          "beak length (mm)": 10.3,
          "species": "fortis"
         },
         {
          "ECDF": 0.36538461538461536,
          "beak length (mm)": 10.3,
          "species": "fortis"
         },
         {
          "ECDF": 0.36538461538461536,
          "beak length (mm)": 10.3,
          "species": "fortis"
         },
         {
          "ECDF": 0.3685897435897436,
          "beak length (mm)": 10.3,
          "species": "fortis"
         },
         {
          "ECDF": 0.3685897435897436,
          "beak length (mm)": 10.3,
          "species": "fortis"
         },
         {
          "ECDF": 0.3717948717948718,
          "beak length (mm)": 10.3,
          "species": "fortis"
         },
         {
          "ECDF": 0.3717948717948718,
          "beak length (mm)": 10.3,
          "species": "fortis"
         },
         {
          "ECDF": 0.375,
          "beak length (mm)": 10.3,
          "species": "fortis"
         },
         {
          "ECDF": 0.375,
          "beak length (mm)": 10.3,
          "species": "fortis"
         },
         {
          "ECDF": 0.3782051282051282,
          "beak length (mm)": 10.3,
          "species": "fortis"
         },
         {
          "ECDF": 0.3782051282051282,
          "beak length (mm)": 10.3,
          "species": "fortis"
         },
         {
          "ECDF": 0.3814102564102564,
          "beak length (mm)": 10.3,
          "species": "fortis"
         },
         {
          "ECDF": 0.3814102564102564,
          "beak length (mm)": 10.3,
          "species": "fortis"
         },
         {
          "ECDF": 0.38461538461538464,
          "beak length (mm)": 10.3,
          "species": "fortis"
         },
         {
          "ECDF": 0.38461538461538464,
          "beak length (mm)": 10.33,
          "species": "fortis"
         },
         {
          "ECDF": 0.38782051282051283,
          "beak length (mm)": 10.33,
          "species": "fortis"
         },
         {
          "ECDF": 0.38782051282051283,
          "beak length (mm)": 10.4,
          "species": "fortis"
         },
         {
          "ECDF": 0.391025641025641,
          "beak length (mm)": 10.4,
          "species": "fortis"
         },
         {
          "ECDF": 0.391025641025641,
          "beak length (mm)": 10.4,
          "species": "fortis"
         },
         {
          "ECDF": 0.3942307692307692,
          "beak length (mm)": 10.4,
          "species": "fortis"
         },
         {
          "ECDF": 0.3942307692307692,
          "beak length (mm)": 10.4,
          "species": "fortis"
         },
         {
          "ECDF": 0.3974358974358974,
          "beak length (mm)": 10.4,
          "species": "fortis"
         },
         {
          "ECDF": 0.3974358974358974,
          "beak length (mm)": 10.4,
          "species": "fortis"
         },
         {
          "ECDF": 0.40064102564102566,
          "beak length (mm)": 10.4,
          "species": "fortis"
         },
         {
          "ECDF": 0.40064102564102566,
          "beak length (mm)": 10.4,
          "species": "fortis"
         },
         {
          "ECDF": 0.40384615384615385,
          "beak length (mm)": 10.4,
          "species": "fortis"
         },
         {
          "ECDF": 0.40384615384615385,
          "beak length (mm)": 10.4,
          "species": "fortis"
         },
         {
          "ECDF": 0.40705128205128205,
          "beak length (mm)": 10.4,
          "species": "fortis"
         },
         {
          "ECDF": 0.40705128205128205,
          "beak length (mm)": 10.4,
          "species": "fortis"
         },
         {
          "ECDF": 0.41025641025641024,
          "beak length (mm)": 10.4,
          "species": "fortis"
         },
         {
          "ECDF": 0.41025641025641024,
          "beak length (mm)": 10.4,
          "species": "fortis"
         },
         {
          "ECDF": 0.41346153846153844,
          "beak length (mm)": 10.4,
          "species": "fortis"
         },
         {
          "ECDF": 0.41346153846153844,
          "beak length (mm)": 10.4,
          "species": "fortis"
         },
         {
          "ECDF": 0.4166666666666667,
          "beak length (mm)": 10.4,
          "species": "fortis"
         },
         {
          "ECDF": 0.4166666666666667,
          "beak length (mm)": 10.4,
          "species": "fortis"
         },
         {
          "ECDF": 0.4198717948717949,
          "beak length (mm)": 10.4,
          "species": "fortis"
         },
         {
          "ECDF": 0.4198717948717949,
          "beak length (mm)": 10.4,
          "species": "fortis"
         },
         {
          "ECDF": 0.4230769230769231,
          "beak length (mm)": 10.4,
          "species": "fortis"
         },
         {
          "ECDF": 0.4230769230769231,
          "beak length (mm)": 10.4,
          "species": "fortis"
         },
         {
          "ECDF": 0.42628205128205127,
          "beak length (mm)": 10.4,
          "species": "fortis"
         },
         {
          "ECDF": 0.42628205128205127,
          "beak length (mm)": 10.4,
          "species": "fortis"
         },
         {
          "ECDF": 0.42948717948717946,
          "beak length (mm)": 10.4,
          "species": "fortis"
         },
         {
          "ECDF": 0.42948717948717946,
          "beak length (mm)": 10.4,
          "species": "fortis"
         },
         {
          "ECDF": 0.4326923076923077,
          "beak length (mm)": 10.4,
          "species": "fortis"
         },
         {
          "ECDF": 0.4326923076923077,
          "beak length (mm)": 10.5,
          "species": "fortis"
         },
         {
          "ECDF": 0.4358974358974359,
          "beak length (mm)": 10.5,
          "species": "fortis"
         },
         {
          "ECDF": 0.4358974358974359,
          "beak length (mm)": 10.5,
          "species": "fortis"
         },
         {
          "ECDF": 0.4391025641025641,
          "beak length (mm)": 10.5,
          "species": "fortis"
         },
         {
          "ECDF": 0.4391025641025641,
          "beak length (mm)": 10.5,
          "species": "fortis"
         },
         {
          "ECDF": 0.4423076923076923,
          "beak length (mm)": 10.5,
          "species": "fortis"
         },
         {
          "ECDF": 0.4423076923076923,
          "beak length (mm)": 10.5,
          "species": "fortis"
         },
         {
          "ECDF": 0.44551282051282054,
          "beak length (mm)": 10.5,
          "species": "fortis"
         },
         {
          "ECDF": 0.44551282051282054,
          "beak length (mm)": 10.5,
          "species": "fortis"
         },
         {
          "ECDF": 0.44871794871794873,
          "beak length (mm)": 10.5,
          "species": "fortis"
         },
         {
          "ECDF": 0.44871794871794873,
          "beak length (mm)": 10.5,
          "species": "fortis"
         },
         {
          "ECDF": 0.4519230769230769,
          "beak length (mm)": 10.5,
          "species": "fortis"
         },
         {
          "ECDF": 0.4519230769230769,
          "beak length (mm)": 10.5,
          "species": "fortis"
         },
         {
          "ECDF": 0.4551282051282051,
          "beak length (mm)": 10.5,
          "species": "fortis"
         },
         {
          "ECDF": 0.4551282051282051,
          "beak length (mm)": 10.5,
          "species": "fortis"
         },
         {
          "ECDF": 0.4583333333333333,
          "beak length (mm)": 10.5,
          "species": "fortis"
         },
         {
          "ECDF": 0.4583333333333333,
          "beak length (mm)": 10.5,
          "species": "fortis"
         },
         {
          "ECDF": 0.46153846153846156,
          "beak length (mm)": 10.5,
          "species": "fortis"
         },
         {
          "ECDF": 0.46153846153846156,
          "beak length (mm)": 10.5,
          "species": "fortis"
         },
         {
          "ECDF": 0.46474358974358976,
          "beak length (mm)": 10.5,
          "species": "fortis"
         },
         {
          "ECDF": 0.46474358974358976,
          "beak length (mm)": 10.5,
          "species": "fortis"
         },
         {
          "ECDF": 0.46794871794871795,
          "beak length (mm)": 10.5,
          "species": "fortis"
         },
         {
          "ECDF": 0.46794871794871795,
          "beak length (mm)": 10.5,
          "species": "fortis"
         },
         {
          "ECDF": 0.47115384615384615,
          "beak length (mm)": 10.5,
          "species": "fortis"
         },
         {
          "ECDF": 0.47115384615384615,
          "beak length (mm)": 10.5,
          "species": "fortis"
         },
         {
          "ECDF": 0.47435897435897434,
          "beak length (mm)": 10.5,
          "species": "fortis"
         },
         {
          "ECDF": 0.47435897435897434,
          "beak length (mm)": 10.5,
          "species": "fortis"
         },
         {
          "ECDF": 0.4775641025641026,
          "beak length (mm)": 10.5,
          "species": "fortis"
         },
         {
          "ECDF": 0.4775641025641026,
          "beak length (mm)": 10.5,
          "species": "fortis"
         },
         {
          "ECDF": 0.4807692307692308,
          "beak length (mm)": 10.5,
          "species": "fortis"
         },
         {
          "ECDF": 0.4807692307692308,
          "beak length (mm)": 10.5,
          "species": "fortis"
         },
         {
          "ECDF": 0.483974358974359,
          "beak length (mm)": 10.5,
          "species": "fortis"
         },
         {
          "ECDF": 0.483974358974359,
          "beak length (mm)": 10.5,
          "species": "fortis"
         },
         {
          "ECDF": 0.48717948717948717,
          "beak length (mm)": 10.5,
          "species": "fortis"
         },
         {
          "ECDF": 0.48717948717948717,
          "beak length (mm)": 10.5,
          "species": "fortis"
         },
         {
          "ECDF": 0.49038461538461536,
          "beak length (mm)": 10.5,
          "species": "fortis"
         },
         {
          "ECDF": 0.49038461538461536,
          "beak length (mm)": 10.5,
          "species": "fortis"
         },
         {
          "ECDF": 0.4935897435897436,
          "beak length (mm)": 10.5,
          "species": "fortis"
         },
         {
          "ECDF": 0.4935897435897436,
          "beak length (mm)": 10.53,
          "species": "fortis"
         },
         {
          "ECDF": 0.4967948717948718,
          "beak length (mm)": 10.53,
          "species": "fortis"
         },
         {
          "ECDF": 0.4967948717948718,
          "beak length (mm)": 10.55,
          "species": "fortis"
         },
         {
          "ECDF": 0.5,
          "beak length (mm)": 10.55,
          "species": "fortis"
         },
         {
          "ECDF": 0.5,
          "beak length (mm)": 10.6,
          "species": "fortis"
         },
         {
          "ECDF": 0.5032051282051282,
          "beak length (mm)": 10.6,
          "species": "fortis"
         },
         {
          "ECDF": 0.5032051282051282,
          "beak length (mm)": 10.6,
          "species": "fortis"
         },
         {
          "ECDF": 0.5064102564102564,
          "beak length (mm)": 10.6,
          "species": "fortis"
         },
         {
          "ECDF": 0.5064102564102564,
          "beak length (mm)": 10.6,
          "species": "fortis"
         },
         {
          "ECDF": 0.5096153846153846,
          "beak length (mm)": 10.6,
          "species": "fortis"
         },
         {
          "ECDF": 0.5096153846153846,
          "beak length (mm)": 10.6,
          "species": "fortis"
         },
         {
          "ECDF": 0.5128205128205128,
          "beak length (mm)": 10.6,
          "species": "fortis"
         },
         {
          "ECDF": 0.5128205128205128,
          "beak length (mm)": 10.6,
          "species": "fortis"
         },
         {
          "ECDF": 0.5160256410256411,
          "beak length (mm)": 10.6,
          "species": "fortis"
         },
         {
          "ECDF": 0.5160256410256411,
          "beak length (mm)": 10.6,
          "species": "fortis"
         },
         {
          "ECDF": 0.5192307692307693,
          "beak length (mm)": 10.6,
          "species": "fortis"
         },
         {
          "ECDF": 0.5192307692307693,
          "beak length (mm)": 10.6,
          "species": "fortis"
         },
         {
          "ECDF": 0.5224358974358975,
          "beak length (mm)": 10.6,
          "species": "fortis"
         },
         {
          "ECDF": 0.5224358974358975,
          "beak length (mm)": 10.6,
          "species": "fortis"
         },
         {
          "ECDF": 0.5256410256410257,
          "beak length (mm)": 10.6,
          "species": "fortis"
         },
         {
          "ECDF": 0.5256410256410257,
          "beak length (mm)": 10.6,
          "species": "fortis"
         },
         {
          "ECDF": 0.5288461538461539,
          "beak length (mm)": 10.6,
          "species": "fortis"
         },
         {
          "ECDF": 0.5288461538461539,
          "beak length (mm)": 10.6,
          "species": "fortis"
         },
         {
          "ECDF": 0.532051282051282,
          "beak length (mm)": 10.6,
          "species": "fortis"
         },
         {
          "ECDF": 0.532051282051282,
          "beak length (mm)": 10.6,
          "species": "fortis"
         },
         {
          "ECDF": 0.5352564102564102,
          "beak length (mm)": 10.6,
          "species": "fortis"
         },
         {
          "ECDF": 0.5352564102564102,
          "beak length (mm)": 10.7,
          "species": "fortis"
         },
         {
          "ECDF": 0.5384615384615384,
          "beak length (mm)": 10.7,
          "species": "fortis"
         },
         {
          "ECDF": 0.5384615384615384,
          "beak length (mm)": 10.7,
          "species": "fortis"
         },
         {
          "ECDF": 0.5416666666666666,
          "beak length (mm)": 10.7,
          "species": "fortis"
         },
         {
          "ECDF": 0.5416666666666666,
          "beak length (mm)": 10.7,
          "species": "fortis"
         },
         {
          "ECDF": 0.5448717948717948,
          "beak length (mm)": 10.7,
          "species": "fortis"
         },
         {
          "ECDF": 0.5448717948717948,
          "beak length (mm)": 10.7,
          "species": "fortis"
         },
         {
          "ECDF": 0.5480769230769231,
          "beak length (mm)": 10.7,
          "species": "fortis"
         },
         {
          "ECDF": 0.5480769230769231,
          "beak length (mm)": 10.7,
          "species": "fortis"
         },
         {
          "ECDF": 0.5512820512820513,
          "beak length (mm)": 10.7,
          "species": "fortis"
         },
         {
          "ECDF": 0.5512820512820513,
          "beak length (mm)": 10.7,
          "species": "fortis"
         },
         {
          "ECDF": 0.5544871794871795,
          "beak length (mm)": 10.7,
          "species": "fortis"
         },
         {
          "ECDF": 0.5544871794871795,
          "beak length (mm)": 10.7,
          "species": "fortis"
         },
         {
          "ECDF": 0.5576923076923077,
          "beak length (mm)": 10.7,
          "species": "fortis"
         },
         {
          "ECDF": 0.5576923076923077,
          "beak length (mm)": 10.7,
          "species": "fortis"
         },
         {
          "ECDF": 0.5608974358974359,
          "beak length (mm)": 10.7,
          "species": "fortis"
         },
         {
          "ECDF": 0.5608974358974359,
          "beak length (mm)": 10.7,
          "species": "fortis"
         },
         {
          "ECDF": 0.5641025641025641,
          "beak length (mm)": 10.7,
          "species": "fortis"
         },
         {
          "ECDF": 0.5641025641025641,
          "beak length (mm)": 10.7,
          "species": "fortis"
         },
         {
          "ECDF": 0.5673076923076923,
          "beak length (mm)": 10.7,
          "species": "fortis"
         },
         {
          "ECDF": 0.5673076923076923,
          "beak length (mm)": 10.7,
          "species": "fortis"
         },
         {
          "ECDF": 0.5705128205128205,
          "beak length (mm)": 10.7,
          "species": "fortis"
         },
         {
          "ECDF": 0.5705128205128205,
          "beak length (mm)": 10.73,
          "species": "fortis"
         },
         {
          "ECDF": 0.5737179487179487,
          "beak length (mm)": 10.73,
          "species": "fortis"
         },
         {
          "ECDF": 0.5737179487179487,
          "beak length (mm)": 10.73,
          "species": "fortis"
         },
         {
          "ECDF": 0.5769230769230769,
          "beak length (mm)": 10.73,
          "species": "fortis"
         },
         {
          "ECDF": 0.5769230769230769,
          "beak length (mm)": 10.8,
          "species": "fortis"
         },
         {
          "ECDF": 0.5801282051282052,
          "beak length (mm)": 10.8,
          "species": "fortis"
         },
         {
          "ECDF": 0.5801282051282052,
          "beak length (mm)": 10.8,
          "species": "fortis"
         },
         {
          "ECDF": 0.5833333333333334,
          "beak length (mm)": 10.8,
          "species": "fortis"
         },
         {
          "ECDF": 0.5833333333333334,
          "beak length (mm)": 10.8,
          "species": "fortis"
         },
         {
          "ECDF": 0.5865384615384616,
          "beak length (mm)": 10.8,
          "species": "fortis"
         },
         {
          "ECDF": 0.5865384615384616,
          "beak length (mm)": 10.8,
          "species": "fortis"
         },
         {
          "ECDF": 0.5897435897435898,
          "beak length (mm)": 10.8,
          "species": "fortis"
         },
         {
          "ECDF": 0.5897435897435898,
          "beak length (mm)": 10.8,
          "species": "fortis"
         },
         {
          "ECDF": 0.592948717948718,
          "beak length (mm)": 10.8,
          "species": "fortis"
         },
         {
          "ECDF": 0.592948717948718,
          "beak length (mm)": 10.8,
          "species": "fortis"
         },
         {
          "ECDF": 0.5961538461538461,
          "beak length (mm)": 10.8,
          "species": "fortis"
         },
         {
          "ECDF": 0.5961538461538461,
          "beak length (mm)": 10.8,
          "species": "fortis"
         },
         {
          "ECDF": 0.5993589743589743,
          "beak length (mm)": 10.8,
          "species": "fortis"
         },
         {
          "ECDF": 0.5993589743589743,
          "beak length (mm)": 10.8,
          "species": "fortis"
         },
         {
          "ECDF": 0.6025641025641025,
          "beak length (mm)": 10.8,
          "species": "fortis"
         },
         {
          "ECDF": 0.6025641025641025,
          "beak length (mm)": 10.8,
          "species": "fortis"
         },
         {
          "ECDF": 0.6057692307692307,
          "beak length (mm)": 10.8,
          "species": "fortis"
         },
         {
          "ECDF": 0.6057692307692307,
          "beak length (mm)": 10.8,
          "species": "fortis"
         },
         {
          "ECDF": 0.6089743589743589,
          "beak length (mm)": 10.8,
          "species": "fortis"
         },
         {
          "ECDF": 0.6089743589743589,
          "beak length (mm)": 10.8,
          "species": "fortis"
         },
         {
          "ECDF": 0.6121794871794872,
          "beak length (mm)": 10.8,
          "species": "fortis"
         },
         {
          "ECDF": 0.6121794871794872,
          "beak length (mm)": 10.8,
          "species": "fortis"
         },
         {
          "ECDF": 0.6153846153846154,
          "beak length (mm)": 10.8,
          "species": "fortis"
         },
         {
          "ECDF": 0.6153846153846154,
          "beak length (mm)": 10.8,
          "species": "fortis"
         },
         {
          "ECDF": 0.6185897435897436,
          "beak length (mm)": 10.8,
          "species": "fortis"
         },
         {
          "ECDF": 0.6185897435897436,
          "beak length (mm)": 10.8,
          "species": "fortis"
         },
         {
          "ECDF": 0.6217948717948718,
          "beak length (mm)": 10.8,
          "species": "fortis"
         },
         {
          "ECDF": 0.6217948717948718,
          "beak length (mm)": 10.8,
          "species": "fortis"
         },
         {
          "ECDF": 0.625,
          "beak length (mm)": 10.8,
          "species": "fortis"
         },
         {
          "ECDF": 0.625,
          "beak length (mm)": 10.8,
          "species": "fortis"
         },
         {
          "ECDF": 0.6282051282051282,
          "beak length (mm)": 10.8,
          "species": "fortis"
         },
         {
          "ECDF": 0.6282051282051282,
          "beak length (mm)": 10.8,
          "species": "fortis"
         },
         {
          "ECDF": 0.6314102564102564,
          "beak length (mm)": 10.8,
          "species": "fortis"
         },
         {
          "ECDF": 0.6314102564102564,
          "beak length (mm)": 10.83,
          "species": "fortis"
         },
         {
          "ECDF": 0.6346153846153846,
          "beak length (mm)": 10.83,
          "species": "fortis"
         },
         {
          "ECDF": 0.6346153846153846,
          "beak length (mm)": 10.85,
          "species": "fortis"
         },
         {
          "ECDF": 0.6378205128205128,
          "beak length (mm)": 10.85,
          "species": "fortis"
         },
         {
          "ECDF": 0.6378205128205128,
          "beak length (mm)": 10.9,
          "species": "fortis"
         },
         {
          "ECDF": 0.6410256410256411,
          "beak length (mm)": 10.9,
          "species": "fortis"
         },
         {
          "ECDF": 0.6410256410256411,
          "beak length (mm)": 10.9,
          "species": "fortis"
         },
         {
          "ECDF": 0.6442307692307693,
          "beak length (mm)": 10.9,
          "species": "fortis"
         },
         {
          "ECDF": 0.6442307692307693,
          "beak length (mm)": 10.9,
          "species": "fortis"
         },
         {
          "ECDF": 0.6474358974358975,
          "beak length (mm)": 10.9,
          "species": "fortis"
         },
         {
          "ECDF": 0.6474358974358975,
          "beak length (mm)": 10.9,
          "species": "fortis"
         },
         {
          "ECDF": 0.6506410256410257,
          "beak length (mm)": 10.9,
          "species": "fortis"
         },
         {
          "ECDF": 0.6506410256410257,
          "beak length (mm)": 10.9,
          "species": "fortis"
         },
         {
          "ECDF": 0.6538461538461539,
          "beak length (mm)": 10.9,
          "species": "fortis"
         },
         {
          "ECDF": 0.6538461538461539,
          "beak length (mm)": 10.9,
          "species": "fortis"
         },
         {
          "ECDF": 0.657051282051282,
          "beak length (mm)": 10.9,
          "species": "fortis"
         },
         {
          "ECDF": 0.657051282051282,
          "beak length (mm)": 10.9,
          "species": "fortis"
         },
         {
          "ECDF": 0.6602564102564102,
          "beak length (mm)": 10.9,
          "species": "fortis"
         },
         {
          "ECDF": 0.6602564102564102,
          "beak length (mm)": 10.9,
          "species": "fortis"
         },
         {
          "ECDF": 0.6634615384615384,
          "beak length (mm)": 10.9,
          "species": "fortis"
         },
         {
          "ECDF": 0.6634615384615384,
          "beak length (mm)": 10.9,
          "species": "fortis"
         },
         {
          "ECDF": 0.6666666666666666,
          "beak length (mm)": 10.9,
          "species": "fortis"
         },
         {
          "ECDF": 0.6666666666666666,
          "beak length (mm)": 10.9,
          "species": "fortis"
         },
         {
          "ECDF": 0.6698717948717948,
          "beak length (mm)": 10.9,
          "species": "fortis"
         },
         {
          "ECDF": 0.6698717948717948,
          "beak length (mm)": 10.9,
          "species": "fortis"
         },
         {
          "ECDF": 0.6730769230769231,
          "beak length (mm)": 10.9,
          "species": "fortis"
         },
         {
          "ECDF": 0.6730769230769231,
          "beak length (mm)": 10.9,
          "species": "fortis"
         },
         {
          "ECDF": 0.6762820512820513,
          "beak length (mm)": 10.9,
          "species": "fortis"
         },
         {
          "ECDF": 0.6762820512820513,
          "beak length (mm)": 10.9,
          "species": "fortis"
         },
         {
          "ECDF": 0.6794871794871795,
          "beak length (mm)": 10.9,
          "species": "fortis"
         },
         {
          "ECDF": 0.6794871794871795,
          "beak length (mm)": 10.9,
          "species": "fortis"
         },
         {
          "ECDF": 0.6826923076923077,
          "beak length (mm)": 10.9,
          "species": "fortis"
         },
         {
          "ECDF": 0.6826923076923077,
          "beak length (mm)": 10.9,
          "species": "fortis"
         },
         {
          "ECDF": 0.6858974358974359,
          "beak length (mm)": 10.9,
          "species": "fortis"
         },
         {
          "ECDF": 0.6858974358974359,
          "beak length (mm)": 10.9,
          "species": "fortis"
         },
         {
          "ECDF": 0.6891025641025641,
          "beak length (mm)": 10.9,
          "species": "fortis"
         },
         {
          "ECDF": 0.6891025641025641,
          "beak length (mm)": 10.9,
          "species": "fortis"
         },
         {
          "ECDF": 0.6923076923076923,
          "beak length (mm)": 10.9,
          "species": "fortis"
         },
         {
          "ECDF": 0.6923076923076923,
          "beak length (mm)": 10.9,
          "species": "fortis"
         },
         {
          "ECDF": 0.6955128205128205,
          "beak length (mm)": 10.9,
          "species": "fortis"
         },
         {
          "ECDF": 0.6955128205128205,
          "beak length (mm)": 10.9,
          "species": "fortis"
         },
         {
          "ECDF": 0.6987179487179487,
          "beak length (mm)": 10.9,
          "species": "fortis"
         },
         {
          "ECDF": 0.6987179487179487,
          "beak length (mm)": 10.95,
          "species": "fortis"
         },
         {
          "ECDF": 0.7019230769230769,
          "beak length (mm)": 10.95,
          "species": "fortis"
         },
         {
          "ECDF": 0.7019230769230769,
          "beak length (mm)": 10.95,
          "species": "fortis"
         },
         {
          "ECDF": 0.7051282051282052,
          "beak length (mm)": 10.95,
          "species": "fortis"
         },
         {
          "ECDF": 0.7051282051282052,
          "beak length (mm)": 10.95,
          "species": "fortis"
         },
         {
          "ECDF": 0.7083333333333334,
          "beak length (mm)": 10.95,
          "species": "fortis"
         },
         {
          "ECDF": 0.7083333333333334,
          "beak length (mm)": 11,
          "species": "fortis"
         },
         {
          "ECDF": 0.7115384615384616,
          "beak length (mm)": 11,
          "species": "fortis"
         },
         {
          "ECDF": 0.7115384615384616,
          "beak length (mm)": 11,
          "species": "fortis"
         },
         {
          "ECDF": 0.7147435897435898,
          "beak length (mm)": 11,
          "species": "fortis"
         },
         {
          "ECDF": 0.7147435897435898,
          "beak length (mm)": 11,
          "species": "fortis"
         },
         {
          "ECDF": 0.717948717948718,
          "beak length (mm)": 11,
          "species": "fortis"
         },
         {
          "ECDF": 0.717948717948718,
          "beak length (mm)": 11,
          "species": "fortis"
         },
         {
          "ECDF": 0.7211538461538461,
          "beak length (mm)": 11,
          "species": "fortis"
         },
         {
          "ECDF": 0.7211538461538461,
          "beak length (mm)": 11,
          "species": "fortis"
         },
         {
          "ECDF": 0.7243589743589743,
          "beak length (mm)": 11,
          "species": "fortis"
         },
         {
          "ECDF": 0.7243589743589743,
          "beak length (mm)": 11,
          "species": "fortis"
         },
         {
          "ECDF": 0.7275641025641025,
          "beak length (mm)": 11,
          "species": "fortis"
         },
         {
          "ECDF": 0.7275641025641025,
          "beak length (mm)": 11,
          "species": "fortis"
         },
         {
          "ECDF": 0.7307692307692307,
          "beak length (mm)": 11,
          "species": "fortis"
         },
         {
          "ECDF": 0.7307692307692307,
          "beak length (mm)": 11,
          "species": "fortis"
         },
         {
          "ECDF": 0.7339743589743589,
          "beak length (mm)": 11,
          "species": "fortis"
         },
         {
          "ECDF": 0.7339743589743589,
          "beak length (mm)": 11,
          "species": "fortis"
         },
         {
          "ECDF": 0.7371794871794872,
          "beak length (mm)": 11,
          "species": "fortis"
         },
         {
          "ECDF": 0.7371794871794872,
          "beak length (mm)": 11,
          "species": "fortis"
         },
         {
          "ECDF": 0.7403846153846154,
          "beak length (mm)": 11,
          "species": "fortis"
         },
         {
          "ECDF": 0.7403846153846154,
          "beak length (mm)": 11,
          "species": "fortis"
         },
         {
          "ECDF": 0.7435897435897436,
          "beak length (mm)": 11,
          "species": "fortis"
         },
         {
          "ECDF": 0.7435897435897436,
          "beak length (mm)": 11,
          "species": "fortis"
         },
         {
          "ECDF": 0.7467948717948718,
          "beak length (mm)": 11,
          "species": "fortis"
         },
         {
          "ECDF": 0.7467948717948718,
          "beak length (mm)": 11,
          "species": "fortis"
         },
         {
          "ECDF": 0.75,
          "beak length (mm)": 11,
          "species": "fortis"
         },
         {
          "ECDF": 0.75,
          "beak length (mm)": 11,
          "species": "fortis"
         },
         {
          "ECDF": 0.7532051282051282,
          "beak length (mm)": 11,
          "species": "fortis"
         },
         {
          "ECDF": 0.7532051282051282,
          "beak length (mm)": 11,
          "species": "fortis"
         },
         {
          "ECDF": 0.7564102564102564,
          "beak length (mm)": 11,
          "species": "fortis"
         },
         {
          "ECDF": 0.7564102564102564,
          "beak length (mm)": 11,
          "species": "fortis"
         },
         {
          "ECDF": 0.7596153846153846,
          "beak length (mm)": 11,
          "species": "fortis"
         },
         {
          "ECDF": 0.7596153846153846,
          "beak length (mm)": 11,
          "species": "fortis"
         },
         {
          "ECDF": 0.7628205128205128,
          "beak length (mm)": 11,
          "species": "fortis"
         },
         {
          "ECDF": 0.7628205128205128,
          "beak length (mm)": 11,
          "species": "fortis"
         },
         {
          "ECDF": 0.7660256410256411,
          "beak length (mm)": 11,
          "species": "fortis"
         },
         {
          "ECDF": 0.7660256410256411,
          "beak length (mm)": 11,
          "species": "fortis"
         },
         {
          "ECDF": 0.7692307692307693,
          "beak length (mm)": 11,
          "species": "fortis"
         },
         {
          "ECDF": 0.7692307692307693,
          "beak length (mm)": 11,
          "species": "fortis"
         },
         {
          "ECDF": 0.7724358974358975,
          "beak length (mm)": 11,
          "species": "fortis"
         },
         {
          "ECDF": 0.7724358974358975,
          "beak length (mm)": 11,
          "species": "fortis"
         },
         {
          "ECDF": 0.7756410256410257,
          "beak length (mm)": 11,
          "species": "fortis"
         },
         {
          "ECDF": 0.7756410256410257,
          "beak length (mm)": 11,
          "species": "fortis"
         },
         {
          "ECDF": 0.7788461538461539,
          "beak length (mm)": 11,
          "species": "fortis"
         },
         {
          "ECDF": 0.7788461538461539,
          "beak length (mm)": 11,
          "species": "fortis"
         },
         {
          "ECDF": 0.782051282051282,
          "beak length (mm)": 11,
          "species": "fortis"
         },
         {
          "ECDF": 0.782051282051282,
          "beak length (mm)": 11.03,
          "species": "fortis"
         },
         {
          "ECDF": 0.7852564102564102,
          "beak length (mm)": 11.03,
          "species": "fortis"
         },
         {
          "ECDF": 0.7852564102564102,
          "beak length (mm)": 11.03,
          "species": "fortis"
         },
         {
          "ECDF": 0.7884615384615384,
          "beak length (mm)": 11.03,
          "species": "fortis"
         },
         {
          "ECDF": 0.7884615384615384,
          "beak length (mm)": 11.1,
          "species": "fortis"
         },
         {
          "ECDF": 0.7916666666666666,
          "beak length (mm)": 11.1,
          "species": "fortis"
         },
         {
          "ECDF": 0.7916666666666666,
          "beak length (mm)": 11.1,
          "species": "fortis"
         },
         {
          "ECDF": 0.7948717948717948,
          "beak length (mm)": 11.1,
          "species": "fortis"
         },
         {
          "ECDF": 0.7948717948717948,
          "beak length (mm)": 11.1,
          "species": "fortis"
         },
         {
          "ECDF": 0.7980769230769231,
          "beak length (mm)": 11.1,
          "species": "fortis"
         },
         {
          "ECDF": 0.7980769230769231,
          "beak length (mm)": 11.1,
          "species": "fortis"
         },
         {
          "ECDF": 0.8012820512820513,
          "beak length (mm)": 11.1,
          "species": "fortis"
         },
         {
          "ECDF": 0.8012820512820513,
          "beak length (mm)": 11.1,
          "species": "fortis"
         },
         {
          "ECDF": 0.8044871794871795,
          "beak length (mm)": 11.1,
          "species": "fortis"
         },
         {
          "ECDF": 0.8044871794871795,
          "beak length (mm)": 11.1,
          "species": "fortis"
         },
         {
          "ECDF": 0.8076923076923077,
          "beak length (mm)": 11.1,
          "species": "fortis"
         },
         {
          "ECDF": 0.8076923076923077,
          "beak length (mm)": 11.1,
          "species": "fortis"
         },
         {
          "ECDF": 0.8108974358974359,
          "beak length (mm)": 11.1,
          "species": "fortis"
         },
         {
          "ECDF": 0.8108974358974359,
          "beak length (mm)": 11.1,
          "species": "fortis"
         },
         {
          "ECDF": 0.8141025641025641,
          "beak length (mm)": 11.1,
          "species": "fortis"
         },
         {
          "ECDF": 0.8141025641025641,
          "beak length (mm)": 11.1,
          "species": "fortis"
         },
         {
          "ECDF": 0.8173076923076923,
          "beak length (mm)": 11.1,
          "species": "fortis"
         },
         {
          "ECDF": 0.8173076923076923,
          "beak length (mm)": 11.1,
          "species": "fortis"
         },
         {
          "ECDF": 0.8205128205128205,
          "beak length (mm)": 11.1,
          "species": "fortis"
         },
         {
          "ECDF": 0.8205128205128205,
          "beak length (mm)": 11.2,
          "species": "fortis"
         },
         {
          "ECDF": 0.8237179487179487,
          "beak length (mm)": 11.2,
          "species": "fortis"
         },
         {
          "ECDF": 0.8237179487179487,
          "beak length (mm)": 11.2,
          "species": "fortis"
         },
         {
          "ECDF": 0.8269230769230769,
          "beak length (mm)": 11.2,
          "species": "fortis"
         },
         {
          "ECDF": 0.8269230769230769,
          "beak length (mm)": 11.2,
          "species": "fortis"
         },
         {
          "ECDF": 0.8301282051282052,
          "beak length (mm)": 11.2,
          "species": "fortis"
         },
         {
          "ECDF": 0.8301282051282052,
          "beak length (mm)": 11.2,
          "species": "fortis"
         },
         {
          "ECDF": 0.8333333333333334,
          "beak length (mm)": 11.2,
          "species": "fortis"
         },
         {
          "ECDF": 0.8333333333333334,
          "beak length (mm)": 11.2,
          "species": "fortis"
         },
         {
          "ECDF": 0.8365384615384616,
          "beak length (mm)": 11.2,
          "species": "fortis"
         },
         {
          "ECDF": 0.8365384615384616,
          "beak length (mm)": 11.2,
          "species": "fortis"
         },
         {
          "ECDF": 0.8397435897435898,
          "beak length (mm)": 11.2,
          "species": "fortis"
         },
         {
          "ECDF": 0.8397435897435898,
          "beak length (mm)": 11.2,
          "species": "fortis"
         },
         {
          "ECDF": 0.842948717948718,
          "beak length (mm)": 11.2,
          "species": "fortis"
         },
         {
          "ECDF": 0.842948717948718,
          "beak length (mm)": 11.2,
          "species": "fortis"
         },
         {
          "ECDF": 0.8461538461538461,
          "beak length (mm)": 11.2,
          "species": "fortis"
         },
         {
          "ECDF": 0.8461538461538461,
          "beak length (mm)": 11.2,
          "species": "fortis"
         },
         {
          "ECDF": 0.8493589743589743,
          "beak length (mm)": 11.2,
          "species": "fortis"
         },
         {
          "ECDF": 0.8493589743589743,
          "beak length (mm)": 11.2,
          "species": "fortis"
         },
         {
          "ECDF": 0.8525641025641025,
          "beak length (mm)": 11.2,
          "species": "fortis"
         },
         {
          "ECDF": 0.8525641025641025,
          "beak length (mm)": 11.2,
          "species": "fortis"
         },
         {
          "ECDF": 0.8557692307692307,
          "beak length (mm)": 11.2,
          "species": "fortis"
         },
         {
          "ECDF": 0.8557692307692307,
          "beak length (mm)": 11.23,
          "species": "fortis"
         },
         {
          "ECDF": 0.8589743589743589,
          "beak length (mm)": 11.23,
          "species": "fortis"
         },
         {
          "ECDF": 0.8589743589743589,
          "beak length (mm)": 11.3,
          "species": "fortis"
         },
         {
          "ECDF": 0.8621794871794872,
          "beak length (mm)": 11.3,
          "species": "fortis"
         },
         {
          "ECDF": 0.8621794871794872,
          "beak length (mm)": 11.3,
          "species": "fortis"
         },
         {
          "ECDF": 0.8653846153846154,
          "beak length (mm)": 11.3,
          "species": "fortis"
         },
         {
          "ECDF": 0.8653846153846154,
          "beak length (mm)": 11.3,
          "species": "fortis"
         },
         {
          "ECDF": 0.8685897435897436,
          "beak length (mm)": 11.3,
          "species": "fortis"
         },
         {
          "ECDF": 0.8685897435897436,
          "beak length (mm)": 11.3,
          "species": "fortis"
         },
         {
          "ECDF": 0.8717948717948718,
          "beak length (mm)": 11.3,
          "species": "fortis"
         },
         {
          "ECDF": 0.8717948717948718,
          "beak length (mm)": 11.3,
          "species": "fortis"
         },
         {
          "ECDF": 0.875,
          "beak length (mm)": 11.3,
          "species": "fortis"
         },
         {
          "ECDF": 0.875,
          "beak length (mm)": 11.4,
          "species": "fortis"
         },
         {
          "ECDF": 0.8782051282051282,
          "beak length (mm)": 11.4,
          "species": "fortis"
         },
         {
          "ECDF": 0.8782051282051282,
          "beak length (mm)": 11.4,
          "species": "fortis"
         },
         {
          "ECDF": 0.8814102564102564,
          "beak length (mm)": 11.4,
          "species": "fortis"
         },
         {
          "ECDF": 0.8814102564102564,
          "beak length (mm)": 11.4,
          "species": "fortis"
         },
         {
          "ECDF": 0.8846153846153846,
          "beak length (mm)": 11.4,
          "species": "fortis"
         },
         {
          "ECDF": 0.8846153846153846,
          "beak length (mm)": 11.43,
          "species": "fortis"
         },
         {
          "ECDF": 0.8878205128205128,
          "beak length (mm)": 11.43,
          "species": "fortis"
         },
         {
          "ECDF": 0.8878205128205128,
          "beak length (mm)": 11.45,
          "species": "fortis"
         },
         {
          "ECDF": 0.8910256410256411,
          "beak length (mm)": 11.45,
          "species": "fortis"
         },
         {
          "ECDF": 0.8910256410256411,
          "beak length (mm)": 11.5,
          "species": "fortis"
         },
         {
          "ECDF": 0.8942307692307693,
          "beak length (mm)": 11.5,
          "species": "fortis"
         },
         {
          "ECDF": 0.8942307692307693,
          "beak length (mm)": 11.5,
          "species": "fortis"
         },
         {
          "ECDF": 0.8974358974358975,
          "beak length (mm)": 11.5,
          "species": "fortis"
         },
         {
          "ECDF": 0.8974358974358975,
          "beak length (mm)": 11.5,
          "species": "fortis"
         },
         {
          "ECDF": 0.9006410256410257,
          "beak length (mm)": 11.5,
          "species": "fortis"
         },
         {
          "ECDF": 0.9006410256410257,
          "beak length (mm)": 11.5,
          "species": "fortis"
         },
         {
          "ECDF": 0.9038461538461539,
          "beak length (mm)": 11.5,
          "species": "fortis"
         },
         {
          "ECDF": 0.9038461538461539,
          "beak length (mm)": 11.5,
          "species": "fortis"
         },
         {
          "ECDF": 0.907051282051282,
          "beak length (mm)": 11.5,
          "species": "fortis"
         },
         {
          "ECDF": 0.907051282051282,
          "beak length (mm)": 11.5,
          "species": "fortis"
         },
         {
          "ECDF": 0.9102564102564102,
          "beak length (mm)": 11.5,
          "species": "fortis"
         },
         {
          "ECDF": 0.9102564102564102,
          "beak length (mm)": 11.5,
          "species": "fortis"
         },
         {
          "ECDF": 0.9134615384615384,
          "beak length (mm)": 11.5,
          "species": "fortis"
         },
         {
          "ECDF": 0.9134615384615384,
          "beak length (mm)": 11.5,
          "species": "fortis"
         },
         {
          "ECDF": 0.9166666666666666,
          "beak length (mm)": 11.5,
          "species": "fortis"
         },
         {
          "ECDF": 0.9166666666666666,
          "beak length (mm)": 11.53,
          "species": "fortis"
         },
         {
          "ECDF": 0.9198717948717948,
          "beak length (mm)": 11.53,
          "species": "fortis"
         },
         {
          "ECDF": 0.9198717948717948,
          "beak length (mm)": 11.6,
          "species": "fortis"
         },
         {
          "ECDF": 0.9230769230769231,
          "beak length (mm)": 11.6,
          "species": "fortis"
         },
         {
          "ECDF": 0.9230769230769231,
          "beak length (mm)": 11.6,
          "species": "fortis"
         },
         {
          "ECDF": 0.9262820512820513,
          "beak length (mm)": 11.6,
          "species": "fortis"
         },
         {
          "ECDF": 0.9262820512820513,
          "beak length (mm)": 11.6,
          "species": "fortis"
         },
         {
          "ECDF": 0.9294871794871795,
          "beak length (mm)": 11.6,
          "species": "fortis"
         },
         {
          "ECDF": 0.9294871794871795,
          "beak length (mm)": 11.6,
          "species": "fortis"
         },
         {
          "ECDF": 0.9326923076923077,
          "beak length (mm)": 11.6,
          "species": "fortis"
         },
         {
          "ECDF": 0.9326923076923077,
          "beak length (mm)": 11.6,
          "species": "fortis"
         },
         {
          "ECDF": 0.9358974358974359,
          "beak length (mm)": 11.6,
          "species": "fortis"
         },
         {
          "ECDF": 0.9358974358974359,
          "beak length (mm)": 11.6,
          "species": "fortis"
         },
         {
          "ECDF": 0.9391025641025641,
          "beak length (mm)": 11.6,
          "species": "fortis"
         },
         {
          "ECDF": 0.9391025641025641,
          "beak length (mm)": 11.7,
          "species": "fortis"
         },
         {
          "ECDF": 0.9423076923076923,
          "beak length (mm)": 11.7,
          "species": "fortis"
         },
         {
          "ECDF": 0.9423076923076923,
          "beak length (mm)": 11.7,
          "species": "fortis"
         },
         {
          "ECDF": 0.9455128205128205,
          "beak length (mm)": 11.7,
          "species": "fortis"
         },
         {
          "ECDF": 0.9455128205128205,
          "beak length (mm)": 11.7,
          "species": "fortis"
         },
         {
          "ECDF": 0.9487179487179487,
          "beak length (mm)": 11.7,
          "species": "fortis"
         },
         {
          "ECDF": 0.9487179487179487,
          "beak length (mm)": 11.73,
          "species": "fortis"
         },
         {
          "ECDF": 0.9519230769230769,
          "beak length (mm)": 11.73,
          "species": "fortis"
         },
         {
          "ECDF": 0.9519230769230769,
          "beak length (mm)": 11.73,
          "species": "fortis"
         },
         {
          "ECDF": 0.9551282051282052,
          "beak length (mm)": 11.73,
          "species": "fortis"
         },
         {
          "ECDF": 0.9551282051282052,
          "beak length (mm)": 11.75,
          "species": "fortis"
         },
         {
          "ECDF": 0.9583333333333334,
          "beak length (mm)": 11.75,
          "species": "fortis"
         },
         {
          "ECDF": 0.9583333333333334,
          "beak length (mm)": 11.8,
          "species": "fortis"
         },
         {
          "ECDF": 0.9615384615384616,
          "beak length (mm)": 11.8,
          "species": "fortis"
         },
         {
          "ECDF": 0.9615384615384616,
          "beak length (mm)": 11.8,
          "species": "fortis"
         },
         {
          "ECDF": 0.9647435897435898,
          "beak length (mm)": 11.8,
          "species": "fortis"
         },
         {
          "ECDF": 0.9647435897435898,
          "beak length (mm)": 11.8,
          "species": "fortis"
         },
         {
          "ECDF": 0.967948717948718,
          "beak length (mm)": 11.8,
          "species": "fortis"
         },
         {
          "ECDF": 0.967948717948718,
          "beak length (mm)": 11.8,
          "species": "fortis"
         },
         {
          "ECDF": 0.9711538461538461,
          "beak length (mm)": 11.8,
          "species": "fortis"
         },
         {
          "ECDF": 0.9711538461538461,
          "beak length (mm)": 11.8,
          "species": "fortis"
         },
         {
          "ECDF": 0.9743589743589743,
          "beak length (mm)": 11.8,
          "species": "fortis"
         },
         {
          "ECDF": 0.9743589743589743,
          "beak length (mm)": 11.83,
          "species": "fortis"
         },
         {
          "ECDF": 0.9775641025641025,
          "beak length (mm)": 11.83,
          "species": "fortis"
         },
         {
          "ECDF": 0.9775641025641025,
          "beak length (mm)": 11.88,
          "species": "fortis"
         },
         {
          "ECDF": 0.9807692307692307,
          "beak length (mm)": 11.88,
          "species": "fortis"
         },
         {
          "ECDF": 0.9807692307692307,
          "beak length (mm)": 11.9,
          "species": "fortis"
         },
         {
          "ECDF": 0.9839743589743589,
          "beak length (mm)": 11.9,
          "species": "fortis"
         },
         {
          "ECDF": 0.9839743589743589,
          "beak length (mm)": 11.9,
          "species": "fortis"
         },
         {
          "ECDF": 0.9871794871794872,
          "beak length (mm)": 11.9,
          "species": "fortis"
         },
         {
          "ECDF": 0.9871794871794872,
          "beak length (mm)": 12,
          "species": "fortis"
         },
         {
          "ECDF": 0.9903846153846154,
          "beak length (mm)": 12,
          "species": "fortis"
         },
         {
          "ECDF": 0.9903846153846154,
          "beak length (mm)": 12.1,
          "species": "fortis"
         },
         {
          "ECDF": 0.9935897435897436,
          "beak length (mm)": 12.1,
          "species": "fortis"
         },
         {
          "ECDF": 0.9935897435897436,
          "beak length (mm)": 12.2,
          "species": "fortis"
         },
         {
          "ECDF": 0.9967948717948718,
          "beak length (mm)": 12.2,
          "species": "fortis"
         },
         {
          "ECDF": 0.9967948717948718,
          "beak length (mm)": 12.2,
          "species": "fortis"
         },
         {
          "ECDF": 1,
          "beak length (mm)": 12.2,
          "species": "fortis"
         },
         {
          "ECDF": 1,
          "beak length (mm)": 12.2,
          "species": "fortis"
         },
         {
          "ECDF": 1,
          "beak length (mm)": 16.302,
          "species": "fortis"
         },
         {
          "ECDF": 0,
          "beak length (mm)": 8.338,
          "species": "scandens"
         },
         {
          "ECDF": 0,
          "beak length (mm)": 12.8,
          "species": "scandens"
         },
         {
          "ECDF": 0,
          "beak length (mm)": 12.8,
          "species": "scandens"
         },
         {
          "ECDF": 0.011494252873563218,
          "beak length (mm)": 12.8,
          "species": "scandens"
         },
         {
          "ECDF": 0.011494252873563218,
          "beak length (mm)": 12.8,
          "species": "scandens"
         },
         {
          "ECDF": 0.022988505747126436,
          "beak length (mm)": 12.8,
          "species": "scandens"
         },
         {
          "ECDF": 0.022988505747126436,
          "beak length (mm)": 12.8,
          "species": "scandens"
         },
         {
          "ECDF": 0.034482758620689655,
          "beak length (mm)": 12.8,
          "species": "scandens"
         },
         {
          "ECDF": 0.034482758620689655,
          "beak length (mm)": 12.9,
          "species": "scandens"
         },
         {
          "ECDF": 0.04597701149425287,
          "beak length (mm)": 12.9,
          "species": "scandens"
         },
         {
          "ECDF": 0.04597701149425287,
          "beak length (mm)": 12.9,
          "species": "scandens"
         },
         {
          "ECDF": 0.05747126436781609,
          "beak length (mm)": 12.9,
          "species": "scandens"
         },
         {
          "ECDF": 0.05747126436781609,
          "beak length (mm)": 12.9,
          "species": "scandens"
         },
         {
          "ECDF": 0.06896551724137931,
          "beak length (mm)": 12.9,
          "species": "scandens"
         },
         {
          "ECDF": 0.06896551724137931,
          "beak length (mm)": 13,
          "species": "scandens"
         },
         {
          "ECDF": 0.08045977011494253,
          "beak length (mm)": 13,
          "species": "scandens"
         },
         {
          "ECDF": 0.08045977011494253,
          "beak length (mm)": 13,
          "species": "scandens"
         },
         {
          "ECDF": 0.09195402298850575,
          "beak length (mm)": 13,
          "species": "scandens"
         },
         {
          "ECDF": 0.09195402298850575,
          "beak length (mm)": 13,
          "species": "scandens"
         },
         {
          "ECDF": 0.10344827586206896,
          "beak length (mm)": 13,
          "species": "scandens"
         },
         {
          "ECDF": 0.10344827586206896,
          "beak length (mm)": 13.1,
          "species": "scandens"
         },
         {
          "ECDF": 0.11494252873563218,
          "beak length (mm)": 13.1,
          "species": "scandens"
         },
         {
          "ECDF": 0.11494252873563218,
          "beak length (mm)": 13.1,
          "species": "scandens"
         },
         {
          "ECDF": 0.12643678160919541,
          "beak length (mm)": 13.1,
          "species": "scandens"
         },
         {
          "ECDF": 0.12643678160919541,
          "beak length (mm)": 13.25,
          "species": "scandens"
         },
         {
          "ECDF": 0.13793103448275862,
          "beak length (mm)": 13.25,
          "species": "scandens"
         },
         {
          "ECDF": 0.13793103448275862,
          "beak length (mm)": 13.4,
          "species": "scandens"
         },
         {
          "ECDF": 0.14942528735632185,
          "beak length (mm)": 13.4,
          "species": "scandens"
         },
         {
          "ECDF": 0.14942528735632185,
          "beak length (mm)": 13.4,
          "species": "scandens"
         },
         {
          "ECDF": 0.16091954022988506,
          "beak length (mm)": 13.4,
          "species": "scandens"
         },
         {
          "ECDF": 0.16091954022988506,
          "beak length (mm)": 13.4,
          "species": "scandens"
         },
         {
          "ECDF": 0.1724137931034483,
          "beak length (mm)": 13.4,
          "species": "scandens"
         },
         {
          "ECDF": 0.1724137931034483,
          "beak length (mm)": 13.4,
          "species": "scandens"
         },
         {
          "ECDF": 0.1839080459770115,
          "beak length (mm)": 13.4,
          "species": "scandens"
         },
         {
          "ECDF": 0.1839080459770115,
          "beak length (mm)": 13.4,
          "species": "scandens"
         },
         {
          "ECDF": 0.19540229885057472,
          "beak length (mm)": 13.4,
          "species": "scandens"
         },
         {
          "ECDF": 0.19540229885057472,
          "beak length (mm)": 13.5,
          "species": "scandens"
         },
         {
          "ECDF": 0.20689655172413793,
          "beak length (mm)": 13.5,
          "species": "scandens"
         },
         {
          "ECDF": 0.20689655172413793,
          "beak length (mm)": 13.5,
          "species": "scandens"
         },
         {
          "ECDF": 0.21839080459770116,
          "beak length (mm)": 13.5,
          "species": "scandens"
         },
         {
          "ECDF": 0.21839080459770116,
          "beak length (mm)": 13.5,
          "species": "scandens"
         },
         {
          "ECDF": 0.22988505747126436,
          "beak length (mm)": 13.5,
          "species": "scandens"
         },
         {
          "ECDF": 0.22988505747126436,
          "beak length (mm)": 13.5,
          "species": "scandens"
         },
         {
          "ECDF": 0.2413793103448276,
          "beak length (mm)": 13.5,
          "species": "scandens"
         },
         {
          "ECDF": 0.2413793103448276,
          "beak length (mm)": 13.5,
          "species": "scandens"
         },
         {
          "ECDF": 0.25287356321839083,
          "beak length (mm)": 13.5,
          "species": "scandens"
         },
         {
          "ECDF": 0.25287356321839083,
          "beak length (mm)": 13.5,
          "species": "scandens"
         },
         {
          "ECDF": 0.26436781609195403,
          "beak length (mm)": 13.5,
          "species": "scandens"
         },
         {
          "ECDF": 0.26436781609195403,
          "beak length (mm)": 13.6,
          "species": "scandens"
         },
         {
          "ECDF": 0.27586206896551724,
          "beak length (mm)": 13.6,
          "species": "scandens"
         },
         {
          "ECDF": 0.27586206896551724,
          "beak length (mm)": 13.6,
          "species": "scandens"
         },
         {
          "ECDF": 0.28735632183908044,
          "beak length (mm)": 13.6,
          "species": "scandens"
         },
         {
          "ECDF": 0.28735632183908044,
          "beak length (mm)": 13.7,
          "species": "scandens"
         },
         {
          "ECDF": 0.2988505747126437,
          "beak length (mm)": 13.7,
          "species": "scandens"
         },
         {
          "ECDF": 0.2988505747126437,
          "beak length (mm)": 13.7,
          "species": "scandens"
         },
         {
          "ECDF": 0.3103448275862069,
          "beak length (mm)": 13.7,
          "species": "scandens"
         },
         {
          "ECDF": 0.3103448275862069,
          "beak length (mm)": 13.8,
          "species": "scandens"
         },
         {
          "ECDF": 0.3218390804597701,
          "beak length (mm)": 13.8,
          "species": "scandens"
         },
         {
          "ECDF": 0.3218390804597701,
          "beak length (mm)": 13.8,
          "species": "scandens"
         },
         {
          "ECDF": 0.3333333333333333,
          "beak length (mm)": 13.8,
          "species": "scandens"
         },
         {
          "ECDF": 0.3333333333333333,
          "beak length (mm)": 13.8,
          "species": "scandens"
         },
         {
          "ECDF": 0.3448275862068966,
          "beak length (mm)": 13.8,
          "species": "scandens"
         },
         {
          "ECDF": 0.3448275862068966,
          "beak length (mm)": 13.8,
          "species": "scandens"
         },
         {
          "ECDF": 0.3563218390804598,
          "beak length (mm)": 13.8,
          "species": "scandens"
         },
         {
          "ECDF": 0.3563218390804598,
          "beak length (mm)": 13.9,
          "species": "scandens"
         },
         {
          "ECDF": 0.367816091954023,
          "beak length (mm)": 13.9,
          "species": "scandens"
         },
         {
          "ECDF": 0.367816091954023,
          "beak length (mm)": 13.9,
          "species": "scandens"
         },
         {
          "ECDF": 0.3793103448275862,
          "beak length (mm)": 13.9,
          "species": "scandens"
         },
         {
          "ECDF": 0.3793103448275862,
          "beak length (mm)": 13.9,
          "species": "scandens"
         },
         {
          "ECDF": 0.39080459770114945,
          "beak length (mm)": 13.9,
          "species": "scandens"
         },
         {
          "ECDF": 0.39080459770114945,
          "beak length (mm)": 13.95,
          "species": "scandens"
         },
         {
          "ECDF": 0.40229885057471265,
          "beak length (mm)": 13.95,
          "species": "scandens"
         },
         {
          "ECDF": 0.40229885057471265,
          "beak length (mm)": 14,
          "species": "scandens"
         },
         {
          "ECDF": 0.41379310344827586,
          "beak length (mm)": 14,
          "species": "scandens"
         },
         {
          "ECDF": 0.41379310344827586,
          "beak length (mm)": 14,
          "species": "scandens"
         },
         {
          "ECDF": 0.42528735632183906,
          "beak length (mm)": 14,
          "species": "scandens"
         },
         {
          "ECDF": 0.42528735632183906,
          "beak length (mm)": 14,
          "species": "scandens"
         },
         {
          "ECDF": 0.4367816091954023,
          "beak length (mm)": 14,
          "species": "scandens"
         },
         {
          "ECDF": 0.4367816091954023,
          "beak length (mm)": 14,
          "species": "scandens"
         },
         {
          "ECDF": 0.4482758620689655,
          "beak length (mm)": 14,
          "species": "scandens"
         },
         {
          "ECDF": 0.4482758620689655,
          "beak length (mm)": 14,
          "species": "scandens"
         },
         {
          "ECDF": 0.45977011494252873,
          "beak length (mm)": 14,
          "species": "scandens"
         },
         {
          "ECDF": 0.45977011494252873,
          "beak length (mm)": 14,
          "species": "scandens"
         },
         {
          "ECDF": 0.47126436781609193,
          "beak length (mm)": 14,
          "species": "scandens"
         },
         {
          "ECDF": 0.47126436781609193,
          "beak length (mm)": 14,
          "species": "scandens"
         },
         {
          "ECDF": 0.4827586206896552,
          "beak length (mm)": 14,
          "species": "scandens"
         },
         {
          "ECDF": 0.4827586206896552,
          "beak length (mm)": 14,
          "species": "scandens"
         },
         {
          "ECDF": 0.4942528735632184,
          "beak length (mm)": 14,
          "species": "scandens"
         },
         {
          "ECDF": 0.4942528735632184,
          "beak length (mm)": 14,
          "species": "scandens"
         },
         {
          "ECDF": 0.5057471264367817,
          "beak length (mm)": 14,
          "species": "scandens"
         },
         {
          "ECDF": 0.5057471264367817,
          "beak length (mm)": 14,
          "species": "scandens"
         },
         {
          "ECDF": 0.5172413793103449,
          "beak length (mm)": 14,
          "species": "scandens"
         },
         {
          "ECDF": 0.5172413793103449,
          "beak length (mm)": 14,
          "species": "scandens"
         },
         {
          "ECDF": 0.5287356321839081,
          "beak length (mm)": 14,
          "species": "scandens"
         },
         {
          "ECDF": 0.5287356321839081,
          "beak length (mm)": 14.05,
          "species": "scandens"
         },
         {
          "ECDF": 0.5402298850574713,
          "beak length (mm)": 14.05,
          "species": "scandens"
         },
         {
          "ECDF": 0.5402298850574713,
          "beak length (mm)": 14.05,
          "species": "scandens"
         },
         {
          "ECDF": 0.5517241379310345,
          "beak length (mm)": 14.05,
          "species": "scandens"
         },
         {
          "ECDF": 0.5517241379310345,
          "beak length (mm)": 14.15,
          "species": "scandens"
         },
         {
          "ECDF": 0.5632183908045977,
          "beak length (mm)": 14.15,
          "species": "scandens"
         },
         {
          "ECDF": 0.5632183908045977,
          "beak length (mm)": 14.2,
          "species": "scandens"
         },
         {
          "ECDF": 0.5747126436781609,
          "beak length (mm)": 14.2,
          "species": "scandens"
         },
         {
          "ECDF": 0.5747126436781609,
          "beak length (mm)": 14.2,
          "species": "scandens"
         },
         {
          "ECDF": 0.5862068965517241,
          "beak length (mm)": 14.2,
          "species": "scandens"
         },
         {
          "ECDF": 0.5862068965517241,
          "beak length (mm)": 14.2,
          "species": "scandens"
         },
         {
          "ECDF": 0.5977011494252874,
          "beak length (mm)": 14.2,
          "species": "scandens"
         },
         {
          "ECDF": 0.5977011494252874,
          "beak length (mm)": 14.2,
          "species": "scandens"
         },
         {
          "ECDF": 0.6091954022988506,
          "beak length (mm)": 14.2,
          "species": "scandens"
         },
         {
          "ECDF": 0.6091954022988506,
          "beak length (mm)": 14.2,
          "species": "scandens"
         },
         {
          "ECDF": 0.6206896551724138,
          "beak length (mm)": 14.2,
          "species": "scandens"
         },
         {
          "ECDF": 0.6206896551724138,
          "beak length (mm)": 14.23,
          "species": "scandens"
         },
         {
          "ECDF": 0.632183908045977,
          "beak length (mm)": 14.23,
          "species": "scandens"
         },
         {
          "ECDF": 0.632183908045977,
          "beak length (mm)": 14.35,
          "species": "scandens"
         },
         {
          "ECDF": 0.6436781609195402,
          "beak length (mm)": 14.35,
          "species": "scandens"
         },
         {
          "ECDF": 0.6436781609195402,
          "beak length (mm)": 14.4,
          "species": "scandens"
         },
         {
          "ECDF": 0.6551724137931034,
          "beak length (mm)": 14.4,
          "species": "scandens"
         },
         {
          "ECDF": 0.6551724137931034,
          "beak length (mm)": 14.4,
          "species": "scandens"
         },
         {
          "ECDF": 0.6666666666666666,
          "beak length (mm)": 14.4,
          "species": "scandens"
         },
         {
          "ECDF": 0.6666666666666666,
          "beak length (mm)": 14.45,
          "species": "scandens"
         },
         {
          "ECDF": 0.6781609195402298,
          "beak length (mm)": 14.45,
          "species": "scandens"
         },
         {
          "ECDF": 0.6781609195402298,
          "beak length (mm)": 14.55,
          "species": "scandens"
         },
         {
          "ECDF": 0.6896551724137931,
          "beak length (mm)": 14.55,
          "species": "scandens"
         },
         {
          "ECDF": 0.6896551724137931,
          "beak length (mm)": 14.6,
          "species": "scandens"
         },
         {
          "ECDF": 0.7011494252873564,
          "beak length (mm)": 14.6,
          "species": "scandens"
         },
         {
          "ECDF": 0.7011494252873564,
          "beak length (mm)": 14.6,
          "species": "scandens"
         },
         {
          "ECDF": 0.7126436781609196,
          "beak length (mm)": 14.6,
          "species": "scandens"
         },
         {
          "ECDF": 0.7126436781609196,
          "beak length (mm)": 14.6,
          "species": "scandens"
         },
         {
          "ECDF": 0.7241379310344828,
          "beak length (mm)": 14.6,
          "species": "scandens"
         },
         {
          "ECDF": 0.7241379310344828,
          "beak length (mm)": 14.63,
          "species": "scandens"
         },
         {
          "ECDF": 0.735632183908046,
          "beak length (mm)": 14.63,
          "species": "scandens"
         },
         {
          "ECDF": 0.735632183908046,
          "beak length (mm)": 14.73,
          "species": "scandens"
         },
         {
          "ECDF": 0.7471264367816092,
          "beak length (mm)": 14.73,
          "species": "scandens"
         },
         {
          "ECDF": 0.7471264367816092,
          "beak length (mm)": 14.75,
          "species": "scandens"
         },
         {
          "ECDF": 0.7586206896551724,
          "beak length (mm)": 14.75,
          "species": "scandens"
         },
         {
          "ECDF": 0.7586206896551724,
          "beak length (mm)": 14.8,
          "species": "scandens"
         },
         {
          "ECDF": 0.7701149425287356,
          "beak length (mm)": 14.8,
          "species": "scandens"
         },
         {
          "ECDF": 0.7701149425287356,
          "beak length (mm)": 14.83,
          "species": "scandens"
         },
         {
          "ECDF": 0.7816091954022989,
          "beak length (mm)": 14.83,
          "species": "scandens"
         },
         {
          "ECDF": 0.7816091954022989,
          "beak length (mm)": 14.9,
          "species": "scandens"
         },
         {
          "ECDF": 0.7931034482758621,
          "beak length (mm)": 14.9,
          "species": "scandens"
         },
         {
          "ECDF": 0.7931034482758621,
          "beak length (mm)": 14.9,
          "species": "scandens"
         },
         {
          "ECDF": 0.8045977011494253,
          "beak length (mm)": 14.9,
          "species": "scandens"
         },
         {
          "ECDF": 0.8045977011494253,
          "beak length (mm)": 14.9,
          "species": "scandens"
         },
         {
          "ECDF": 0.8160919540229885,
          "beak length (mm)": 14.9,
          "species": "scandens"
         },
         {
          "ECDF": 0.8160919540229885,
          "beak length (mm)": 14.9,
          "species": "scandens"
         },
         {
          "ECDF": 0.8275862068965517,
          "beak length (mm)": 14.9,
          "species": "scandens"
         },
         {
          "ECDF": 0.8275862068965517,
          "beak length (mm)": 14.9,
          "species": "scandens"
         },
         {
          "ECDF": 0.8390804597701149,
          "beak length (mm)": 14.9,
          "species": "scandens"
         },
         {
          "ECDF": 0.8390804597701149,
          "beak length (mm)": 14.95,
          "species": "scandens"
         },
         {
          "ECDF": 0.8505747126436781,
          "beak length (mm)": 14.95,
          "species": "scandens"
         },
         {
          "ECDF": 0.8505747126436781,
          "beak length (mm)": 15,
          "species": "scandens"
         },
         {
          "ECDF": 0.8620689655172413,
          "beak length (mm)": 15,
          "species": "scandens"
         },
         {
          "ECDF": 0.8620689655172413,
          "beak length (mm)": 15.05,
          "species": "scandens"
         },
         {
          "ECDF": 0.8735632183908046,
          "beak length (mm)": 15.05,
          "species": "scandens"
         },
         {
          "ECDF": 0.8735632183908046,
          "beak length (mm)": 15.1,
          "species": "scandens"
         },
         {
          "ECDF": 0.8850574712643678,
          "beak length (mm)": 15.1,
          "species": "scandens"
         },
         {
          "ECDF": 0.8850574712643678,
          "beak length (mm)": 15.1,
          "species": "scandens"
         },
         {
          "ECDF": 0.896551724137931,
          "beak length (mm)": 15.1,
          "species": "scandens"
         },
         {
          "ECDF": 0.896551724137931,
          "beak length (mm)": 15.1,
          "species": "scandens"
         },
         {
          "ECDF": 0.9080459770114943,
          "beak length (mm)": 15.1,
          "species": "scandens"
         },
         {
          "ECDF": 0.9080459770114943,
          "beak length (mm)": 15.1,
          "species": "scandens"
         },
         {
          "ECDF": 0.9195402298850575,
          "beak length (mm)": 15.1,
          "species": "scandens"
         },
         {
          "ECDF": 0.9195402298850575,
          "beak length (mm)": 15.14,
          "species": "scandens"
         },
         {
          "ECDF": 0.9310344827586207,
          "beak length (mm)": 15.14,
          "species": "scandens"
         },
         {
          "ECDF": 0.9310344827586207,
          "beak length (mm)": 15.2,
          "species": "scandens"
         },
         {
          "ECDF": 0.9425287356321839,
          "beak length (mm)": 15.2,
          "species": "scandens"
         },
         {
          "ECDF": 0.9425287356321839,
          "beak length (mm)": 15.3,
          "species": "scandens"
         },
         {
          "ECDF": 0.9540229885057471,
          "beak length (mm)": 15.3,
          "species": "scandens"
         },
         {
          "ECDF": 0.9540229885057471,
          "beak length (mm)": 15.54,
          "species": "scandens"
         },
         {
          "ECDF": 0.9655172413793104,
          "beak length (mm)": 15.54,
          "species": "scandens"
         },
         {
          "ECDF": 0.9655172413793104,
          "beak length (mm)": 15.6,
          "species": "scandens"
         },
         {
          "ECDF": 0.9770114942528736,
          "beak length (mm)": 15.6,
          "species": "scandens"
         },
         {
          "ECDF": 0.9770114942528736,
          "beak length (mm)": 15.73,
          "species": "scandens"
         },
         {
          "ECDF": 0.9885057471264368,
          "beak length (mm)": 15.73,
          "species": "scandens"
         },
         {
          "ECDF": 0.9885057471264368,
          "beak length (mm)": 15.94,
          "species": "scandens"
         },
         {
          "ECDF": 1,
          "beak length (mm)": 15.94,
          "species": "scandens"
         },
         {
          "ECDF": 1,
          "beak length (mm)": 15.94,
          "species": "scandens"
         },
         {
          "ECDF": 1,
          "beak length (mm)": 16.302,
          "species": "scandens"
         }
        ]
       },
       "encoding": {
        "color": {
         "field": "species",
         "type": "nominal"
        },
        "order": {
         "field": "beak length (mm)",
         "type": "quantitative"
        },
        "x": {
         "field": "beak length (mm)",
         "type": "quantitative"
        },
        "y": {
         "field": "ECDF",
         "type": "quantitative"
        }
       },
       "mark": "line"
      },
      "image/png": "[encoded data removed]",
      "text/plain": [
       "<VegaLite 2 object>\n",
       "\n",
       "If you see this message, it means the renderer has not been properly enabled\n",
       "for the frontend that you are using. For more information, see\n",
       "https://altair-viz.github.io/user_guide/troubleshooting.html\n"
      ]
     },
     "execution_count": 6,
     "metadata": {},
     "output_type": "execute_result"
    }
   ],
   "source": [
    "# Plot formal ECDF\n",
    "formal_ecdf = alt.Chart(df_1975_ecdf,\n",
    "                ).mark_line(\n",
    "                ).encode(\n",
    "                    x='beak length (mm):Q',\n",
    "                    y='ECDF:Q',\n",
    "                    color='species',\n",
    "                    order='beak length (mm):Q'\n",
    ")\n",
    "\n",
    "formal_ecdf"
   ]
  },
  {
   "cell_type": "code",
   "execution_count": 86,
   "metadata": {},
   "outputs": [
    {
     "data": {
      "text/html": [
       "<div>\n",
       "<style scoped>\n",
       "    .dataframe tbody tr th:only-of-type {\n",
       "        vertical-align: middle;\n",
       "    }\n",
       "\n",
       "    .dataframe tbody tr th {\n",
       "        vertical-align: top;\n",
       "    }\n",
       "\n",
       "    .dataframe thead th {\n",
       "        text-align: right;\n",
       "    }\n",
       "</style>\n",
       "<table border=\"1\" class=\"dataframe\">\n",
       "  <thead>\n",
       "    <tr style=\"text-align: right;\">\n",
       "      <th></th>\n",
       "      <th>bs sample</th>\n",
       "      <th>beak length (mm)</th>\n",
       "      <th>ecdf_y grouped by bs sample</th>\n",
       "    </tr>\n",
       "  </thead>\n",
       "  <tbody>\n",
       "    <tr>\n",
       "      <th>0</th>\n",
       "      <td>0</td>\n",
       "      <td>10.7</td>\n",
       "      <td>0.557692</td>\n",
       "    </tr>\n",
       "    <tr>\n",
       "      <th>1</th>\n",
       "      <td>0</td>\n",
       "      <td>10.6</td>\n",
       "      <td>0.532051</td>\n",
       "    </tr>\n",
       "    <tr>\n",
       "      <th>2</th>\n",
       "      <td>0</td>\n",
       "      <td>11.2</td>\n",
       "      <td>0.830128</td>\n",
       "    </tr>\n",
       "    <tr>\n",
       "      <th>3</th>\n",
       "      <td>0</td>\n",
       "      <td>10.5</td>\n",
       "      <td>0.464744</td>\n",
       "    </tr>\n",
       "    <tr>\n",
       "      <th>4</th>\n",
       "      <td>0</td>\n",
       "      <td>12.0</td>\n",
       "      <td>0.996795</td>\n",
       "    </tr>\n",
       "  </tbody>\n",
       "</table>\n",
       "</div>"
      ],
      "text/plain": [
       "   bs sample  beak length (mm)  ecdf_y grouped by bs sample\n",
       "0          0              10.7                     0.557692\n",
       "1          0              10.6                     0.532051\n",
       "2          0              11.2                     0.830128\n",
       "3          0              10.5                     0.464744\n",
       "4          0              12.0                     0.996795"
      ]
     },
     "execution_count": 86,
     "metadata": {},
     "output_type": "execute_result"
    }
   ],
   "source": [
    "# Draw bootstrap samples and populate dataframe with the samples\n",
    "depth_fortis = df_1975.loc[df_1975['species']=='fortis','beak length (mm)'].values\n",
    "depth_scandens = df_1975.loc[df_1975['species']=='scandens','beak length (mm)'].values\n",
    "\n",
    "bs_depth_fortis = boot.draw_bs_reps(depth_fortis, 'beak length (mm)', func=None, size=10000)\n",
    "bs_depth_scandens = boot.draw_bs_reps(depth_scandens, 'beak length (mm)', func=None, size=10000)\n",
    "bs_depth_fortis.head()"
   ]
  },
  {
   "cell_type": "code",
   "execution_count": 115,
   "metadata": {},
   "outputs": [
    {
     "data": {
      "text/html": [
       "<div>\n",
       "<style scoped>\n",
       "    .dataframe tbody tr th:only-of-type {\n",
       "        vertical-align: middle;\n",
       "    }\n",
       "\n",
       "    .dataframe tbody tr th {\n",
       "        vertical-align: top;\n",
       "    }\n",
       "\n",
       "    .dataframe thead th {\n",
       "        text-align: right;\n",
       "    }\n",
       "</style>\n",
       "<table border=\"1\" class=\"dataframe\">\n",
       "  <thead>\n",
       "    <tr style=\"text-align: right;\">\n",
       "      <th></th>\n",
       "      <th>beak length (mm)</th>\n",
       "      <th>bs ecdf max</th>\n",
       "      <th>bs ecdf min</th>\n",
       "    </tr>\n",
       "  </thead>\n",
       "  <tbody>\n",
       "    <tr>\n",
       "      <th>0</th>\n",
       "      <td>8.7</td>\n",
       "      <td>0.019231</td>\n",
       "      <td>0.003205</td>\n",
       "    </tr>\n",
       "    <tr>\n",
       "      <th>1</th>\n",
       "      <td>8.8</td>\n",
       "      <td>0.028846</td>\n",
       "      <td>0.003205</td>\n",
       "    </tr>\n",
       "    <tr>\n",
       "      <th>2</th>\n",
       "      <td>9.0</td>\n",
       "      <td>0.032051</td>\n",
       "      <td>0.003205</td>\n",
       "    </tr>\n",
       "    <tr>\n",
       "      <th>3</th>\n",
       "      <td>9.1</td>\n",
       "      <td>0.054487</td>\n",
       "      <td>0.003205</td>\n",
       "    </tr>\n",
       "    <tr>\n",
       "      <th>4</th>\n",
       "      <td>9.2</td>\n",
       "      <td>0.073718</td>\n",
       "      <td>0.003205</td>\n",
       "    </tr>\n",
       "  </tbody>\n",
       "</table>\n",
       "</div>"
      ],
      "text/plain": [
       "   beak length (mm)  bs ecdf max  bs ecdf min\n",
       "0               8.7     0.019231     0.003205\n",
       "1               8.8     0.028846     0.003205\n",
       "2               9.0     0.032051     0.003205\n",
       "3               9.1     0.054487     0.003205\n",
       "4               9.2     0.073718     0.003205"
      ]
     },
     "execution_count": 115,
     "metadata": {},
     "output_type": "execute_result"
    }
   ],
   "source": [
    "# fortis wrangling\n",
    "bs_depth_fortis_max_ecdf = bs_depth_fortis.groupby('beak length (mm)')['ecdf_y grouped by bs sample']\\\n",
    "        .max().reset_index().rename(columns={'ecdf_y grouped by bs sample':'bs ecdf max'})\n",
    "bs_depth_fortis_min_ecdf = bs_depth_fortis.groupby('beak length (mm)')['ecdf_y grouped by bs sample']\\\n",
    "        .min().reset_index().rename(columns={'ecdf_y grouped by bs sample':'bs ecdf min'})\n",
    "bs_depth_fortis_min_max = pd.merge(bs_depth_fortis_max_ecdf, bs_depth_fortis_min_ecdf)\n",
    "\n",
    "# scandens wrangling\n",
    "bs_depth_scandens_max_ecdf = bs_depth_scandens.groupby('beak length (mm)')['ecdf_y grouped by bs sample']\\\n",
    "        .max().reset_index().rename(columns={'ecdf_y grouped by bs sample':'bs ecdf max'})\n",
    "bs_depth_scandens_min_ecdf = bs_depth_scandens.groupby('beak length (mm)')['ecdf_y grouped by bs sample']\\\n",
    "        .min().reset_index().rename(columns={'ecdf_y grouped by bs sample':'bs ecdf min'})\n",
    "bs_depth_scandens_min_max = pd.merge(bs_depth_scandens_max_ecdf, bs_depth_scandens_min_ecdf)\n",
    "\n",
    "bs_depth_fortis_min_max.head()"
   ]
  },
  {
   "cell_type": "markdown",
   "metadata": {},
   "source": [
    "Problem: the ECDF min and max values are not monotonic. Is this always a possibility of bootstrapping or is it a bug? No not possible. All ECDFs must be monotonic, including bootsatrapped ones, and so finding the min and max ECDF values in the samples must also result in a monotonic sequence. Must be a bug.\n",
    "\n",
    "To troubleshoot, can keep the bootstrap sample ID number in the above df to trace. Need internet to search how to do this with split-apply-combine methods. Try .filter instead?"
   ]
  },
  {
   "cell_type": "code",
   "execution_count": 117,
   "metadata": {},
   "outputs": [
    {
     "ename": "TypeError",
     "evalue": "'numpy.float64' object is not callable",
     "output_type": "error",
     "traceback": [
      "\u001b[0;31m---------------------------------------------------------------------------\u001b[0m",
      "\u001b[0;31mTypeError\u001b[0m                                 Traceback (most recent call last)",
      "\u001b[0;32m<ipython-input-117-c23e5594509d>\u001b[0m in \u001b[0;36m<module>\u001b[0;34m()\u001b[0m\n\u001b[1;32m      1\u001b[0m \u001b[0;31m# fortis wrangling to try to include bs sample # in max ecdf dataframe [INCOMPLETE!!!]\u001b[0m\u001b[0;34m\u001b[0m\u001b[0;34m\u001b[0m\u001b[0m\n\u001b[0;32m----> 2\u001b[0;31m \u001b[0mbs_depth_fortis_max_ecdf\u001b[0m \u001b[0;34m=\u001b[0m \u001b[0mbs_depth_fortis\u001b[0m\u001b[0;34m.\u001b[0m\u001b[0mgroupby\u001b[0m\u001b[0;34m(\u001b[0m\u001b[0;34m'beak length (mm)'\u001b[0m\u001b[0;34m)\u001b[0m\u001b[0;34m.\u001b[0m\u001b[0mfilter\u001b[0m                            \u001b[0;34m(\u001b[0m\u001b[0mbs_depth_fortis\u001b[0m\u001b[0;34m[\u001b[0m\u001b[0;34m'ecdf_y grouped by bs sample'\u001b[0m\u001b[0;34m]\u001b[0m\u001b[0;34m.\u001b[0m\u001b[0mmax\u001b[0m\u001b[0;34m(\u001b[0m\u001b[0;34m)\u001b[0m\u001b[0;34m)\u001b[0m\u001b[0;34m\u001b[0m\u001b[0m\n\u001b[0m\u001b[1;32m      3\u001b[0m \u001b[0;34m\u001b[0m\u001b[0m\n\u001b[1;32m      4\u001b[0m \u001b[0mbs_depth_fortis_max_ecdf\u001b[0m\u001b[0;34m.\u001b[0m\u001b[0mhead\u001b[0m\u001b[0;34m(\u001b[0m\u001b[0;34m)\u001b[0m\u001b[0;34m\u001b[0m\u001b[0m\n",
      "\u001b[0;32m/anaconda/lib/python3.6/site-packages/pandas/core/groupby/groupby.py\u001b[0m in \u001b[0;36mfilter\u001b[0;34m(self, func, dropna, *args, **kwargs)\u001b[0m\n\u001b[1;32m   4564\u001b[0m             \u001b[0mobject\u001b[0m\u001b[0;34m.\u001b[0m\u001b[0m__setattr__\u001b[0m\u001b[0;34m(\u001b[0m\u001b[0mgroup\u001b[0m\u001b[0;34m,\u001b[0m \u001b[0;34m'name'\u001b[0m\u001b[0;34m,\u001b[0m \u001b[0mname\u001b[0m\u001b[0;34m)\u001b[0m\u001b[0;34m\u001b[0m\u001b[0m\n\u001b[1;32m   4565\u001b[0m \u001b[0;34m\u001b[0m\u001b[0m\n\u001b[0;32m-> 4566\u001b[0;31m             \u001b[0mres\u001b[0m \u001b[0;34m=\u001b[0m \u001b[0mfunc\u001b[0m\u001b[0;34m(\u001b[0m\u001b[0mgroup\u001b[0m\u001b[0;34m,\u001b[0m \u001b[0;34m*\u001b[0m\u001b[0margs\u001b[0m\u001b[0;34m,\u001b[0m \u001b[0;34m**\u001b[0m\u001b[0mkwargs\u001b[0m\u001b[0;34m)\u001b[0m\u001b[0;34m\u001b[0m\u001b[0m\n\u001b[0m\u001b[1;32m   4567\u001b[0m \u001b[0;34m\u001b[0m\u001b[0m\n\u001b[1;32m   4568\u001b[0m             \u001b[0;32mtry\u001b[0m\u001b[0;34m:\u001b[0m\u001b[0;34m\u001b[0m\u001b[0m\n",
      "\u001b[0;31mTypeError\u001b[0m: 'numpy.float64' object is not callable"
     ]
    }
   ],
   "source": [
    "# fortis wrangling to try to include bs sample # in max ecdf dataframe [INCOMPLETE!!!]\n",
    "bs_depth_fortis_max_ecdf = bs_depth_fortis.groupby('beak length (mm)').filter\\\n",
    "                            (bs_depth_fortis.groupby('beak length (mm)')['ecdf_y grouped by bs sample'].max())\n",
    "\n",
    "bs_depth_fortis_max_ecdf.head()"
   ]
  },
  {
   "cell_type": "code",
   "execution_count": 92,
   "metadata": {},
   "outputs": [],
   "source": [
    "# Plot the bootstrap points with opacity 0.3\n",
    "alt.data_transformers.enable('default', max_rows=None)\n",
    "bs_ecdf_fortis = alt.Chart(bs_depth_fortis_min_max,\n",
    "                ).mark_area(\n",
    "                    opacity=0.3\n",
    "                ).encode(\n",
    "                    x=alt.X('beak length (mm):Q'),\n",
    "                    y=alt.Y('bs ecdf min:Q', title='ECDF'),\n",
    "                    y2=alt.Y('bs ecdf max:Q',title='ECDF'),\n",
    "                    order='beak length (mm):Q')\n",
    "\n",
    "bs_ecdf_scandens = alt.Chart(bs_depth_scandens_min_max,\n",
    "                ).mark_area(\n",
    "                    color='orange',\n",
    "                    opacity=0.3\n",
    "                ).encode(\n",
    "                    x=alt.X('beak length (mm):Q'),\n",
    "                    y=alt.Y('bs ecdf min:Q',title='ECDF'),\n",
    "                    y2=alt.Y('bs ecdf max:Q',title='ECDF'),\n",
    "                    order='beak length (mm):Q')"
   ]
  },
  {
   "cell_type": "code",
   "execution_count": 93,
   "metadata": {},
   "outputs": [
    {
     "data": {
      "application/vnd.vegalite.v2+json": {
       "$schema": "https://vega.github.io/schema/vega-lite/v2.4.3.json",
       "config": {
        "view": {
         "height": 300,
         "width": 400
        }
       },
       "layer": [
        {
         "data": {
          "values": [
           {
            "ECDF": 0,
            "beak length (mm)": 8.338,
            "species": "fortis"
           },
           {
            "ECDF": 0,
            "beak length (mm)": 8.7,
            "species": "fortis"
           },
           {
            "ECDF": 0,
            "beak length (mm)": 8.7,
            "species": "fortis"
           },
           {
            "ECDF": 0.003205128205128205,
            "beak length (mm)": 8.7,
            "species": "fortis"
           },
           {
            "ECDF": 0.003205128205128205,
            "beak length (mm)": 8.8,
            "species": "fortis"
           },
           {
            "ECDF": 0.00641025641025641,
            "beak length (mm)": 8.8,
            "species": "fortis"
           },
           {
            "ECDF": 0.00641025641025641,
            "beak length (mm)": 9,
            "species": "fortis"
           },
           {
            "ECDF": 0.009615384615384616,
            "beak length (mm)": 9,
            "species": "fortis"
           },
           {
            "ECDF": 0.009615384615384616,
            "beak length (mm)": 9.1,
            "species": "fortis"
           },
           {
            "ECDF": 0.01282051282051282,
            "beak length (mm)": 9.1,
            "species": "fortis"
           },
           {
            "ECDF": 0.01282051282051282,
            "beak length (mm)": 9.1,
            "species": "fortis"
           },
           {
            "ECDF": 0.016025641025641024,
            "beak length (mm)": 9.1,
            "species": "fortis"
           },
           {
            "ECDF": 0.016025641025641024,
            "beak length (mm)": 9.1,
            "species": "fortis"
           },
           {
            "ECDF": 0.019230769230769232,
            "beak length (mm)": 9.1,
            "species": "fortis"
           },
           {
            "ECDF": 0.019230769230769232,
            "beak length (mm)": 9.2,
            "species": "fortis"
           },
           {
            "ECDF": 0.022435897435897436,
            "beak length (mm)": 9.2,
            "species": "fortis"
           },
           {
            "ECDF": 0.022435897435897436,
            "beak length (mm)": 9.2,
            "species": "fortis"
           },
           {
            "ECDF": 0.02564102564102564,
            "beak length (mm)": 9.2,
            "species": "fortis"
           },
           {
            "ECDF": 0.02564102564102564,
            "beak length (mm)": 9.2,
            "species": "fortis"
           },
           {
            "ECDF": 0.028846153846153848,
            "beak length (mm)": 9.2,
            "species": "fortis"
           },
           {
            "ECDF": 0.028846153846153848,
            "beak length (mm)": 9.3,
            "species": "fortis"
           },
           {
            "ECDF": 0.03205128205128205,
            "beak length (mm)": 9.3,
            "species": "fortis"
           },
           {
            "ECDF": 0.03205128205128205,
            "beak length (mm)": 9.3,
            "species": "fortis"
           },
           {
            "ECDF": 0.035256410256410256,
            "beak length (mm)": 9.3,
            "species": "fortis"
           },
           {
            "ECDF": 0.035256410256410256,
            "beak length (mm)": 9.4,
            "species": "fortis"
           },
           {
            "ECDF": 0.038461538461538464,
            "beak length (mm)": 9.4,
            "species": "fortis"
           },
           {
            "ECDF": 0.038461538461538464,
            "beak length (mm)": 9.4,
            "species": "fortis"
           },
           {
            "ECDF": 0.041666666666666664,
            "beak length (mm)": 9.4,
            "species": "fortis"
           },
           {
            "ECDF": 0.041666666666666664,
            "beak length (mm)": 9.4,
            "species": "fortis"
           },
           {
            "ECDF": 0.04487179487179487,
            "beak length (mm)": 9.4,
            "species": "fortis"
           },
           {
            "ECDF": 0.04487179487179487,
            "beak length (mm)": 9.5,
            "species": "fortis"
           },
           {
            "ECDF": 0.04807692307692308,
            "beak length (mm)": 9.5,
            "species": "fortis"
           },
           {
            "ECDF": 0.04807692307692308,
            "beak length (mm)": 9.5,
            "species": "fortis"
           },
           {
            "ECDF": 0.05128205128205128,
            "beak length (mm)": 9.5,
            "species": "fortis"
           },
           {
            "ECDF": 0.05128205128205128,
            "beak length (mm)": 9.5,
            "species": "fortis"
           },
           {
            "ECDF": 0.05448717948717949,
            "beak length (mm)": 9.5,
            "species": "fortis"
           },
           {
            "ECDF": 0.05448717948717949,
            "beak length (mm)": 9.6,
            "species": "fortis"
           },
           {
            "ECDF": 0.057692307692307696,
            "beak length (mm)": 9.6,
            "species": "fortis"
           },
           {
            "ECDF": 0.057692307692307696,
            "beak length (mm)": 9.6,
            "species": "fortis"
           },
           {
            "ECDF": 0.060897435897435896,
            "beak length (mm)": 9.6,
            "species": "fortis"
           },
           {
            "ECDF": 0.060897435897435896,
            "beak length (mm)": 9.6,
            "species": "fortis"
           },
           {
            "ECDF": 0.0641025641025641,
            "beak length (mm)": 9.6,
            "species": "fortis"
           },
           {
            "ECDF": 0.0641025641025641,
            "beak length (mm)": 9.6,
            "species": "fortis"
           },
           {
            "ECDF": 0.0673076923076923,
            "beak length (mm)": 9.6,
            "species": "fortis"
           },
           {
            "ECDF": 0.0673076923076923,
            "beak length (mm)": 9.6,
            "species": "fortis"
           },
           {
            "ECDF": 0.07051282051282051,
            "beak length (mm)": 9.6,
            "species": "fortis"
           },
           {
            "ECDF": 0.07051282051282051,
            "beak length (mm)": 9.6,
            "species": "fortis"
           },
           {
            "ECDF": 0.07371794871794872,
            "beak length (mm)": 9.6,
            "species": "fortis"
           },
           {
            "ECDF": 0.07371794871794872,
            "beak length (mm)": 9.6,
            "species": "fortis"
           },
           {
            "ECDF": 0.07692307692307693,
            "beak length (mm)": 9.6,
            "species": "fortis"
           },
           {
            "ECDF": 0.07692307692307693,
            "beak length (mm)": 9.6,
            "species": "fortis"
           },
           {
            "ECDF": 0.08012820512820513,
            "beak length (mm)": 9.6,
            "species": "fortis"
           },
           {
            "ECDF": 0.08012820512820513,
            "beak length (mm)": 9.63,
            "species": "fortis"
           },
           {
            "ECDF": 0.08333333333333333,
            "beak length (mm)": 9.63,
            "species": "fortis"
           },
           {
            "ECDF": 0.08333333333333333,
            "beak length (mm)": 9.65,
            "species": "fortis"
           },
           {
            "ECDF": 0.08653846153846154,
            "beak length (mm)": 9.65,
            "species": "fortis"
           },
           {
            "ECDF": 0.08653846153846154,
            "beak length (mm)": 9.7,
            "species": "fortis"
           },
           {
            "ECDF": 0.08974358974358974,
            "beak length (mm)": 9.7,
            "species": "fortis"
           },
           {
            "ECDF": 0.08974358974358974,
            "beak length (mm)": 9.7,
            "species": "fortis"
           },
           {
            "ECDF": 0.09294871794871795,
            "beak length (mm)": 9.7,
            "species": "fortis"
           },
           {
            "ECDF": 0.09294871794871795,
            "beak length (mm)": 9.7,
            "species": "fortis"
           },
           {
            "ECDF": 0.09615384615384616,
            "beak length (mm)": 9.7,
            "species": "fortis"
           },
           {
            "ECDF": 0.09615384615384616,
            "beak length (mm)": 9.7,
            "species": "fortis"
           },
           {
            "ECDF": 0.09935897435897435,
            "beak length (mm)": 9.7,
            "species": "fortis"
           },
           {
            "ECDF": 0.09935897435897435,
            "beak length (mm)": 9.7,
            "species": "fortis"
           },
           {
            "ECDF": 0.10256410256410256,
            "beak length (mm)": 9.7,
            "species": "fortis"
           },
           {
            "ECDF": 0.10256410256410256,
            "beak length (mm)": 9.7,
            "species": "fortis"
           },
           {
            "ECDF": 0.10576923076923077,
            "beak length (mm)": 9.7,
            "species": "fortis"
           },
           {
            "ECDF": 0.10576923076923077,
            "beak length (mm)": 9.7,
            "species": "fortis"
           },
           {
            "ECDF": 0.10897435897435898,
            "beak length (mm)": 9.7,
            "species": "fortis"
           },
           {
            "ECDF": 0.10897435897435898,
            "beak length (mm)": 9.7,
            "species": "fortis"
           },
           {
            "ECDF": 0.11217948717948718,
            "beak length (mm)": 9.7,
            "species": "fortis"
           },
           {
            "ECDF": 0.11217948717948718,
            "beak length (mm)": 9.7,
            "species": "fortis"
           },
           {
            "ECDF": 0.11538461538461539,
            "beak length (mm)": 9.7,
            "species": "fortis"
           },
           {
            "ECDF": 0.11538461538461539,
            "beak length (mm)": 9.7,
            "species": "fortis"
           },
           {
            "ECDF": 0.11858974358974358,
            "beak length (mm)": 9.7,
            "species": "fortis"
           },
           {
            "ECDF": 0.11858974358974358,
            "beak length (mm)": 9.8,
            "species": "fortis"
           },
           {
            "ECDF": 0.12179487179487179,
            "beak length (mm)": 9.8,
            "species": "fortis"
           },
           {
            "ECDF": 0.12179487179487179,
            "beak length (mm)": 9.8,
            "species": "fortis"
           },
           {
            "ECDF": 0.125,
            "beak length (mm)": 9.8,
            "species": "fortis"
           },
           {
            "ECDF": 0.125,
            "beak length (mm)": 9.8,
            "species": "fortis"
           },
           {
            "ECDF": 0.1282051282051282,
            "beak length (mm)": 9.8,
            "species": "fortis"
           },
           {
            "ECDF": 0.1282051282051282,
            "beak length (mm)": 9.8,
            "species": "fortis"
           },
           {
            "ECDF": 0.13141025641025642,
            "beak length (mm)": 9.8,
            "species": "fortis"
           },
           {
            "ECDF": 0.13141025641025642,
            "beak length (mm)": 9.8,
            "species": "fortis"
           },
           {
            "ECDF": 0.1346153846153846,
            "beak length (mm)": 9.8,
            "species": "fortis"
           },
           {
            "ECDF": 0.1346153846153846,
            "beak length (mm)": 9.8,
            "species": "fortis"
           },
           {
            "ECDF": 0.13782051282051283,
            "beak length (mm)": 9.8,
            "species": "fortis"
           },
           {
            "ECDF": 0.13782051282051283,
            "beak length (mm)": 9.8,
            "species": "fortis"
           },
           {
            "ECDF": 0.14102564102564102,
            "beak length (mm)": 9.8,
            "species": "fortis"
           },
           {
            "ECDF": 0.14102564102564102,
            "beak length (mm)": 9.8,
            "species": "fortis"
           },
           {
            "ECDF": 0.14423076923076922,
            "beak length (mm)": 9.8,
            "species": "fortis"
           },
           {
            "ECDF": 0.14423076923076922,
            "beak length (mm)": 9.8,
            "species": "fortis"
           },
           {
            "ECDF": 0.14743589743589744,
            "beak length (mm)": 9.8,
            "species": "fortis"
           },
           {
            "ECDF": 0.14743589743589744,
            "beak length (mm)": 9.83,
            "species": "fortis"
           },
           {
            "ECDF": 0.15064102564102563,
            "beak length (mm)": 9.83,
            "species": "fortis"
           },
           {
            "ECDF": 0.15064102564102563,
            "beak length (mm)": 9.85,
            "species": "fortis"
           },
           {
            "ECDF": 0.15384615384615385,
            "beak length (mm)": 9.85,
            "species": "fortis"
           },
           {
            "ECDF": 0.15384615384615385,
            "beak length (mm)": 9.9,
            "species": "fortis"
           },
           {
            "ECDF": 0.15705128205128205,
            "beak length (mm)": 9.9,
            "species": "fortis"
           },
           {
            "ECDF": 0.15705128205128205,
            "beak length (mm)": 9.9,
            "species": "fortis"
           },
           {
            "ECDF": 0.16025641025641027,
            "beak length (mm)": 9.9,
            "species": "fortis"
           },
           {
            "ECDF": 0.16025641025641027,
            "beak length (mm)": 9.9,
            "species": "fortis"
           },
           {
            "ECDF": 0.16346153846153846,
            "beak length (mm)": 9.9,
            "species": "fortis"
           },
           {
            "ECDF": 0.16346153846153846,
            "beak length (mm)": 9.9,
            "species": "fortis"
           },
           {
            "ECDF": 0.16666666666666666,
            "beak length (mm)": 9.9,
            "species": "fortis"
           },
           {
            "ECDF": 0.16666666666666666,
            "beak length (mm)": 9.9,
            "species": "fortis"
           },
           {
            "ECDF": 0.16987179487179488,
            "beak length (mm)": 9.9,
            "species": "fortis"
           },
           {
            "ECDF": 0.16987179487179488,
            "beak length (mm)": 9.9,
            "species": "fortis"
           },
           {
            "ECDF": 0.17307692307692307,
            "beak length (mm)": 9.9,
            "species": "fortis"
           },
           {
            "ECDF": 0.17307692307692307,
            "beak length (mm)": 9.9,
            "species": "fortis"
           },
           {
            "ECDF": 0.1762820512820513,
            "beak length (mm)": 9.9,
            "species": "fortis"
           },
           {
            "ECDF": 0.1762820512820513,
            "beak length (mm)": 9.9,
            "species": "fortis"
           },
           {
            "ECDF": 0.1794871794871795,
            "beak length (mm)": 9.9,
            "species": "fortis"
           },
           {
            "ECDF": 0.1794871794871795,
            "beak length (mm)": 9.9,
            "species": "fortis"
           },
           {
            "ECDF": 0.18269230769230768,
            "beak length (mm)": 9.9,
            "species": "fortis"
           },
           {
            "ECDF": 0.18269230769230768,
            "beak length (mm)": 9.9,
            "species": "fortis"
           },
           {
            "ECDF": 0.1858974358974359,
            "beak length (mm)": 9.9,
            "species": "fortis"
           },
           {
            "ECDF": 0.1858974358974359,
            "beak length (mm)": 9.9,
            "species": "fortis"
           },
           {
            "ECDF": 0.1891025641025641,
            "beak length (mm)": 9.9,
            "species": "fortis"
           },
           {
            "ECDF": 0.1891025641025641,
            "beak length (mm)": 9.9,
            "species": "fortis"
           },
           {
            "ECDF": 0.19230769230769232,
            "beak length (mm)": 9.9,
            "species": "fortis"
           },
           {
            "ECDF": 0.19230769230769232,
            "beak length (mm)": 9.9,
            "species": "fortis"
           },
           {
            "ECDF": 0.1955128205128205,
            "beak length (mm)": 9.9,
            "species": "fortis"
           },
           {
            "ECDF": 0.1955128205128205,
            "beak length (mm)": 9.9,
            "species": "fortis"
           },
           {
            "ECDF": 0.1987179487179487,
            "beak length (mm)": 9.9,
            "species": "fortis"
           },
           {
            "ECDF": 0.1987179487179487,
            "beak length (mm)": 9.9,
            "species": "fortis"
           },
           {
            "ECDF": 0.20192307692307693,
            "beak length (mm)": 9.9,
            "species": "fortis"
           },
           {
            "ECDF": 0.20192307692307693,
            "beak length (mm)": 9.93,
            "species": "fortis"
           },
           {
            "ECDF": 0.20512820512820512,
            "beak length (mm)": 9.93,
            "species": "fortis"
           },
           {
            "ECDF": 0.20512820512820512,
            "beak length (mm)": 10,
            "species": "fortis"
           },
           {
            "ECDF": 0.20833333333333334,
            "beak length (mm)": 10,
            "species": "fortis"
           },
           {
            "ECDF": 0.20833333333333334,
            "beak length (mm)": 10,
            "species": "fortis"
           },
           {
            "ECDF": 0.21153846153846154,
            "beak length (mm)": 10,
            "species": "fortis"
           },
           {
            "ECDF": 0.21153846153846154,
            "beak length (mm)": 10,
            "species": "fortis"
           },
           {
            "ECDF": 0.21474358974358973,
            "beak length (mm)": 10,
            "species": "fortis"
           },
           {
            "ECDF": 0.21474358974358973,
            "beak length (mm)": 10,
            "species": "fortis"
           },
           {
            "ECDF": 0.21794871794871795,
            "beak length (mm)": 10,
            "species": "fortis"
           },
           {
            "ECDF": 0.21794871794871795,
            "beak length (mm)": 10,
            "species": "fortis"
           },
           {
            "ECDF": 0.22115384615384615,
            "beak length (mm)": 10,
            "species": "fortis"
           },
           {
            "ECDF": 0.22115384615384615,
            "beak length (mm)": 10,
            "species": "fortis"
           },
           {
            "ECDF": 0.22435897435897437,
            "beak length (mm)": 10,
            "species": "fortis"
           },
           {
            "ECDF": 0.22435897435897437,
            "beak length (mm)": 10,
            "species": "fortis"
           },
           {
            "ECDF": 0.22756410256410256,
            "beak length (mm)": 10,
            "species": "fortis"
           },
           {
            "ECDF": 0.22756410256410256,
            "beak length (mm)": 10,
            "species": "fortis"
           },
           {
            "ECDF": 0.23076923076923078,
            "beak length (mm)": 10,
            "species": "fortis"
           },
           {
            "ECDF": 0.23076923076923078,
            "beak length (mm)": 10,
            "species": "fortis"
           },
           {
            "ECDF": 0.23397435897435898,
            "beak length (mm)": 10,
            "species": "fortis"
           },
           {
            "ECDF": 0.23397435897435898,
            "beak length (mm)": 10.05,
            "species": "fortis"
           },
           {
            "ECDF": 0.23717948717948717,
            "beak length (mm)": 10.05,
            "species": "fortis"
           },
           {
            "ECDF": 0.23717948717948717,
            "beak length (mm)": 10.1,
            "species": "fortis"
           },
           {
            "ECDF": 0.2403846153846154,
            "beak length (mm)": 10.1,
            "species": "fortis"
           },
           {
            "ECDF": 0.2403846153846154,
            "beak length (mm)": 10.1,
            "species": "fortis"
           },
           {
            "ECDF": 0.24358974358974358,
            "beak length (mm)": 10.1,
            "species": "fortis"
           },
           {
            "ECDF": 0.24358974358974358,
            "beak length (mm)": 10.1,
            "species": "fortis"
           },
           {
            "ECDF": 0.2467948717948718,
            "beak length (mm)": 10.1,
            "species": "fortis"
           },
           {
            "ECDF": 0.2467948717948718,
            "beak length (mm)": 10.1,
            "species": "fortis"
           },
           {
            "ECDF": 0.25,
            "beak length (mm)": 10.1,
            "species": "fortis"
           },
           {
            "ECDF": 0.25,
            "beak length (mm)": 10.1,
            "species": "fortis"
           },
           {
            "ECDF": 0.2532051282051282,
            "beak length (mm)": 10.1,
            "species": "fortis"
           },
           {
            "ECDF": 0.2532051282051282,
            "beak length (mm)": 10.1,
            "species": "fortis"
           },
           {
            "ECDF": 0.2564102564102564,
            "beak length (mm)": 10.1,
            "species": "fortis"
           },
           {
            "ECDF": 0.2564102564102564,
            "beak length (mm)": 10.1,
            "species": "fortis"
           },
           {
            "ECDF": 0.25961538461538464,
            "beak length (mm)": 10.1,
            "species": "fortis"
           },
           {
            "ECDF": 0.25961538461538464,
            "beak length (mm)": 10.1,
            "species": "fortis"
           },
           {
            "ECDF": 0.26282051282051283,
            "beak length (mm)": 10.1,
            "species": "fortis"
           },
           {
            "ECDF": 0.26282051282051283,
            "beak length (mm)": 10.1,
            "species": "fortis"
           },
           {
            "ECDF": 0.266025641025641,
            "beak length (mm)": 10.1,
            "species": "fortis"
           },
           {
            "ECDF": 0.266025641025641,
            "beak length (mm)": 10.1,
            "species": "fortis"
           },
           {
            "ECDF": 0.2692307692307692,
            "beak length (mm)": 10.1,
            "species": "fortis"
           },
           {
            "ECDF": 0.2692307692307692,
            "beak length (mm)": 10.13,
            "species": "fortis"
           },
           {
            "ECDF": 0.2724358974358974,
            "beak length (mm)": 10.13,
            "species": "fortis"
           },
           {
            "ECDF": 0.2724358974358974,
            "beak length (mm)": 10.15,
            "species": "fortis"
           },
           {
            "ECDF": 0.27564102564102566,
            "beak length (mm)": 10.15,
            "species": "fortis"
           },
           {
            "ECDF": 0.27564102564102566,
            "beak length (mm)": 10.2,
            "species": "fortis"
           },
           {
            "ECDF": 0.27884615384615385,
            "beak length (mm)": 10.2,
            "species": "fortis"
           },
           {
            "ECDF": 0.27884615384615385,
            "beak length (mm)": 10.2,
            "species": "fortis"
           },
           {
            "ECDF": 0.28205128205128205,
            "beak length (mm)": 10.2,
            "species": "fortis"
           },
           {
            "ECDF": 0.28205128205128205,
            "beak length (mm)": 10.2,
            "species": "fortis"
           },
           {
            "ECDF": 0.28525641025641024,
            "beak length (mm)": 10.2,
            "species": "fortis"
           },
           {
            "ECDF": 0.28525641025641024,
            "beak length (mm)": 10.2,
            "species": "fortis"
           },
           {
            "ECDF": 0.28846153846153844,
            "beak length (mm)": 10.2,
            "species": "fortis"
           },
           {
            "ECDF": 0.28846153846153844,
            "beak length (mm)": 10.2,
            "species": "fortis"
           },
           {
            "ECDF": 0.2916666666666667,
            "beak length (mm)": 10.2,
            "species": "fortis"
           },
           {
            "ECDF": 0.2916666666666667,
            "beak length (mm)": 10.2,
            "species": "fortis"
           },
           {
            "ECDF": 0.2948717948717949,
            "beak length (mm)": 10.2,
            "species": "fortis"
           },
           {
            "ECDF": 0.2948717948717949,
            "beak length (mm)": 10.2,
            "species": "fortis"
           },
           {
            "ECDF": 0.2980769230769231,
            "beak length (mm)": 10.2,
            "species": "fortis"
           },
           {
            "ECDF": 0.2980769230769231,
            "beak length (mm)": 10.2,
            "species": "fortis"
           },
           {
            "ECDF": 0.30128205128205127,
            "beak length (mm)": 10.2,
            "species": "fortis"
           },
           {
            "ECDF": 0.30128205128205127,
            "beak length (mm)": 10.2,
            "species": "fortis"
           },
           {
            "ECDF": 0.30448717948717946,
            "beak length (mm)": 10.2,
            "species": "fortis"
           },
           {
            "ECDF": 0.30448717948717946,
            "beak length (mm)": 10.2,
            "species": "fortis"
           },
           {
            "ECDF": 0.3076923076923077,
            "beak length (mm)": 10.2,
            "species": "fortis"
           },
           {
            "ECDF": 0.3076923076923077,
            "beak length (mm)": 10.2,
            "species": "fortis"
           },
           {
            "ECDF": 0.3108974358974359,
            "beak length (mm)": 10.2,
            "species": "fortis"
           },
           {
            "ECDF": 0.3108974358974359,
            "beak length (mm)": 10.2,
            "species": "fortis"
           },
           {
            "ECDF": 0.3141025641025641,
            "beak length (mm)": 10.2,
            "species": "fortis"
           },
           {
            "ECDF": 0.3141025641025641,
            "beak length (mm)": 10.2,
            "species": "fortis"
           },
           {
            "ECDF": 0.3173076923076923,
            "beak length (mm)": 10.2,
            "species": "fortis"
           },
           {
            "ECDF": 0.3173076923076923,
            "beak length (mm)": 10.2,
            "species": "fortis"
           },
           {
            "ECDF": 0.32051282051282054,
            "beak length (mm)": 10.2,
            "species": "fortis"
           },
           {
            "ECDF": 0.32051282051282054,
            "beak length (mm)": 10.2,
            "species": "fortis"
           },
           {
            "ECDF": 0.32371794871794873,
            "beak length (mm)": 10.2,
            "species": "fortis"
           },
           {
            "ECDF": 0.32371794871794873,
            "beak length (mm)": 10.2,
            "species": "fortis"
           },
           {
            "ECDF": 0.3269230769230769,
            "beak length (mm)": 10.2,
            "species": "fortis"
           },
           {
            "ECDF": 0.3269230769230769,
            "beak length (mm)": 10.2,
            "species": "fortis"
           },
           {
            "ECDF": 0.3301282051282051,
            "beak length (mm)": 10.2,
            "species": "fortis"
           },
           {
            "ECDF": 0.3301282051282051,
            "beak length (mm)": 10.2,
            "species": "fortis"
           },
           {
            "ECDF": 0.3333333333333333,
            "beak length (mm)": 10.2,
            "species": "fortis"
           },
           {
            "ECDF": 0.3333333333333333,
            "beak length (mm)": 10.23,
            "species": "fortis"
           },
           {
            "ECDF": 0.33653846153846156,
            "beak length (mm)": 10.23,
            "species": "fortis"
           },
           {
            "ECDF": 0.33653846153846156,
            "beak length (mm)": 10.23,
            "species": "fortis"
           },
           {
            "ECDF": 0.33974358974358976,
            "beak length (mm)": 10.23,
            "species": "fortis"
           },
           {
            "ECDF": 0.33974358974358976,
            "beak length (mm)": 10.25,
            "species": "fortis"
           },
           {
            "ECDF": 0.34294871794871795,
            "beak length (mm)": 10.25,
            "species": "fortis"
           },
           {
            "ECDF": 0.34294871794871795,
            "beak length (mm)": 10.25,
            "species": "fortis"
           },
           {
            "ECDF": 0.34615384615384615,
            "beak length (mm)": 10.25,
            "species": "fortis"
           },
           {
            "ECDF": 0.34615384615384615,
            "beak length (mm)": 10.3,
            "species": "fortis"
           },
           {
            "ECDF": 0.34935897435897434,
            "beak length (mm)": 10.3,
            "species": "fortis"
           },
           {
            "ECDF": 0.34935897435897434,
            "beak length (mm)": 10.3,
            "species": "fortis"
           },
           {
            "ECDF": 0.3525641025641026,
            "beak length (mm)": 10.3,
            "species": "fortis"
           },
           {
            "ECDF": 0.3525641025641026,
            "beak length (mm)": 10.3,
            "species": "fortis"
           },
           {
            "ECDF": 0.3557692307692308,
            "beak length (mm)": 10.3,
            "species": "fortis"
           },
           {
            "ECDF": 0.3557692307692308,
            "beak length (mm)": 10.3,
            "species": "fortis"
           },
           {
            "ECDF": 0.358974358974359,
            "beak length (mm)": 10.3,
            "species": "fortis"
           },
           {
            "ECDF": 0.358974358974359,
            "beak length (mm)": 10.3,
            "species": "fortis"
           },
           {
            "ECDF": 0.36217948717948717,
            "beak length (mm)": 10.3,
            "species": "fortis"
           },
           {
            "ECDF": 0.36217948717948717,
            "beak length (mm)": 10.3,
            "species": "fortis"
           },
           {
            "ECDF": 0.36538461538461536,
            "beak length (mm)": 10.3,
            "species": "fortis"
           },
           {
            "ECDF": 0.36538461538461536,
            "beak length (mm)": 10.3,
            "species": "fortis"
           },
           {
            "ECDF": 0.3685897435897436,
            "beak length (mm)": 10.3,
            "species": "fortis"
           },
           {
            "ECDF": 0.3685897435897436,
            "beak length (mm)": 10.3,
            "species": "fortis"
           },
           {
            "ECDF": 0.3717948717948718,
            "beak length (mm)": 10.3,
            "species": "fortis"
           },
           {
            "ECDF": 0.3717948717948718,
            "beak length (mm)": 10.3,
            "species": "fortis"
           },
           {
            "ECDF": 0.375,
            "beak length (mm)": 10.3,
            "species": "fortis"
           },
           {
            "ECDF": 0.375,
            "beak length (mm)": 10.3,
            "species": "fortis"
           },
           {
            "ECDF": 0.3782051282051282,
            "beak length (mm)": 10.3,
            "species": "fortis"
           },
           {
            "ECDF": 0.3782051282051282,
            "beak length (mm)": 10.3,
            "species": "fortis"
           },
           {
            "ECDF": 0.3814102564102564,
            "beak length (mm)": 10.3,
            "species": "fortis"
           },
           {
            "ECDF": 0.3814102564102564,
            "beak length (mm)": 10.3,
            "species": "fortis"
           },
           {
            "ECDF": 0.38461538461538464,
            "beak length (mm)": 10.3,
            "species": "fortis"
           },
           {
            "ECDF": 0.38461538461538464,
            "beak length (mm)": 10.33,
            "species": "fortis"
           },
           {
            "ECDF": 0.38782051282051283,
            "beak length (mm)": 10.33,
            "species": "fortis"
           },
           {
            "ECDF": 0.38782051282051283,
            "beak length (mm)": 10.4,
            "species": "fortis"
           },
           {
            "ECDF": 0.391025641025641,
            "beak length (mm)": 10.4,
            "species": "fortis"
           },
           {
            "ECDF": 0.391025641025641,
            "beak length (mm)": 10.4,
            "species": "fortis"
           },
           {
            "ECDF": 0.3942307692307692,
            "beak length (mm)": 10.4,
            "species": "fortis"
           },
           {
            "ECDF": 0.3942307692307692,
            "beak length (mm)": 10.4,
            "species": "fortis"
           },
           {
            "ECDF": 0.3974358974358974,
            "beak length (mm)": 10.4,
            "species": "fortis"
           },
           {
            "ECDF": 0.3974358974358974,
            "beak length (mm)": 10.4,
            "species": "fortis"
           },
           {
            "ECDF": 0.40064102564102566,
            "beak length (mm)": 10.4,
            "species": "fortis"
           },
           {
            "ECDF": 0.40064102564102566,
            "beak length (mm)": 10.4,
            "species": "fortis"
           },
           {
            "ECDF": 0.40384615384615385,
            "beak length (mm)": 10.4,
            "species": "fortis"
           },
           {
            "ECDF": 0.40384615384615385,
            "beak length (mm)": 10.4,
            "species": "fortis"
           },
           {
            "ECDF": 0.40705128205128205,
            "beak length (mm)": 10.4,
            "species": "fortis"
           },
           {
            "ECDF": 0.40705128205128205,
            "beak length (mm)": 10.4,
            "species": "fortis"
           },
           {
            "ECDF": 0.41025641025641024,
            "beak length (mm)": 10.4,
            "species": "fortis"
           },
           {
            "ECDF": 0.41025641025641024,
            "beak length (mm)": 10.4,
            "species": "fortis"
           },
           {
            "ECDF": 0.41346153846153844,
            "beak length (mm)": 10.4,
            "species": "fortis"
           },
           {
            "ECDF": 0.41346153846153844,
            "beak length (mm)": 10.4,
            "species": "fortis"
           },
           {
            "ECDF": 0.4166666666666667,
            "beak length (mm)": 10.4,
            "species": "fortis"
           },
           {
            "ECDF": 0.4166666666666667,
            "beak length (mm)": 10.4,
            "species": "fortis"
           },
           {
            "ECDF": 0.4198717948717949,
            "beak length (mm)": 10.4,
            "species": "fortis"
           },
           {
            "ECDF": 0.4198717948717949,
            "beak length (mm)": 10.4,
            "species": "fortis"
           },
           {
            "ECDF": 0.4230769230769231,
            "beak length (mm)": 10.4,
            "species": "fortis"
           },
           {
            "ECDF": 0.4230769230769231,
            "beak length (mm)": 10.4,
            "species": "fortis"
           },
           {
            "ECDF": 0.42628205128205127,
            "beak length (mm)": 10.4,
            "species": "fortis"
           },
           {
            "ECDF": 0.42628205128205127,
            "beak length (mm)": 10.4,
            "species": "fortis"
           },
           {
            "ECDF": 0.42948717948717946,
            "beak length (mm)": 10.4,
            "species": "fortis"
           },
           {
            "ECDF": 0.42948717948717946,
            "beak length (mm)": 10.4,
            "species": "fortis"
           },
           {
            "ECDF": 0.4326923076923077,
            "beak length (mm)": 10.4,
            "species": "fortis"
           },
           {
            "ECDF": 0.4326923076923077,
            "beak length (mm)": 10.5,
            "species": "fortis"
           },
           {
            "ECDF": 0.4358974358974359,
            "beak length (mm)": 10.5,
            "species": "fortis"
           },
           {
            "ECDF": 0.4358974358974359,
            "beak length (mm)": 10.5,
            "species": "fortis"
           },
           {
            "ECDF": 0.4391025641025641,
            "beak length (mm)": 10.5,
            "species": "fortis"
           },
           {
            "ECDF": 0.4391025641025641,
            "beak length (mm)": 10.5,
            "species": "fortis"
           },
           {
            "ECDF": 0.4423076923076923,
            "beak length (mm)": 10.5,
            "species": "fortis"
           },
           {
            "ECDF": 0.4423076923076923,
            "beak length (mm)": 10.5,
            "species": "fortis"
           },
           {
            "ECDF": 0.44551282051282054,
            "beak length (mm)": 10.5,
            "species": "fortis"
           },
           {
            "ECDF": 0.44551282051282054,
            "beak length (mm)": 10.5,
            "species": "fortis"
           },
           {
            "ECDF": 0.44871794871794873,
            "beak length (mm)": 10.5,
            "species": "fortis"
           },
           {
            "ECDF": 0.44871794871794873,
            "beak length (mm)": 10.5,
            "species": "fortis"
           },
           {
            "ECDF": 0.4519230769230769,
            "beak length (mm)": 10.5,
            "species": "fortis"
           },
           {
            "ECDF": 0.4519230769230769,
            "beak length (mm)": 10.5,
            "species": "fortis"
           },
           {
            "ECDF": 0.4551282051282051,
            "beak length (mm)": 10.5,
            "species": "fortis"
           },
           {
            "ECDF": 0.4551282051282051,
            "beak length (mm)": 10.5,
            "species": "fortis"
           },
           {
            "ECDF": 0.4583333333333333,
            "beak length (mm)": 10.5,
            "species": "fortis"
           },
           {
            "ECDF": 0.4583333333333333,
            "beak length (mm)": 10.5,
            "species": "fortis"
           },
           {
            "ECDF": 0.46153846153846156,
            "beak length (mm)": 10.5,
            "species": "fortis"
           },
           {
            "ECDF": 0.46153846153846156,
            "beak length (mm)": 10.5,
            "species": "fortis"
           },
           {
            "ECDF": 0.46474358974358976,
            "beak length (mm)": 10.5,
            "species": "fortis"
           },
           {
            "ECDF": 0.46474358974358976,
            "beak length (mm)": 10.5,
            "species": "fortis"
           },
           {
            "ECDF": 0.46794871794871795,
            "beak length (mm)": 10.5,
            "species": "fortis"
           },
           {
            "ECDF": 0.46794871794871795,
            "beak length (mm)": 10.5,
            "species": "fortis"
           },
           {
            "ECDF": 0.47115384615384615,
            "beak length (mm)": 10.5,
            "species": "fortis"
           },
           {
            "ECDF": 0.47115384615384615,
            "beak length (mm)": 10.5,
            "species": "fortis"
           },
           {
            "ECDF": 0.47435897435897434,
            "beak length (mm)": 10.5,
            "species": "fortis"
           },
           {
            "ECDF": 0.47435897435897434,
            "beak length (mm)": 10.5,
            "species": "fortis"
           },
           {
            "ECDF": 0.4775641025641026,
            "beak length (mm)": 10.5,
            "species": "fortis"
           },
           {
            "ECDF": 0.4775641025641026,
            "beak length (mm)": 10.5,
            "species": "fortis"
           },
           {
            "ECDF": 0.4807692307692308,
            "beak length (mm)": 10.5,
            "species": "fortis"
           },
           {
            "ECDF": 0.4807692307692308,
            "beak length (mm)": 10.5,
            "species": "fortis"
           },
           {
            "ECDF": 0.483974358974359,
            "beak length (mm)": 10.5,
            "species": "fortis"
           },
           {
            "ECDF": 0.483974358974359,
            "beak length (mm)": 10.5,
            "species": "fortis"
           },
           {
            "ECDF": 0.48717948717948717,
            "beak length (mm)": 10.5,
            "species": "fortis"
           },
           {
            "ECDF": 0.48717948717948717,
            "beak length (mm)": 10.5,
            "species": "fortis"
           },
           {
            "ECDF": 0.49038461538461536,
            "beak length (mm)": 10.5,
            "species": "fortis"
           },
           {
            "ECDF": 0.49038461538461536,
            "beak length (mm)": 10.5,
            "species": "fortis"
           },
           {
            "ECDF": 0.4935897435897436,
            "beak length (mm)": 10.5,
            "species": "fortis"
           },
           {
            "ECDF": 0.4935897435897436,
            "beak length (mm)": 10.53,
            "species": "fortis"
           },
           {
            "ECDF": 0.4967948717948718,
            "beak length (mm)": 10.53,
            "species": "fortis"
           },
           {
            "ECDF": 0.4967948717948718,
            "beak length (mm)": 10.55,
            "species": "fortis"
           },
           {
            "ECDF": 0.5,
            "beak length (mm)": 10.55,
            "species": "fortis"
           },
           {
            "ECDF": 0.5,
            "beak length (mm)": 10.6,
            "species": "fortis"
           },
           {
            "ECDF": 0.5032051282051282,
            "beak length (mm)": 10.6,
            "species": "fortis"
           },
           {
            "ECDF": 0.5032051282051282,
            "beak length (mm)": 10.6,
            "species": "fortis"
           },
           {
            "ECDF": 0.5064102564102564,
            "beak length (mm)": 10.6,
            "species": "fortis"
           },
           {
            "ECDF": 0.5064102564102564,
            "beak length (mm)": 10.6,
            "species": "fortis"
           },
           {
            "ECDF": 0.5096153846153846,
            "beak length (mm)": 10.6,
            "species": "fortis"
           },
           {
            "ECDF": 0.5096153846153846,
            "beak length (mm)": 10.6,
            "species": "fortis"
           },
           {
            "ECDF": 0.5128205128205128,
            "beak length (mm)": 10.6,
            "species": "fortis"
           },
           {
            "ECDF": 0.5128205128205128,
            "beak length (mm)": 10.6,
            "species": "fortis"
           },
           {
            "ECDF": 0.5160256410256411,
            "beak length (mm)": 10.6,
            "species": "fortis"
           },
           {
            "ECDF": 0.5160256410256411,
            "beak length (mm)": 10.6,
            "species": "fortis"
           },
           {
            "ECDF": 0.5192307692307693,
            "beak length (mm)": 10.6,
            "species": "fortis"
           },
           {
            "ECDF": 0.5192307692307693,
            "beak length (mm)": 10.6,
            "species": "fortis"
           },
           {
            "ECDF": 0.5224358974358975,
            "beak length (mm)": 10.6,
            "species": "fortis"
           },
           {
            "ECDF": 0.5224358974358975,
            "beak length (mm)": 10.6,
            "species": "fortis"
           },
           {
            "ECDF": 0.5256410256410257,
            "beak length (mm)": 10.6,
            "species": "fortis"
           },
           {
            "ECDF": 0.5256410256410257,
            "beak length (mm)": 10.6,
            "species": "fortis"
           },
           {
            "ECDF": 0.5288461538461539,
            "beak length (mm)": 10.6,
            "species": "fortis"
           },
           {
            "ECDF": 0.5288461538461539,
            "beak length (mm)": 10.6,
            "species": "fortis"
           },
           {
            "ECDF": 0.532051282051282,
            "beak length (mm)": 10.6,
            "species": "fortis"
           },
           {
            "ECDF": 0.532051282051282,
            "beak length (mm)": 10.6,
            "species": "fortis"
           },
           {
            "ECDF": 0.5352564102564102,
            "beak length (mm)": 10.6,
            "species": "fortis"
           },
           {
            "ECDF": 0.5352564102564102,
            "beak length (mm)": 10.7,
            "species": "fortis"
           },
           {
            "ECDF": 0.5384615384615384,
            "beak length (mm)": 10.7,
            "species": "fortis"
           },
           {
            "ECDF": 0.5384615384615384,
            "beak length (mm)": 10.7,
            "species": "fortis"
           },
           {
            "ECDF": 0.5416666666666666,
            "beak length (mm)": 10.7,
            "species": "fortis"
           },
           {
            "ECDF": 0.5416666666666666,
            "beak length (mm)": 10.7,
            "species": "fortis"
           },
           {
            "ECDF": 0.5448717948717948,
            "beak length (mm)": 10.7,
            "species": "fortis"
           },
           {
            "ECDF": 0.5448717948717948,
            "beak length (mm)": 10.7,
            "species": "fortis"
           },
           {
            "ECDF": 0.5480769230769231,
            "beak length (mm)": 10.7,
            "species": "fortis"
           },
           {
            "ECDF": 0.5480769230769231,
            "beak length (mm)": 10.7,
            "species": "fortis"
           },
           {
            "ECDF": 0.5512820512820513,
            "beak length (mm)": 10.7,
            "species": "fortis"
           },
           {
            "ECDF": 0.5512820512820513,
            "beak length (mm)": 10.7,
            "species": "fortis"
           },
           {
            "ECDF": 0.5544871794871795,
            "beak length (mm)": 10.7,
            "species": "fortis"
           },
           {
            "ECDF": 0.5544871794871795,
            "beak length (mm)": 10.7,
            "species": "fortis"
           },
           {
            "ECDF": 0.5576923076923077,
            "beak length (mm)": 10.7,
            "species": "fortis"
           },
           {
            "ECDF": 0.5576923076923077,
            "beak length (mm)": 10.7,
            "species": "fortis"
           },
           {
            "ECDF": 0.5608974358974359,
            "beak length (mm)": 10.7,
            "species": "fortis"
           },
           {
            "ECDF": 0.5608974358974359,
            "beak length (mm)": 10.7,
            "species": "fortis"
           },
           {
            "ECDF": 0.5641025641025641,
            "beak length (mm)": 10.7,
            "species": "fortis"
           },
           {
            "ECDF": 0.5641025641025641,
            "beak length (mm)": 10.7,
            "species": "fortis"
           },
           {
            "ECDF": 0.5673076923076923,
            "beak length (mm)": 10.7,
            "species": "fortis"
           },
           {
            "ECDF": 0.5673076923076923,
            "beak length (mm)": 10.7,
            "species": "fortis"
           },
           {
            "ECDF": 0.5705128205128205,
            "beak length (mm)": 10.7,
            "species": "fortis"
           },
           {
            "ECDF": 0.5705128205128205,
            "beak length (mm)": 10.73,
            "species": "fortis"
           },
           {
            "ECDF": 0.5737179487179487,
            "beak length (mm)": 10.73,
            "species": "fortis"
           },
           {
            "ECDF": 0.5737179487179487,
            "beak length (mm)": 10.73,
            "species": "fortis"
           },
           {
            "ECDF": 0.5769230769230769,
            "beak length (mm)": 10.73,
            "species": "fortis"
           },
           {
            "ECDF": 0.5769230769230769,
            "beak length (mm)": 10.8,
            "species": "fortis"
           },
           {
            "ECDF": 0.5801282051282052,
            "beak length (mm)": 10.8,
            "species": "fortis"
           },
           {
            "ECDF": 0.5801282051282052,
            "beak length (mm)": 10.8,
            "species": "fortis"
           },
           {
            "ECDF": 0.5833333333333334,
            "beak length (mm)": 10.8,
            "species": "fortis"
           },
           {
            "ECDF": 0.5833333333333334,
            "beak length (mm)": 10.8,
            "species": "fortis"
           },
           {
            "ECDF": 0.5865384615384616,
            "beak length (mm)": 10.8,
            "species": "fortis"
           },
           {
            "ECDF": 0.5865384615384616,
            "beak length (mm)": 10.8,
            "species": "fortis"
           },
           {
            "ECDF": 0.5897435897435898,
            "beak length (mm)": 10.8,
            "species": "fortis"
           },
           {
            "ECDF": 0.5897435897435898,
            "beak length (mm)": 10.8,
            "species": "fortis"
           },
           {
            "ECDF": 0.592948717948718,
            "beak length (mm)": 10.8,
            "species": "fortis"
           },
           {
            "ECDF": 0.592948717948718,
            "beak length (mm)": 10.8,
            "species": "fortis"
           },
           {
            "ECDF": 0.5961538461538461,
            "beak length (mm)": 10.8,
            "species": "fortis"
           },
           {
            "ECDF": 0.5961538461538461,
            "beak length (mm)": 10.8,
            "species": "fortis"
           },
           {
            "ECDF": 0.5993589743589743,
            "beak length (mm)": 10.8,
            "species": "fortis"
           },
           {
            "ECDF": 0.5993589743589743,
            "beak length (mm)": 10.8,
            "species": "fortis"
           },
           {
            "ECDF": 0.6025641025641025,
            "beak length (mm)": 10.8,
            "species": "fortis"
           },
           {
            "ECDF": 0.6025641025641025,
            "beak length (mm)": 10.8,
            "species": "fortis"
           },
           {
            "ECDF": 0.6057692307692307,
            "beak length (mm)": 10.8,
            "species": "fortis"
           },
           {
            "ECDF": 0.6057692307692307,
            "beak length (mm)": 10.8,
            "species": "fortis"
           },
           {
            "ECDF": 0.6089743589743589,
            "beak length (mm)": 10.8,
            "species": "fortis"
           },
           {
            "ECDF": 0.6089743589743589,
            "beak length (mm)": 10.8,
            "species": "fortis"
           },
           {
            "ECDF": 0.6121794871794872,
            "beak length (mm)": 10.8,
            "species": "fortis"
           },
           {
            "ECDF": 0.6121794871794872,
            "beak length (mm)": 10.8,
            "species": "fortis"
           },
           {
            "ECDF": 0.6153846153846154,
            "beak length (mm)": 10.8,
            "species": "fortis"
           },
           {
            "ECDF": 0.6153846153846154,
            "beak length (mm)": 10.8,
            "species": "fortis"
           },
           {
            "ECDF": 0.6185897435897436,
            "beak length (mm)": 10.8,
            "species": "fortis"
           },
           {
            "ECDF": 0.6185897435897436,
            "beak length (mm)": 10.8,
            "species": "fortis"
           },
           {
            "ECDF": 0.6217948717948718,
            "beak length (mm)": 10.8,
            "species": "fortis"
           },
           {
            "ECDF": 0.6217948717948718,
            "beak length (mm)": 10.8,
            "species": "fortis"
           },
           {
            "ECDF": 0.625,
            "beak length (mm)": 10.8,
            "species": "fortis"
           },
           {
            "ECDF": 0.625,
            "beak length (mm)": 10.8,
            "species": "fortis"
           },
           {
            "ECDF": 0.6282051282051282,
            "beak length (mm)": 10.8,
            "species": "fortis"
           },
           {
            "ECDF": 0.6282051282051282,
            "beak length (mm)": 10.8,
            "species": "fortis"
           },
           {
            "ECDF": 0.6314102564102564,
            "beak length (mm)": 10.8,
            "species": "fortis"
           },
           {
            "ECDF": 0.6314102564102564,
            "beak length (mm)": 10.83,
            "species": "fortis"
           },
           {
            "ECDF": 0.6346153846153846,
            "beak length (mm)": 10.83,
            "species": "fortis"
           },
           {
            "ECDF": 0.6346153846153846,
            "beak length (mm)": 10.85,
            "species": "fortis"
           },
           {
            "ECDF": 0.6378205128205128,
            "beak length (mm)": 10.85,
            "species": "fortis"
           },
           {
            "ECDF": 0.6378205128205128,
            "beak length (mm)": 10.9,
            "species": "fortis"
           },
           {
            "ECDF": 0.6410256410256411,
            "beak length (mm)": 10.9,
            "species": "fortis"
           },
           {
            "ECDF": 0.6410256410256411,
            "beak length (mm)": 10.9,
            "species": "fortis"
           },
           {
            "ECDF": 0.6442307692307693,
            "beak length (mm)": 10.9,
            "species": "fortis"
           },
           {
            "ECDF": 0.6442307692307693,
            "beak length (mm)": 10.9,
            "species": "fortis"
           },
           {
            "ECDF": 0.6474358974358975,
            "beak length (mm)": 10.9,
            "species": "fortis"
           },
           {
            "ECDF": 0.6474358974358975,
            "beak length (mm)": 10.9,
            "species": "fortis"
           },
           {
            "ECDF": 0.6506410256410257,
            "beak length (mm)": 10.9,
            "species": "fortis"
           },
           {
            "ECDF": 0.6506410256410257,
            "beak length (mm)": 10.9,
            "species": "fortis"
           },
           {
            "ECDF": 0.6538461538461539,
            "beak length (mm)": 10.9,
            "species": "fortis"
           },
           {
            "ECDF": 0.6538461538461539,
            "beak length (mm)": 10.9,
            "species": "fortis"
           },
           {
            "ECDF": 0.657051282051282,
            "beak length (mm)": 10.9,
            "species": "fortis"
           },
           {
            "ECDF": 0.657051282051282,
            "beak length (mm)": 10.9,
            "species": "fortis"
           },
           {
            "ECDF": 0.6602564102564102,
            "beak length (mm)": 10.9,
            "species": "fortis"
           },
           {
            "ECDF": 0.6602564102564102,
            "beak length (mm)": 10.9,
            "species": "fortis"
           },
           {
            "ECDF": 0.6634615384615384,
            "beak length (mm)": 10.9,
            "species": "fortis"
           },
           {
            "ECDF": 0.6634615384615384,
            "beak length (mm)": 10.9,
            "species": "fortis"
           },
           {
            "ECDF": 0.6666666666666666,
            "beak length (mm)": 10.9,
            "species": "fortis"
           },
           {
            "ECDF": 0.6666666666666666,
            "beak length (mm)": 10.9,
            "species": "fortis"
           },
           {
            "ECDF": 0.6698717948717948,
            "beak length (mm)": 10.9,
            "species": "fortis"
           },
           {
            "ECDF": 0.6698717948717948,
            "beak length (mm)": 10.9,
            "species": "fortis"
           },
           {
            "ECDF": 0.6730769230769231,
            "beak length (mm)": 10.9,
            "species": "fortis"
           },
           {
            "ECDF": 0.6730769230769231,
            "beak length (mm)": 10.9,
            "species": "fortis"
           },
           {
            "ECDF": 0.6762820512820513,
            "beak length (mm)": 10.9,
            "species": "fortis"
           },
           {
            "ECDF": 0.6762820512820513,
            "beak length (mm)": 10.9,
            "species": "fortis"
           },
           {
            "ECDF": 0.6794871794871795,
            "beak length (mm)": 10.9,
            "species": "fortis"
           },
           {
            "ECDF": 0.6794871794871795,
            "beak length (mm)": 10.9,
            "species": "fortis"
           },
           {
            "ECDF": 0.6826923076923077,
            "beak length (mm)": 10.9,
            "species": "fortis"
           },
           {
            "ECDF": 0.6826923076923077,
            "beak length (mm)": 10.9,
            "species": "fortis"
           },
           {
            "ECDF": 0.6858974358974359,
            "beak length (mm)": 10.9,
            "species": "fortis"
           },
           {
            "ECDF": 0.6858974358974359,
            "beak length (mm)": 10.9,
            "species": "fortis"
           },
           {
            "ECDF": 0.6891025641025641,
            "beak length (mm)": 10.9,
            "species": "fortis"
           },
           {
            "ECDF": 0.6891025641025641,
            "beak length (mm)": 10.9,
            "species": "fortis"
           },
           {
            "ECDF": 0.6923076923076923,
            "beak length (mm)": 10.9,
            "species": "fortis"
           },
           {
            "ECDF": 0.6923076923076923,
            "beak length (mm)": 10.9,
            "species": "fortis"
           },
           {
            "ECDF": 0.6955128205128205,
            "beak length (mm)": 10.9,
            "species": "fortis"
           },
           {
            "ECDF": 0.6955128205128205,
            "beak length (mm)": 10.9,
            "species": "fortis"
           },
           {
            "ECDF": 0.6987179487179487,
            "beak length (mm)": 10.9,
            "species": "fortis"
           },
           {
            "ECDF": 0.6987179487179487,
            "beak length (mm)": 10.95,
            "species": "fortis"
           },
           {
            "ECDF": 0.7019230769230769,
            "beak length (mm)": 10.95,
            "species": "fortis"
           },
           {
            "ECDF": 0.7019230769230769,
            "beak length (mm)": 10.95,
            "species": "fortis"
           },
           {
            "ECDF": 0.7051282051282052,
            "beak length (mm)": 10.95,
            "species": "fortis"
           },
           {
            "ECDF": 0.7051282051282052,
            "beak length (mm)": 10.95,
            "species": "fortis"
           },
           {
            "ECDF": 0.7083333333333334,
            "beak length (mm)": 10.95,
            "species": "fortis"
           },
           {
            "ECDF": 0.7083333333333334,
            "beak length (mm)": 11,
            "species": "fortis"
           },
           {
            "ECDF": 0.7115384615384616,
            "beak length (mm)": 11,
            "species": "fortis"
           },
           {
            "ECDF": 0.7115384615384616,
            "beak length (mm)": 11,
            "species": "fortis"
           },
           {
            "ECDF": 0.7147435897435898,
            "beak length (mm)": 11,
            "species": "fortis"
           },
           {
            "ECDF": 0.7147435897435898,
            "beak length (mm)": 11,
            "species": "fortis"
           },
           {
            "ECDF": 0.717948717948718,
            "beak length (mm)": 11,
            "species": "fortis"
           },
           {
            "ECDF": 0.717948717948718,
            "beak length (mm)": 11,
            "species": "fortis"
           },
           {
            "ECDF": 0.7211538461538461,
            "beak length (mm)": 11,
            "species": "fortis"
           },
           {
            "ECDF": 0.7211538461538461,
            "beak length (mm)": 11,
            "species": "fortis"
           },
           {
            "ECDF": 0.7243589743589743,
            "beak length (mm)": 11,
            "species": "fortis"
           },
           {
            "ECDF": 0.7243589743589743,
            "beak length (mm)": 11,
            "species": "fortis"
           },
           {
            "ECDF": 0.7275641025641025,
            "beak length (mm)": 11,
            "species": "fortis"
           },
           {
            "ECDF": 0.7275641025641025,
            "beak length (mm)": 11,
            "species": "fortis"
           },
           {
            "ECDF": 0.7307692307692307,
            "beak length (mm)": 11,
            "species": "fortis"
           },
           {
            "ECDF": 0.7307692307692307,
            "beak length (mm)": 11,
            "species": "fortis"
           },
           {
            "ECDF": 0.7339743589743589,
            "beak length (mm)": 11,
            "species": "fortis"
           },
           {
            "ECDF": 0.7339743589743589,
            "beak length (mm)": 11,
            "species": "fortis"
           },
           {
            "ECDF": 0.7371794871794872,
            "beak length (mm)": 11,
            "species": "fortis"
           },
           {
            "ECDF": 0.7371794871794872,
            "beak length (mm)": 11,
            "species": "fortis"
           },
           {
            "ECDF": 0.7403846153846154,
            "beak length (mm)": 11,
            "species": "fortis"
           },
           {
            "ECDF": 0.7403846153846154,
            "beak length (mm)": 11,
            "species": "fortis"
           },
           {
            "ECDF": 0.7435897435897436,
            "beak length (mm)": 11,
            "species": "fortis"
           },
           {
            "ECDF": 0.7435897435897436,
            "beak length (mm)": 11,
            "species": "fortis"
           },
           {
            "ECDF": 0.7467948717948718,
            "beak length (mm)": 11,
            "species": "fortis"
           },
           {
            "ECDF": 0.7467948717948718,
            "beak length (mm)": 11,
            "species": "fortis"
           },
           {
            "ECDF": 0.75,
            "beak length (mm)": 11,
            "species": "fortis"
           },
           {
            "ECDF": 0.75,
            "beak length (mm)": 11,
            "species": "fortis"
           },
           {
            "ECDF": 0.7532051282051282,
            "beak length (mm)": 11,
            "species": "fortis"
           },
           {
            "ECDF": 0.7532051282051282,
            "beak length (mm)": 11,
            "species": "fortis"
           },
           {
            "ECDF": 0.7564102564102564,
            "beak length (mm)": 11,
            "species": "fortis"
           },
           {
            "ECDF": 0.7564102564102564,
            "beak length (mm)": 11,
            "species": "fortis"
           },
           {
            "ECDF": 0.7596153846153846,
            "beak length (mm)": 11,
            "species": "fortis"
           },
           {
            "ECDF": 0.7596153846153846,
            "beak length (mm)": 11,
            "species": "fortis"
           },
           {
            "ECDF": 0.7628205128205128,
            "beak length (mm)": 11,
            "species": "fortis"
           },
           {
            "ECDF": 0.7628205128205128,
            "beak length (mm)": 11,
            "species": "fortis"
           },
           {
            "ECDF": 0.7660256410256411,
            "beak length (mm)": 11,
            "species": "fortis"
           },
           {
            "ECDF": 0.7660256410256411,
            "beak length (mm)": 11,
            "species": "fortis"
           },
           {
            "ECDF": 0.7692307692307693,
            "beak length (mm)": 11,
            "species": "fortis"
           },
           {
            "ECDF": 0.7692307692307693,
            "beak length (mm)": 11,
            "species": "fortis"
           },
           {
            "ECDF": 0.7724358974358975,
            "beak length (mm)": 11,
            "species": "fortis"
           },
           {
            "ECDF": 0.7724358974358975,
            "beak length (mm)": 11,
            "species": "fortis"
           },
           {
            "ECDF": 0.7756410256410257,
            "beak length (mm)": 11,
            "species": "fortis"
           },
           {
            "ECDF": 0.7756410256410257,
            "beak length (mm)": 11,
            "species": "fortis"
           },
           {
            "ECDF": 0.7788461538461539,
            "beak length (mm)": 11,
            "species": "fortis"
           },
           {
            "ECDF": 0.7788461538461539,
            "beak length (mm)": 11,
            "species": "fortis"
           },
           {
            "ECDF": 0.782051282051282,
            "beak length (mm)": 11,
            "species": "fortis"
           },
           {
            "ECDF": 0.782051282051282,
            "beak length (mm)": 11.03,
            "species": "fortis"
           },
           {
            "ECDF": 0.7852564102564102,
            "beak length (mm)": 11.03,
            "species": "fortis"
           },
           {
            "ECDF": 0.7852564102564102,
            "beak length (mm)": 11.03,
            "species": "fortis"
           },
           {
            "ECDF": 0.7884615384615384,
            "beak length (mm)": 11.03,
            "species": "fortis"
           },
           {
            "ECDF": 0.7884615384615384,
            "beak length (mm)": 11.1,
            "species": "fortis"
           },
           {
            "ECDF": 0.7916666666666666,
            "beak length (mm)": 11.1,
            "species": "fortis"
           },
           {
            "ECDF": 0.7916666666666666,
            "beak length (mm)": 11.1,
            "species": "fortis"
           },
           {
            "ECDF": 0.7948717948717948,
            "beak length (mm)": 11.1,
            "species": "fortis"
           },
           {
            "ECDF": 0.7948717948717948,
            "beak length (mm)": 11.1,
            "species": "fortis"
           },
           {
            "ECDF": 0.7980769230769231,
            "beak length (mm)": 11.1,
            "species": "fortis"
           },
           {
            "ECDF": 0.7980769230769231,
            "beak length (mm)": 11.1,
            "species": "fortis"
           },
           {
            "ECDF": 0.8012820512820513,
            "beak length (mm)": 11.1,
            "species": "fortis"
           },
           {
            "ECDF": 0.8012820512820513,
            "beak length (mm)": 11.1,
            "species": "fortis"
           },
           {
            "ECDF": 0.8044871794871795,
            "beak length (mm)": 11.1,
            "species": "fortis"
           },
           {
            "ECDF": 0.8044871794871795,
            "beak length (mm)": 11.1,
            "species": "fortis"
           },
           {
            "ECDF": 0.8076923076923077,
            "beak length (mm)": 11.1,
            "species": "fortis"
           },
           {
            "ECDF": 0.8076923076923077,
            "beak length (mm)": 11.1,
            "species": "fortis"
           },
           {
            "ECDF": 0.8108974358974359,
            "beak length (mm)": 11.1,
            "species": "fortis"
           },
           {
            "ECDF": 0.8108974358974359,
            "beak length (mm)": 11.1,
            "species": "fortis"
           },
           {
            "ECDF": 0.8141025641025641,
            "beak length (mm)": 11.1,
            "species": "fortis"
           },
           {
            "ECDF": 0.8141025641025641,
            "beak length (mm)": 11.1,
            "species": "fortis"
           },
           {
            "ECDF": 0.8173076923076923,
            "beak length (mm)": 11.1,
            "species": "fortis"
           },
           {
            "ECDF": 0.8173076923076923,
            "beak length (mm)": 11.1,
            "species": "fortis"
           },
           {
            "ECDF": 0.8205128205128205,
            "beak length (mm)": 11.1,
            "species": "fortis"
           },
           {
            "ECDF": 0.8205128205128205,
            "beak length (mm)": 11.2,
            "species": "fortis"
           },
           {
            "ECDF": 0.8237179487179487,
            "beak length (mm)": 11.2,
            "species": "fortis"
           },
           {
            "ECDF": 0.8237179487179487,
            "beak length (mm)": 11.2,
            "species": "fortis"
           },
           {
            "ECDF": 0.8269230769230769,
            "beak length (mm)": 11.2,
            "species": "fortis"
           },
           {
            "ECDF": 0.8269230769230769,
            "beak length (mm)": 11.2,
            "species": "fortis"
           },
           {
            "ECDF": 0.8301282051282052,
            "beak length (mm)": 11.2,
            "species": "fortis"
           },
           {
            "ECDF": 0.8301282051282052,
            "beak length (mm)": 11.2,
            "species": "fortis"
           },
           {
            "ECDF": 0.8333333333333334,
            "beak length (mm)": 11.2,
            "species": "fortis"
           },
           {
            "ECDF": 0.8333333333333334,
            "beak length (mm)": 11.2,
            "species": "fortis"
           },
           {
            "ECDF": 0.8365384615384616,
            "beak length (mm)": 11.2,
            "species": "fortis"
           },
           {
            "ECDF": 0.8365384615384616,
            "beak length (mm)": 11.2,
            "species": "fortis"
           },
           {
            "ECDF": 0.8397435897435898,
            "beak length (mm)": 11.2,
            "species": "fortis"
           },
           {
            "ECDF": 0.8397435897435898,
            "beak length (mm)": 11.2,
            "species": "fortis"
           },
           {
            "ECDF": 0.842948717948718,
            "beak length (mm)": 11.2,
            "species": "fortis"
           },
           {
            "ECDF": 0.842948717948718,
            "beak length (mm)": 11.2,
            "species": "fortis"
           },
           {
            "ECDF": 0.8461538461538461,
            "beak length (mm)": 11.2,
            "species": "fortis"
           },
           {
            "ECDF": 0.8461538461538461,
            "beak length (mm)": 11.2,
            "species": "fortis"
           },
           {
            "ECDF": 0.8493589743589743,
            "beak length (mm)": 11.2,
            "species": "fortis"
           },
           {
            "ECDF": 0.8493589743589743,
            "beak length (mm)": 11.2,
            "species": "fortis"
           },
           {
            "ECDF": 0.8525641025641025,
            "beak length (mm)": 11.2,
            "species": "fortis"
           },
           {
            "ECDF": 0.8525641025641025,
            "beak length (mm)": 11.2,
            "species": "fortis"
           },
           {
            "ECDF": 0.8557692307692307,
            "beak length (mm)": 11.2,
            "species": "fortis"
           },
           {
            "ECDF": 0.8557692307692307,
            "beak length (mm)": 11.23,
            "species": "fortis"
           },
           {
            "ECDF": 0.8589743589743589,
            "beak length (mm)": 11.23,
            "species": "fortis"
           },
           {
            "ECDF": 0.8589743589743589,
            "beak length (mm)": 11.3,
            "species": "fortis"
           },
           {
            "ECDF": 0.8621794871794872,
            "beak length (mm)": 11.3,
            "species": "fortis"
           },
           {
            "ECDF": 0.8621794871794872,
            "beak length (mm)": 11.3,
            "species": "fortis"
           },
           {
            "ECDF": 0.8653846153846154,
            "beak length (mm)": 11.3,
            "species": "fortis"
           },
           {
            "ECDF": 0.8653846153846154,
            "beak length (mm)": 11.3,
            "species": "fortis"
           },
           {
            "ECDF": 0.8685897435897436,
            "beak length (mm)": 11.3,
            "species": "fortis"
           },
           {
            "ECDF": 0.8685897435897436,
            "beak length (mm)": 11.3,
            "species": "fortis"
           },
           {
            "ECDF": 0.8717948717948718,
            "beak length (mm)": 11.3,
            "species": "fortis"
           },
           {
            "ECDF": 0.8717948717948718,
            "beak length (mm)": 11.3,
            "species": "fortis"
           },
           {
            "ECDF": 0.875,
            "beak length (mm)": 11.3,
            "species": "fortis"
           },
           {
            "ECDF": 0.875,
            "beak length (mm)": 11.4,
            "species": "fortis"
           },
           {
            "ECDF": 0.8782051282051282,
            "beak length (mm)": 11.4,
            "species": "fortis"
           },
           {
            "ECDF": 0.8782051282051282,
            "beak length (mm)": 11.4,
            "species": "fortis"
           },
           {
            "ECDF": 0.8814102564102564,
            "beak length (mm)": 11.4,
            "species": "fortis"
           },
           {
            "ECDF": 0.8814102564102564,
            "beak length (mm)": 11.4,
            "species": "fortis"
           },
           {
            "ECDF": 0.8846153846153846,
            "beak length (mm)": 11.4,
            "species": "fortis"
           },
           {
            "ECDF": 0.8846153846153846,
            "beak length (mm)": 11.43,
            "species": "fortis"
           },
           {
            "ECDF": 0.8878205128205128,
            "beak length (mm)": 11.43,
            "species": "fortis"
           },
           {
            "ECDF": 0.8878205128205128,
            "beak length (mm)": 11.45,
            "species": "fortis"
           },
           {
            "ECDF": 0.8910256410256411,
            "beak length (mm)": 11.45,
            "species": "fortis"
           },
           {
            "ECDF": 0.8910256410256411,
            "beak length (mm)": 11.5,
            "species": "fortis"
           },
           {
            "ECDF": 0.8942307692307693,
            "beak length (mm)": 11.5,
            "species": "fortis"
           },
           {
            "ECDF": 0.8942307692307693,
            "beak length (mm)": 11.5,
            "species": "fortis"
           },
           {
            "ECDF": 0.8974358974358975,
            "beak length (mm)": 11.5,
            "species": "fortis"
           },
           {
            "ECDF": 0.8974358974358975,
            "beak length (mm)": 11.5,
            "species": "fortis"
           },
           {
            "ECDF": 0.9006410256410257,
            "beak length (mm)": 11.5,
            "species": "fortis"
           },
           {
            "ECDF": 0.9006410256410257,
            "beak length (mm)": 11.5,
            "species": "fortis"
           },
           {
            "ECDF": 0.9038461538461539,
            "beak length (mm)": 11.5,
            "species": "fortis"
           },
           {
            "ECDF": 0.9038461538461539,
            "beak length (mm)": 11.5,
            "species": "fortis"
           },
           {
            "ECDF": 0.907051282051282,
            "beak length (mm)": 11.5,
            "species": "fortis"
           },
           {
            "ECDF": 0.907051282051282,
            "beak length (mm)": 11.5,
            "species": "fortis"
           },
           {
            "ECDF": 0.9102564102564102,
            "beak length (mm)": 11.5,
            "species": "fortis"
           },
           {
            "ECDF": 0.9102564102564102,
            "beak length (mm)": 11.5,
            "species": "fortis"
           },
           {
            "ECDF": 0.9134615384615384,
            "beak length (mm)": 11.5,
            "species": "fortis"
           },
           {
            "ECDF": 0.9134615384615384,
            "beak length (mm)": 11.5,
            "species": "fortis"
           },
           {
            "ECDF": 0.9166666666666666,
            "beak length (mm)": 11.5,
            "species": "fortis"
           },
           {
            "ECDF": 0.9166666666666666,
            "beak length (mm)": 11.53,
            "species": "fortis"
           },
           {
            "ECDF": 0.9198717948717948,
            "beak length (mm)": 11.53,
            "species": "fortis"
           },
           {
            "ECDF": 0.9198717948717948,
            "beak length (mm)": 11.6,
            "species": "fortis"
           },
           {
            "ECDF": 0.9230769230769231,
            "beak length (mm)": 11.6,
            "species": "fortis"
           },
           {
            "ECDF": 0.9230769230769231,
            "beak length (mm)": 11.6,
            "species": "fortis"
           },
           {
            "ECDF": 0.9262820512820513,
            "beak length (mm)": 11.6,
            "species": "fortis"
           },
           {
            "ECDF": 0.9262820512820513,
            "beak length (mm)": 11.6,
            "species": "fortis"
           },
           {
            "ECDF": 0.9294871794871795,
            "beak length (mm)": 11.6,
            "species": "fortis"
           },
           {
            "ECDF": 0.9294871794871795,
            "beak length (mm)": 11.6,
            "species": "fortis"
           },
           {
            "ECDF": 0.9326923076923077,
            "beak length (mm)": 11.6,
            "species": "fortis"
           },
           {
            "ECDF": 0.9326923076923077,
            "beak length (mm)": 11.6,
            "species": "fortis"
           },
           {
            "ECDF": 0.9358974358974359,
            "beak length (mm)": 11.6,
            "species": "fortis"
           },
           {
            "ECDF": 0.9358974358974359,
            "beak length (mm)": 11.6,
            "species": "fortis"
           },
           {
            "ECDF": 0.9391025641025641,
            "beak length (mm)": 11.6,
            "species": "fortis"
           },
           {
            "ECDF": 0.9391025641025641,
            "beak length (mm)": 11.7,
            "species": "fortis"
           },
           {
            "ECDF": 0.9423076923076923,
            "beak length (mm)": 11.7,
            "species": "fortis"
           },
           {
            "ECDF": 0.9423076923076923,
            "beak length (mm)": 11.7,
            "species": "fortis"
           },
           {
            "ECDF": 0.9455128205128205,
            "beak length (mm)": 11.7,
            "species": "fortis"
           },
           {
            "ECDF": 0.9455128205128205,
            "beak length (mm)": 11.7,
            "species": "fortis"
           },
           {
            "ECDF": 0.9487179487179487,
            "beak length (mm)": 11.7,
            "species": "fortis"
           },
           {
            "ECDF": 0.9487179487179487,
            "beak length (mm)": 11.73,
            "species": "fortis"
           },
           {
            "ECDF": 0.9519230769230769,
            "beak length (mm)": 11.73,
            "species": "fortis"
           },
           {
            "ECDF": 0.9519230769230769,
            "beak length (mm)": 11.73,
            "species": "fortis"
           },
           {
            "ECDF": 0.9551282051282052,
            "beak length (mm)": 11.73,
            "species": "fortis"
           },
           {
            "ECDF": 0.9551282051282052,
            "beak length (mm)": 11.75,
            "species": "fortis"
           },
           {
            "ECDF": 0.9583333333333334,
            "beak length (mm)": 11.75,
            "species": "fortis"
           },
           {
            "ECDF": 0.9583333333333334,
            "beak length (mm)": 11.8,
            "species": "fortis"
           },
           {
            "ECDF": 0.9615384615384616,
            "beak length (mm)": 11.8,
            "species": "fortis"
           },
           {
            "ECDF": 0.9615384615384616,
            "beak length (mm)": 11.8,
            "species": "fortis"
           },
           {
            "ECDF": 0.9647435897435898,
            "beak length (mm)": 11.8,
            "species": "fortis"
           },
           {
            "ECDF": 0.9647435897435898,
            "beak length (mm)": 11.8,
            "species": "fortis"
           },
           {
            "ECDF": 0.967948717948718,
            "beak length (mm)": 11.8,
            "species": "fortis"
           },
           {
            "ECDF": 0.967948717948718,
            "beak length (mm)": 11.8,
            "species": "fortis"
           },
           {
            "ECDF": 0.9711538461538461,
            "beak length (mm)": 11.8,
            "species": "fortis"
           },
           {
            "ECDF": 0.9711538461538461,
            "beak length (mm)": 11.8,
            "species": "fortis"
           },
           {
            "ECDF": 0.9743589743589743,
            "beak length (mm)": 11.8,
            "species": "fortis"
           },
           {
            "ECDF": 0.9743589743589743,
            "beak length (mm)": 11.83,
            "species": "fortis"
           },
           {
            "ECDF": 0.9775641025641025,
            "beak length (mm)": 11.83,
            "species": "fortis"
           },
           {
            "ECDF": 0.9775641025641025,
            "beak length (mm)": 11.88,
            "species": "fortis"
           },
           {
            "ECDF": 0.9807692307692307,
            "beak length (mm)": 11.88,
            "species": "fortis"
           },
           {
            "ECDF": 0.9807692307692307,
            "beak length (mm)": 11.9,
            "species": "fortis"
           },
           {
            "ECDF": 0.9839743589743589,
            "beak length (mm)": 11.9,
            "species": "fortis"
           },
           {
            "ECDF": 0.9839743589743589,
            "beak length (mm)": 11.9,
            "species": "fortis"
           },
           {
            "ECDF": 0.9871794871794872,
            "beak length (mm)": 11.9,
            "species": "fortis"
           },
           {
            "ECDF": 0.9871794871794872,
            "beak length (mm)": 12,
            "species": "fortis"
           },
           {
            "ECDF": 0.9903846153846154,
            "beak length (mm)": 12,
            "species": "fortis"
           },
           {
            "ECDF": 0.9903846153846154,
            "beak length (mm)": 12.1,
            "species": "fortis"
           },
           {
            "ECDF": 0.9935897435897436,
            "beak length (mm)": 12.1,
            "species": "fortis"
           },
           {
            "ECDF": 0.9935897435897436,
            "beak length (mm)": 12.2,
            "species": "fortis"
           },
           {
            "ECDF": 0.9967948717948718,
            "beak length (mm)": 12.2,
            "species": "fortis"
           },
           {
            "ECDF": 0.9967948717948718,
            "beak length (mm)": 12.2,
            "species": "fortis"
           },
           {
            "ECDF": 1,
            "beak length (mm)": 12.2,
            "species": "fortis"
           },
           {
            "ECDF": 1,
            "beak length (mm)": 12.2,
            "species": "fortis"
           },
           {
            "ECDF": 1,
            "beak length (mm)": 16.302,
            "species": "fortis"
           },
           {
            "ECDF": 0,
            "beak length (mm)": 8.338,
            "species": "scandens"
           },
           {
            "ECDF": 0,
            "beak length (mm)": 12.8,
            "species": "scandens"
           },
           {
            "ECDF": 0,
            "beak length (mm)": 12.8,
            "species": "scandens"
           },
           {
            "ECDF": 0.011494252873563218,
            "beak length (mm)": 12.8,
            "species": "scandens"
           },
           {
            "ECDF": 0.011494252873563218,
            "beak length (mm)": 12.8,
            "species": "scandens"
           },
           {
            "ECDF": 0.022988505747126436,
            "beak length (mm)": 12.8,
            "species": "scandens"
           },
           {
            "ECDF": 0.022988505747126436,
            "beak length (mm)": 12.8,
            "species": "scandens"
           },
           {
            "ECDF": 0.034482758620689655,
            "beak length (mm)": 12.8,
            "species": "scandens"
           },
           {
            "ECDF": 0.034482758620689655,
            "beak length (mm)": 12.9,
            "species": "scandens"
           },
           {
            "ECDF": 0.04597701149425287,
            "beak length (mm)": 12.9,
            "species": "scandens"
           },
           {
            "ECDF": 0.04597701149425287,
            "beak length (mm)": 12.9,
            "species": "scandens"
           },
           {
            "ECDF": 0.05747126436781609,
            "beak length (mm)": 12.9,
            "species": "scandens"
           },
           {
            "ECDF": 0.05747126436781609,
            "beak length (mm)": 12.9,
            "species": "scandens"
           },
           {
            "ECDF": 0.06896551724137931,
            "beak length (mm)": 12.9,
            "species": "scandens"
           },
           {
            "ECDF": 0.06896551724137931,
            "beak length (mm)": 13,
            "species": "scandens"
           },
           {
            "ECDF": 0.08045977011494253,
            "beak length (mm)": 13,
            "species": "scandens"
           },
           {
            "ECDF": 0.08045977011494253,
            "beak length (mm)": 13,
            "species": "scandens"
           },
           {
            "ECDF": 0.09195402298850575,
            "beak length (mm)": 13,
            "species": "scandens"
           },
           {
            "ECDF": 0.09195402298850575,
            "beak length (mm)": 13,
            "species": "scandens"
           },
           {
            "ECDF": 0.10344827586206896,
            "beak length (mm)": 13,
            "species": "scandens"
           },
           {
            "ECDF": 0.10344827586206896,
            "beak length (mm)": 13.1,
            "species": "scandens"
           },
           {
            "ECDF": 0.11494252873563218,
            "beak length (mm)": 13.1,
            "species": "scandens"
           },
           {
            "ECDF": 0.11494252873563218,
            "beak length (mm)": 13.1,
            "species": "scandens"
           },
           {
            "ECDF": 0.12643678160919541,
            "beak length (mm)": 13.1,
            "species": "scandens"
           },
           {
            "ECDF": 0.12643678160919541,
            "beak length (mm)": 13.25,
            "species": "scandens"
           },
           {
            "ECDF": 0.13793103448275862,
            "beak length (mm)": 13.25,
            "species": "scandens"
           },
           {
            "ECDF": 0.13793103448275862,
            "beak length (mm)": 13.4,
            "species": "scandens"
           },
           {
            "ECDF": 0.14942528735632185,
            "beak length (mm)": 13.4,
            "species": "scandens"
           },
           {
            "ECDF": 0.14942528735632185,
            "beak length (mm)": 13.4,
            "species": "scandens"
           },
           {
            "ECDF": 0.16091954022988506,
            "beak length (mm)": 13.4,
            "species": "scandens"
           },
           {
            "ECDF": 0.16091954022988506,
            "beak length (mm)": 13.4,
            "species": "scandens"
           },
           {
            "ECDF": 0.1724137931034483,
            "beak length (mm)": 13.4,
            "species": "scandens"
           },
           {
            "ECDF": 0.1724137931034483,
            "beak length (mm)": 13.4,
            "species": "scandens"
           },
           {
            "ECDF": 0.1839080459770115,
            "beak length (mm)": 13.4,
            "species": "scandens"
           },
           {
            "ECDF": 0.1839080459770115,
            "beak length (mm)": 13.4,
            "species": "scandens"
           },
           {
            "ECDF": 0.19540229885057472,
            "beak length (mm)": 13.4,
            "species": "scandens"
           },
           {
            "ECDF": 0.19540229885057472,
            "beak length (mm)": 13.5,
            "species": "scandens"
           },
           {
            "ECDF": 0.20689655172413793,
            "beak length (mm)": 13.5,
            "species": "scandens"
           },
           {
            "ECDF": 0.20689655172413793,
            "beak length (mm)": 13.5,
            "species": "scandens"
           },
           {
            "ECDF": 0.21839080459770116,
            "beak length (mm)": 13.5,
            "species": "scandens"
           },
           {
            "ECDF": 0.21839080459770116,
            "beak length (mm)": 13.5,
            "species": "scandens"
           },
           {
            "ECDF": 0.22988505747126436,
            "beak length (mm)": 13.5,
            "species": "scandens"
           },
           {
            "ECDF": 0.22988505747126436,
            "beak length (mm)": 13.5,
            "species": "scandens"
           },
           {
            "ECDF": 0.2413793103448276,
            "beak length (mm)": 13.5,
            "species": "scandens"
           },
           {
            "ECDF": 0.2413793103448276,
            "beak length (mm)": 13.5,
            "species": "scandens"
           },
           {
            "ECDF": 0.25287356321839083,
            "beak length (mm)": 13.5,
            "species": "scandens"
           },
           {
            "ECDF": 0.25287356321839083,
            "beak length (mm)": 13.5,
            "species": "scandens"
           },
           {
            "ECDF": 0.26436781609195403,
            "beak length (mm)": 13.5,
            "species": "scandens"
           },
           {
            "ECDF": 0.26436781609195403,
            "beak length (mm)": 13.6,
            "species": "scandens"
           },
           {
            "ECDF": 0.27586206896551724,
            "beak length (mm)": 13.6,
            "species": "scandens"
           },
           {
            "ECDF": 0.27586206896551724,
            "beak length (mm)": 13.6,
            "species": "scandens"
           },
           {
            "ECDF": 0.28735632183908044,
            "beak length (mm)": 13.6,
            "species": "scandens"
           },
           {
            "ECDF": 0.28735632183908044,
            "beak length (mm)": 13.7,
            "species": "scandens"
           },
           {
            "ECDF": 0.2988505747126437,
            "beak length (mm)": 13.7,
            "species": "scandens"
           },
           {
            "ECDF": 0.2988505747126437,
            "beak length (mm)": 13.7,
            "species": "scandens"
           },
           {
            "ECDF": 0.3103448275862069,
            "beak length (mm)": 13.7,
            "species": "scandens"
           },
           {
            "ECDF": 0.3103448275862069,
            "beak length (mm)": 13.8,
            "species": "scandens"
           },
           {
            "ECDF": 0.3218390804597701,
            "beak length (mm)": 13.8,
            "species": "scandens"
           },
           {
            "ECDF": 0.3218390804597701,
            "beak length (mm)": 13.8,
            "species": "scandens"
           },
           {
            "ECDF": 0.3333333333333333,
            "beak length (mm)": 13.8,
            "species": "scandens"
           },
           {
            "ECDF": 0.3333333333333333,
            "beak length (mm)": 13.8,
            "species": "scandens"
           },
           {
            "ECDF": 0.3448275862068966,
            "beak length (mm)": 13.8,
            "species": "scandens"
           },
           {
            "ECDF": 0.3448275862068966,
            "beak length (mm)": 13.8,
            "species": "scandens"
           },
           {
            "ECDF": 0.3563218390804598,
            "beak length (mm)": 13.8,
            "species": "scandens"
           },
           {
            "ECDF": 0.3563218390804598,
            "beak length (mm)": 13.9,
            "species": "scandens"
           },
           {
            "ECDF": 0.367816091954023,
            "beak length (mm)": 13.9,
            "species": "scandens"
           },
           {
            "ECDF": 0.367816091954023,
            "beak length (mm)": 13.9,
            "species": "scandens"
           },
           {
            "ECDF": 0.3793103448275862,
            "beak length (mm)": 13.9,
            "species": "scandens"
           },
           {
            "ECDF": 0.3793103448275862,
            "beak length (mm)": 13.9,
            "species": "scandens"
           },
           {
            "ECDF": 0.39080459770114945,
            "beak length (mm)": 13.9,
            "species": "scandens"
           },
           {
            "ECDF": 0.39080459770114945,
            "beak length (mm)": 13.95,
            "species": "scandens"
           },
           {
            "ECDF": 0.40229885057471265,
            "beak length (mm)": 13.95,
            "species": "scandens"
           },
           {
            "ECDF": 0.40229885057471265,
            "beak length (mm)": 14,
            "species": "scandens"
           },
           {
            "ECDF": 0.41379310344827586,
            "beak length (mm)": 14,
            "species": "scandens"
           },
           {
            "ECDF": 0.41379310344827586,
            "beak length (mm)": 14,
            "species": "scandens"
           },
           {
            "ECDF": 0.42528735632183906,
            "beak length (mm)": 14,
            "species": "scandens"
           },
           {
            "ECDF": 0.42528735632183906,
            "beak length (mm)": 14,
            "species": "scandens"
           },
           {
            "ECDF": 0.4367816091954023,
            "beak length (mm)": 14,
            "species": "scandens"
           },
           {
            "ECDF": 0.4367816091954023,
            "beak length (mm)": 14,
            "species": "scandens"
           },
           {
            "ECDF": 0.4482758620689655,
            "beak length (mm)": 14,
            "species": "scandens"
           },
           {
            "ECDF": 0.4482758620689655,
            "beak length (mm)": 14,
            "species": "scandens"
           },
           {
            "ECDF": 0.45977011494252873,
            "beak length (mm)": 14,
            "species": "scandens"
           },
           {
            "ECDF": 0.45977011494252873,
            "beak length (mm)": 14,
            "species": "scandens"
           },
           {
            "ECDF": 0.47126436781609193,
            "beak length (mm)": 14,
            "species": "scandens"
           },
           {
            "ECDF": 0.47126436781609193,
            "beak length (mm)": 14,
            "species": "scandens"
           },
           {
            "ECDF": 0.4827586206896552,
            "beak length (mm)": 14,
            "species": "scandens"
           },
           {
            "ECDF": 0.4827586206896552,
            "beak length (mm)": 14,
            "species": "scandens"
           },
           {
            "ECDF": 0.4942528735632184,
            "beak length (mm)": 14,
            "species": "scandens"
           },
           {
            "ECDF": 0.4942528735632184,
            "beak length (mm)": 14,
            "species": "scandens"
           },
           {
            "ECDF": 0.5057471264367817,
            "beak length (mm)": 14,
            "species": "scandens"
           },
           {
            "ECDF": 0.5057471264367817,
            "beak length (mm)": 14,
            "species": "scandens"
           },
           {
            "ECDF": 0.5172413793103449,
            "beak length (mm)": 14,
            "species": "scandens"
           },
           {
            "ECDF": 0.5172413793103449,
            "beak length (mm)": 14,
            "species": "scandens"
           },
           {
            "ECDF": 0.5287356321839081,
            "beak length (mm)": 14,
            "species": "scandens"
           },
           {
            "ECDF": 0.5287356321839081,
            "beak length (mm)": 14.05,
            "species": "scandens"
           },
           {
            "ECDF": 0.5402298850574713,
            "beak length (mm)": 14.05,
            "species": "scandens"
           },
           {
            "ECDF": 0.5402298850574713,
            "beak length (mm)": 14.05,
            "species": "scandens"
           },
           {
            "ECDF": 0.5517241379310345,
            "beak length (mm)": 14.05,
            "species": "scandens"
           },
           {
            "ECDF": 0.5517241379310345,
            "beak length (mm)": 14.15,
            "species": "scandens"
           },
           {
            "ECDF": 0.5632183908045977,
            "beak length (mm)": 14.15,
            "species": "scandens"
           },
           {
            "ECDF": 0.5632183908045977,
            "beak length (mm)": 14.2,
            "species": "scandens"
           },
           {
            "ECDF": 0.5747126436781609,
            "beak length (mm)": 14.2,
            "species": "scandens"
           },
           {
            "ECDF": 0.5747126436781609,
            "beak length (mm)": 14.2,
            "species": "scandens"
           },
           {
            "ECDF": 0.5862068965517241,
            "beak length (mm)": 14.2,
            "species": "scandens"
           },
           {
            "ECDF": 0.5862068965517241,
            "beak length (mm)": 14.2,
            "species": "scandens"
           },
           {
            "ECDF": 0.5977011494252874,
            "beak length (mm)": 14.2,
            "species": "scandens"
           },
           {
            "ECDF": 0.5977011494252874,
            "beak length (mm)": 14.2,
            "species": "scandens"
           },
           {
            "ECDF": 0.6091954022988506,
            "beak length (mm)": 14.2,
            "species": "scandens"
           },
           {
            "ECDF": 0.6091954022988506,
            "beak length (mm)": 14.2,
            "species": "scandens"
           },
           {
            "ECDF": 0.6206896551724138,
            "beak length (mm)": 14.2,
            "species": "scandens"
           },
           {
            "ECDF": 0.6206896551724138,
            "beak length (mm)": 14.23,
            "species": "scandens"
           },
           {
            "ECDF": 0.632183908045977,
            "beak length (mm)": 14.23,
            "species": "scandens"
           },
           {
            "ECDF": 0.632183908045977,
            "beak length (mm)": 14.35,
            "species": "scandens"
           },
           {
            "ECDF": 0.6436781609195402,
            "beak length (mm)": 14.35,
            "species": "scandens"
           },
           {
            "ECDF": 0.6436781609195402,
            "beak length (mm)": 14.4,
            "species": "scandens"
           },
           {
            "ECDF": 0.6551724137931034,
            "beak length (mm)": 14.4,
            "species": "scandens"
           },
           {
            "ECDF": 0.6551724137931034,
            "beak length (mm)": 14.4,
            "species": "scandens"
           },
           {
            "ECDF": 0.6666666666666666,
            "beak length (mm)": 14.4,
            "species": "scandens"
           },
           {
            "ECDF": 0.6666666666666666,
            "beak length (mm)": 14.45,
            "species": "scandens"
           },
           {
            "ECDF": 0.6781609195402298,
            "beak length (mm)": 14.45,
            "species": "scandens"
           },
           {
            "ECDF": 0.6781609195402298,
            "beak length (mm)": 14.55,
            "species": "scandens"
           },
           {
            "ECDF": 0.6896551724137931,
            "beak length (mm)": 14.55,
            "species": "scandens"
           },
           {
            "ECDF": 0.6896551724137931,
            "beak length (mm)": 14.6,
            "species": "scandens"
           },
           {
            "ECDF": 0.7011494252873564,
            "beak length (mm)": 14.6,
            "species": "scandens"
           },
           {
            "ECDF": 0.7011494252873564,
            "beak length (mm)": 14.6,
            "species": "scandens"
           },
           {
            "ECDF": 0.7126436781609196,
            "beak length (mm)": 14.6,
            "species": "scandens"
           },
           {
            "ECDF": 0.7126436781609196,
            "beak length (mm)": 14.6,
            "species": "scandens"
           },
           {
            "ECDF": 0.7241379310344828,
            "beak length (mm)": 14.6,
            "species": "scandens"
           },
           {
            "ECDF": 0.7241379310344828,
            "beak length (mm)": 14.63,
            "species": "scandens"
           },
           {
            "ECDF": 0.735632183908046,
            "beak length (mm)": 14.63,
            "species": "scandens"
           },
           {
            "ECDF": 0.735632183908046,
            "beak length (mm)": 14.73,
            "species": "scandens"
           },
           {
            "ECDF": 0.7471264367816092,
            "beak length (mm)": 14.73,
            "species": "scandens"
           },
           {
            "ECDF": 0.7471264367816092,
            "beak length (mm)": 14.75,
            "species": "scandens"
           },
           {
            "ECDF": 0.7586206896551724,
            "beak length (mm)": 14.75,
            "species": "scandens"
           },
           {
            "ECDF": 0.7586206896551724,
            "beak length (mm)": 14.8,
            "species": "scandens"
           },
           {
            "ECDF": 0.7701149425287356,
            "beak length (mm)": 14.8,
            "species": "scandens"
           },
           {
            "ECDF": 0.7701149425287356,
            "beak length (mm)": 14.83,
            "species": "scandens"
           },
           {
            "ECDF": 0.7816091954022989,
            "beak length (mm)": 14.83,
            "species": "scandens"
           },
           {
            "ECDF": 0.7816091954022989,
            "beak length (mm)": 14.9,
            "species": "scandens"
           },
           {
            "ECDF": 0.7931034482758621,
            "beak length (mm)": 14.9,
            "species": "scandens"
           },
           {
            "ECDF": 0.7931034482758621,
            "beak length (mm)": 14.9,
            "species": "scandens"
           },
           {
            "ECDF": 0.8045977011494253,
            "beak length (mm)": 14.9,
            "species": "scandens"
           },
           {
            "ECDF": 0.8045977011494253,
            "beak length (mm)": 14.9,
            "species": "scandens"
           },
           {
            "ECDF": 0.8160919540229885,
            "beak length (mm)": 14.9,
            "species": "scandens"
           },
           {
            "ECDF": 0.8160919540229885,
            "beak length (mm)": 14.9,
            "species": "scandens"
           },
           {
            "ECDF": 0.8275862068965517,
            "beak length (mm)": 14.9,
            "species": "scandens"
           },
           {
            "ECDF": 0.8275862068965517,
            "beak length (mm)": 14.9,
            "species": "scandens"
           },
           {
            "ECDF": 0.8390804597701149,
            "beak length (mm)": 14.9,
            "species": "scandens"
           },
           {
            "ECDF": 0.8390804597701149,
            "beak length (mm)": 14.95,
            "species": "scandens"
           },
           {
            "ECDF": 0.8505747126436781,
            "beak length (mm)": 14.95,
            "species": "scandens"
           },
           {
            "ECDF": 0.8505747126436781,
            "beak length (mm)": 15,
            "species": "scandens"
           },
           {
            "ECDF": 0.8620689655172413,
            "beak length (mm)": 15,
            "species": "scandens"
           },
           {
            "ECDF": 0.8620689655172413,
            "beak length (mm)": 15.05,
            "species": "scandens"
           },
           {
            "ECDF": 0.8735632183908046,
            "beak length (mm)": 15.05,
            "species": "scandens"
           },
           {
            "ECDF": 0.8735632183908046,
            "beak length (mm)": 15.1,
            "species": "scandens"
           },
           {
            "ECDF": 0.8850574712643678,
            "beak length (mm)": 15.1,
            "species": "scandens"
           },
           {
            "ECDF": 0.8850574712643678,
            "beak length (mm)": 15.1,
            "species": "scandens"
           },
           {
            "ECDF": 0.896551724137931,
            "beak length (mm)": 15.1,
            "species": "scandens"
           },
           {
            "ECDF": 0.896551724137931,
            "beak length (mm)": 15.1,
            "species": "scandens"
           },
           {
            "ECDF": 0.9080459770114943,
            "beak length (mm)": 15.1,
            "species": "scandens"
           },
           {
            "ECDF": 0.9080459770114943,
            "beak length (mm)": 15.1,
            "species": "scandens"
           },
           {
            "ECDF": 0.9195402298850575,
            "beak length (mm)": 15.1,
            "species": "scandens"
           },
           {
            "ECDF": 0.9195402298850575,
            "beak length (mm)": 15.14,
            "species": "scandens"
           },
           {
            "ECDF": 0.9310344827586207,
            "beak length (mm)": 15.14,
            "species": "scandens"
           },
           {
            "ECDF": 0.9310344827586207,
            "beak length (mm)": 15.2,
            "species": "scandens"
           },
           {
            "ECDF": 0.9425287356321839,
            "beak length (mm)": 15.2,
            "species": "scandens"
           },
           {
            "ECDF": 0.9425287356321839,
            "beak length (mm)": 15.3,
            "species": "scandens"
           },
           {
            "ECDF": 0.9540229885057471,
            "beak length (mm)": 15.3,
            "species": "scandens"
           },
           {
            "ECDF": 0.9540229885057471,
            "beak length (mm)": 15.54,
            "species": "scandens"
           },
           {
            "ECDF": 0.9655172413793104,
            "beak length (mm)": 15.54,
            "species": "scandens"
           },
           {
            "ECDF": 0.9655172413793104,
            "beak length (mm)": 15.6,
            "species": "scandens"
           },
           {
            "ECDF": 0.9770114942528736,
            "beak length (mm)": 15.6,
            "species": "scandens"
           },
           {
            "ECDF": 0.9770114942528736,
            "beak length (mm)": 15.73,
            "species": "scandens"
           },
           {
            "ECDF": 0.9885057471264368,
            "beak length (mm)": 15.73,
            "species": "scandens"
           },
           {
            "ECDF": 0.9885057471264368,
            "beak length (mm)": 15.94,
            "species": "scandens"
           },
           {
            "ECDF": 1,
            "beak length (mm)": 15.94,
            "species": "scandens"
           },
           {
            "ECDF": 1,
            "beak length (mm)": 15.94,
            "species": "scandens"
           },
           {
            "ECDF": 1,
            "beak length (mm)": 16.302,
            "species": "scandens"
           }
          ]
         },
         "encoding": {
          "color": {
           "field": "species",
           "type": "nominal"
          },
          "order": {
           "field": "beak length (mm)",
           "type": "quantitative"
          },
          "x": {
           "field": "beak length (mm)",
           "type": "quantitative"
          },
          "y": {
           "field": "ECDF",
           "type": "quantitative"
          }
         },
         "mark": "line"
        },
        {
         "data": {
          "values": [
           {
            "beak length (mm)": 8.7,
            "bs ecdf max": 0.019230769230769232,
            "bs ecdf min": 0.003205128205128205
           },
           {
            "beak length (mm)": 8.8,
            "bs ecdf max": 0.028846153846153848,
            "bs ecdf min": 0.003205128205128205
           },
           {
            "beak length (mm)": 9,
            "bs ecdf max": 0.03205128205128205,
            "bs ecdf min": 0.003205128205128205
           },
           {
            "beak length (mm)": 9.1,
            "bs ecdf max": 0.05448717948717949,
            "bs ecdf min": 0.003205128205128205
           },
           {
            "beak length (mm)": 9.2,
            "bs ecdf max": 0.07371794871794872,
            "bs ecdf min": 0.003205128205128205
           },
           {
            "beak length (mm)": 9.3,
            "bs ecdf max": 0.08012820512820513,
            "bs ecdf min": 0.003205128205128205
           },
           {
            "beak length (mm)": 9.4,
            "bs ecdf max": 0.09615384615384616,
            "bs ecdf min": 0.00641025641025641
           },
           {
            "beak length (mm)": 9.5,
            "bs ecdf max": 0.11217948717948718,
            "bs ecdf min": 0.009615384615384616
           },
           {
            "beak length (mm)": 9.6,
            "bs ecdf max": 0.14102564102564102,
            "bs ecdf min": 0.016025641025641024
           },
           {
            "beak length (mm)": 9.63,
            "bs ecdf max": 0.14423076923076922,
            "bs ecdf min": 0.03205128205128205
           },
           {
            "beak length (mm)": 9.65,
            "bs ecdf max": 0.15064102564102563,
            "bs ecdf min": 0.038461538461538464
           },
           {
            "beak length (mm)": 9.7,
            "bs ecdf max": 0.1891025641025641,
            "bs ecdf min": 0.028846153846153848
           },
           {
            "beak length (mm)": 9.8,
            "bs ecdf max": 0.22115384615384615,
            "bs ecdf min": 0.057692307692307696
           },
           {
            "beak length (mm)": 9.83,
            "bs ecdf max": 0.22115384615384615,
            "bs ecdf min": 0.08333333333333333
           },
           {
            "beak length (mm)": 9.85,
            "bs ecdf max": 0.23076923076923078,
            "bs ecdf min": 0.08974358974358974
           },
           {
            "beak length (mm)": 9.9,
            "bs ecdf max": 0.28525641025641024,
            "bs ecdf min": 0.08653846153846154
           },
           {
            "beak length (mm)": 9.93,
            "bs ecdf max": 0.28846153846153844,
            "bs ecdf min": 0.125
           },
           {
            "beak length (mm)": 10,
            "bs ecdf max": 0.3173076923076923,
            "bs ecdf min": 0.1282051282051282
           },
           {
            "beak length (mm)": 10.05,
            "bs ecdf max": 0.3173076923076923,
            "bs ecdf min": 0.14102564102564102
           },
           {
            "beak length (mm)": 10.1,
            "bs ecdf max": 0.3782051282051282,
            "bs ecdf min": 0.14423076923076922
           },
           {
            "beak length (mm)": 10.13,
            "bs ecdf max": 0.38461538461538464,
            "bs ecdf min": 0.1891025641025641
           },
           {
            "beak length (mm)": 10.15,
            "bs ecdf max": 0.38782051282051283,
            "bs ecdf min": 0.1891025641025641
           },
           {
            "beak length (mm)": 10.2,
            "bs ecdf max": 0.4583333333333333,
            "bs ecdf min": 0.19230769230769232
           },
           {
            "beak length (mm)": 10.23,
            "bs ecdf max": 0.4391025641025641,
            "bs ecdf min": 0.23717948717948717
           },
           {
            "beak length (mm)": 10.25,
            "bs ecdf max": 0.44871794871794873,
            "bs ecdf min": 0.2467948717948718
           },
           {
            "beak length (mm)": 10.3,
            "bs ecdf max": 0.49038461538461536,
            "bs ecdf min": 0.25
           },
           {
            "beak length (mm)": 10.33,
            "bs ecdf max": 0.5,
            "bs ecdf min": 0.28205128205128205
           },
           {
            "beak length (mm)": 10.4,
            "bs ecdf max": 0.5448717948717948,
            "bs ecdf min": 0.28525641025641024
           },
           {
            "beak length (mm)": 10.5,
            "bs ecdf max": 0.5961538461538461,
            "bs ecdf min": 0.32371794871794873
           },
           {
            "beak length (mm)": 10.53,
            "bs ecdf max": 0.6057692307692307,
            "bs ecdf min": 0.40064102564102566
           },
           {
            "beak length (mm)": 10.55,
            "bs ecdf max": 0.5961538461538461,
            "bs ecdf min": 0.40384615384615385
           },
           {
            "beak length (mm)": 10.6,
            "bs ecdf max": 0.6346153846153846,
            "bs ecdf min": 0.40705128205128205
           },
           {
            "beak length (mm)": 10.7,
            "bs ecdf max": 0.6762820512820513,
            "bs ecdf min": 0.4358974358974359
           },
           {
            "beak length (mm)": 10.73,
            "bs ecdf max": 0.6826923076923077,
            "bs ecdf min": 0.47115384615384615
           },
           {
            "beak length (mm)": 10.8,
            "bs ecdf max": 0.7371794871794872,
            "bs ecdf min": 0.4775641025641026
           },
           {
            "beak length (mm)": 10.83,
            "bs ecdf max": 0.7435897435897436,
            "bs ecdf min": 0.532051282051282
           },
           {
            "beak length (mm)": 10.85,
            "bs ecdf max": 0.75,
            "bs ecdf min": 0.5352564102564102
           },
           {
            "beak length (mm)": 10.9,
            "bs ecdf max": 0.7884615384615384,
            "bs ecdf min": 0.5416666666666666
           },
           {
            "beak length (mm)": 10.95,
            "bs ecdf max": 0.8012820512820513,
            "bs ecdf min": 0.592948717948718
           },
           {
            "beak length (mm)": 11,
            "bs ecdf max": 0.8717948717948718,
            "bs ecdf min": 0.6089743589743589
           },
           {
            "beak length (mm)": 11.03,
            "bs ecdf max": 0.875,
            "bs ecdf min": 0.6987179487179487
           },
           {
            "beak length (mm)": 11.1,
            "bs ecdf max": 0.8942307692307693,
            "bs ecdf min": 0.7083333333333334
           },
           {
            "beak length (mm)": 11.2,
            "bs ecdf max": 0.9262820512820513,
            "bs ecdf min": 0.7435897435897436
           },
           {
            "beak length (mm)": 11.23,
            "bs ecdf max": 0.9230769230769231,
            "bs ecdf min": 0.7692307692307693
           },
           {
            "beak length (mm)": 11.3,
            "bs ecdf max": 0.9358974358974359,
            "bs ecdf min": 0.7756410256410257
           },
           {
            "beak length (mm)": 11.4,
            "bs ecdf max": 0.9391025641025641,
            "bs ecdf min": 0.7948717948717948
           },
           {
            "beak length (mm)": 11.43,
            "bs ecdf max": 0.9487179487179487,
            "bs ecdf min": 0.8205128205128205
           },
           {
            "beak length (mm)": 11.45,
            "bs ecdf max": 0.9519230769230769,
            "bs ecdf min": 0.8173076923076923
           },
           {
            "beak length (mm)": 11.5,
            "bs ecdf max": 0.967948717948718,
            "bs ecdf min": 0.8237179487179487
           },
           {
            "beak length (mm)": 11.53,
            "bs ecdf max": 0.967948717948718,
            "bs ecdf min": 0.8525641025641025
           },
           {
            "beak length (mm)": 11.6,
            "bs ecdf max": 0.9839743589743589,
            "bs ecdf min": 0.8557692307692307
           },
           {
            "beak length (mm)": 11.7,
            "bs ecdf max": 0.9903846153846154,
            "bs ecdf min": 0.8814102564102564
           },
           {
            "beak length (mm)": 11.73,
            "bs ecdf max": 0.9935897435897436,
            "bs ecdf min": 0.8974358974358975
           },
           {
            "beak length (mm)": 11.75,
            "bs ecdf max": 0.9935897435897436,
            "bs ecdf min": 0.9038461538461539
           },
           {
            "beak length (mm)": 11.8,
            "bs ecdf max": 0.9967948717948718,
            "bs ecdf min": 0.9102564102564102
           },
           {
            "beak length (mm)": 11.83,
            "bs ecdf max": 1,
            "bs ecdf min": 0.9198717948717948
           },
           {
            "beak length (mm)": 11.88,
            "bs ecdf max": 1,
            "bs ecdf min": 0.9294871794871795
           },
           {
            "beak length (mm)": 11.9,
            "bs ecdf max": 1,
            "bs ecdf min": 0.9423076923076923
           },
           {
            "beak length (mm)": 12,
            "bs ecdf max": 1,
            "bs ecdf min": 0.9647435897435898
           },
           {
            "beak length (mm)": 12.1,
            "bs ecdf max": 1,
            "bs ecdf min": 0.967948717948718
           },
           {
            "beak length (mm)": 12.2,
            "bs ecdf max": 1,
            "bs ecdf min": 0.9743589743589743
           }
          ]
         },
         "encoding": {
          "order": {
           "field": "beak length (mm)",
           "type": "quantitative"
          },
          "x": {
           "field": "beak length (mm)",
           "type": "quantitative"
          },
          "y": {
           "field": "bs ecdf min",
           "title": "ECDF",
           "type": "quantitative"
          },
          "y2": {
           "field": "bs ecdf max",
           "title": "ECDF",
           "type": "quantitative"
          }
         },
         "mark": {
          "opacity": 0.3,
          "type": "area"
         }
        },
        {
         "data": {
          "values": [
           {
            "beak length (mm)": 12.8,
            "bs ecdf max": 0.11494252873563218,
            "bs ecdf min": 0.011494252873563218
           },
           {
            "beak length (mm)": 12.9,
            "bs ecdf max": 0.19540229885057472,
            "bs ecdf min": 0.011494252873563218
           },
           {
            "beak length (mm)": 13,
            "bs ecdf max": 0.2413793103448276,
            "bs ecdf min": 0.011494252873563218
           },
           {
            "beak length (mm)": 13.1,
            "bs ecdf max": 0.26436781609195403,
            "bs ecdf min": 0.011494252873563218
           },
           {
            "beak length (mm)": 13.25,
            "bs ecdf max": 0.28735632183908044,
            "bs ecdf min": 0.022988505747126436
           },
           {
            "beak length (mm)": 13.4,
            "bs ecdf max": 0.3563218390804598,
            "bs ecdf min": 0.034482758620689655
           },
           {
            "beak length (mm)": 13.5,
            "bs ecdf max": 0.4482758620689655,
            "bs ecdf min": 0.05747126436781609
           },
           {
            "beak length (mm)": 13.6,
            "bs ecdf max": 0.47126436781609193,
            "bs ecdf min": 0.12643678160919541
           },
           {
            "beak length (mm)": 13.7,
            "bs ecdf max": 0.5057471264367817,
            "bs ecdf min": 0.12643678160919541
           },
           {
            "beak length (mm)": 13.8,
            "bs ecdf max": 0.5517241379310345,
            "bs ecdf min": 0.14942528735632185
           },
           {
            "beak length (mm)": 13.9,
            "bs ecdf max": 0.5747126436781609,
            "bs ecdf min": 0.19540229885057472
           },
           {
            "beak length (mm)": 13.95,
            "bs ecdf max": 0.6091954022988506,
            "bs ecdf min": 0.22988505747126436
           },
           {
            "beak length (mm)": 14,
            "bs ecdf max": 0.735632183908046,
            "bs ecdf min": 0.2413793103448276
           },
           {
            "beak length (mm)": 14.05,
            "bs ecdf max": 0.7586206896551724,
            "bs ecdf min": 0.3333333333333333
           },
           {
            "beak length (mm)": 14.15,
            "bs ecdf max": 0.7471264367816092,
            "bs ecdf min": 0.3448275862068966
           },
           {
            "beak length (mm)": 14.2,
            "bs ecdf max": 0.8160919540229885,
            "bs ecdf min": 0.367816091954023
           },
           {
            "beak length (mm)": 14.23,
            "bs ecdf max": 0.8160919540229885,
            "bs ecdf min": 0.42528735632183906
           },
           {
            "beak length (mm)": 14.35,
            "bs ecdf max": 0.8275862068965517,
            "bs ecdf min": 0.4367816091954023
           },
           {
            "beak length (mm)": 14.4,
            "bs ecdf max": 0.8505747126436781,
            "bs ecdf min": 0.4367816091954023
           },
           {
            "beak length (mm)": 14.45,
            "bs ecdf max": 0.8505747126436781,
            "bs ecdf min": 0.47126436781609193
           },
           {
            "beak length (mm)": 14.55,
            "bs ecdf max": 0.8505747126436781,
            "bs ecdf min": 0.4942528735632184
           },
           {
            "beak length (mm)": 14.6,
            "bs ecdf max": 0.8850574712643678,
            "bs ecdf min": 0.5057471264367817
           },
           {
            "beak length (mm)": 14.63,
            "bs ecdf max": 0.896551724137931,
            "bs ecdf min": 0.5287356321839081
           },
           {
            "beak length (mm)": 14.73,
            "bs ecdf max": 0.9080459770114943,
            "bs ecdf min": 0.5517241379310345
           },
           {
            "beak length (mm)": 14.75,
            "bs ecdf max": 0.9080459770114943,
            "bs ecdf min": 0.5862068965517241
           },
           {
            "beak length (mm)": 14.8,
            "bs ecdf max": 0.9310344827586207,
            "bs ecdf min": 0.5977011494252874
           },
           {
            "beak length (mm)": 14.83,
            "bs ecdf max": 0.9195402298850575,
            "bs ecdf min": 0.6091954022988506
           },
           {
            "beak length (mm)": 14.9,
            "bs ecdf max": 0.9770114942528736,
            "bs ecdf min": 0.6206896551724138
           },
           {
            "beak length (mm)": 14.95,
            "bs ecdf max": 0.9770114942528736,
            "bs ecdf min": 0.6896551724137931
           },
           {
            "beak length (mm)": 15,
            "bs ecdf max": 0.9770114942528736,
            "bs ecdf min": 0.7126436781609196
           },
           {
            "beak length (mm)": 15.05,
            "bs ecdf max": 1,
            "bs ecdf min": 0.7241379310344828
           },
           {
            "beak length (mm)": 15.1,
            "bs ecdf max": 1,
            "bs ecdf min": 0.7241379310344828
           },
           {
            "beak length (mm)": 15.14,
            "bs ecdf max": 1,
            "bs ecdf min": 0.7931034482758621
           },
           {
            "beak length (mm)": 15.2,
            "bs ecdf max": 1,
            "bs ecdf min": 0.8275862068965517
           },
           {
            "beak length (mm)": 15.3,
            "bs ecdf max": 1,
            "bs ecdf min": 0.8505747126436781
           },
           {
            "beak length (mm)": 15.54,
            "bs ecdf max": 1,
            "bs ecdf min": 0.8620689655172413
           },
           {
            "beak length (mm)": 15.6,
            "bs ecdf max": 1,
            "bs ecdf min": 0.8735632183908046
           },
           {
            "beak length (mm)": 15.73,
            "bs ecdf max": 1,
            "bs ecdf min": 0.9080459770114943
           },
           {
            "beak length (mm)": 15.94,
            "bs ecdf max": 1,
            "bs ecdf min": 0.9425287356321839
           }
          ]
         },
         "encoding": {
          "order": {
           "field": "beak length (mm)",
           "type": "quantitative"
          },
          "x": {
           "field": "beak length (mm)",
           "type": "quantitative"
          },
          "y": {
           "field": "bs ecdf min",
           "title": "ECDF",
           "type": "quantitative"
          },
          "y2": {
           "field": "bs ecdf max",
           "title": "ECDF",
           "type": "quantitative"
          }
         },
         "mark": {
          "color": "orange",
          "opacity": 0.3,
          "type": "area"
         }
        }
       ]
      },
      "image/png": "[encoded data removed]",
      "text/plain": [
       "<VegaLite 2 object>\n",
       "\n",
       "If you see this message, it means the renderer has not been properly enabled\n",
       "for the frontend that you are using. For more information, see\n",
       "https://altair-viz.github.io/user_guide/troubleshooting.html\n"
      ]
     },
     "execution_count": 93,
     "metadata": {},
     "output_type": "execute_result"
    }
   ],
   "source": [
    "formal_ecdf + bs_ecdf_fortis + bs_ecdf_scandens"
   ]
  },
  {
   "cell_type": "code",
   "execution_count": 39,
   "metadata": {},
   "outputs": [],
   "source": [
    "bs_depth_fortis = boot.draw_bs_reps(depth_fortis, 'beak length (mm)', size=10000)\n",
    "bs_depth_scandens = boot.draw_bs_reps(depth_scandens, 'beak length (mm)', size=10000)"
   ]
  },
  {
   "cell_type": "code",
   "execution_count": 44,
   "metadata": {},
   "outputs": [],
   "source": [
    "bs_depth_fortis_confidence = np.percentile(bs_depth_fortis, [2.5, 50.0, 97.5])\n",
    "bs_depth_scandens_confidence = np.percentile(bs_depth_scandens, [2.5, 50.0, 97.5])"
   ]
  },
  {
   "cell_type": "code",
   "execution_count": 47,
   "metadata": {},
   "outputs": [
    {
     "data": {
      "text/html": [
       "<div>\n",
       "<style scoped>\n",
       "    .dataframe tbody tr th:only-of-type {\n",
       "        vertical-align: middle;\n",
       "    }\n",
       "\n",
       "    .dataframe tbody tr th {\n",
       "        vertical-align: top;\n",
       "    }\n",
       "\n",
       "    .dataframe thead th {\n",
       "        text-align: right;\n",
       "    }\n",
       "</style>\n",
       "<table border=\"1\" class=\"dataframe\">\n",
       "  <thead>\n",
       "    <tr style=\"text-align: right;\">\n",
       "      <th></th>\n",
       "      <th>variable</th>\n",
       "      <th>value</th>\n",
       "    </tr>\n",
       "  </thead>\n",
       "  <tbody>\n",
       "    <tr>\n",
       "      <th>0</th>\n",
       "      <td>fortis</td>\n",
       "      <td>10.487303</td>\n",
       "    </tr>\n",
       "    <tr>\n",
       "      <th>1</th>\n",
       "      <td>fortis</td>\n",
       "      <td>10.562131</td>\n",
       "    </tr>\n",
       "    <tr>\n",
       "      <th>2</th>\n",
       "      <td>fortis</td>\n",
       "      <td>10.635769</td>\n",
       "    </tr>\n",
       "    <tr>\n",
       "      <th>3</th>\n",
       "      <td>scandens</td>\n",
       "      <td>13.965172</td>\n",
       "    </tr>\n",
       "    <tr>\n",
       "      <th>4</th>\n",
       "      <td>scandens</td>\n",
       "      <td>14.120460</td>\n",
       "    </tr>\n",
       "    <tr>\n",
       "      <th>5</th>\n",
       "      <td>scandens</td>\n",
       "      <td>14.275517</td>\n",
       "    </tr>\n",
       "  </tbody>\n",
       "</table>\n",
       "</div>"
      ],
      "text/plain": [
       "   variable      value\n",
       "0    fortis  10.487303\n",
       "1    fortis  10.562131\n",
       "2    fortis  10.635769\n",
       "3  scandens  13.965172\n",
       "4  scandens  14.120460\n",
       "5  scandens  14.275517"
      ]
     },
     "execution_count": 47,
     "metadata": {},
     "output_type": "execute_result"
    }
   ],
   "source": [
    "bs_depth_fortis_summary = pd.DataFrame(data={'fortis':bs_depth_fortis_confidence})\n",
    "bs_depth_scandens_summary = pd.DataFrame(data={'scandens':bs_depth_scandens_confidence})\n",
    "bs_depth_summary = pd.concat([bs_depth_fortis_summary,bs_depth_scandens_summary], axis=1).melt()\n",
    "bs_depth_summary"
   ]
  },
  {
   "cell_type": "code",
   "execution_count": 84,
   "metadata": {},
   "outputs": [
    {
     "data": {
      "application/vnd.vegalite.v2+json": {
       "$schema": "https://vega.github.io/schema/vega-lite/v2.4.3.json",
       "config": {
        "view": {
         "height": 300,
         "width": 400
        }
       },
       "vconcat": [
        {
         "height": 200,
         "layer": [
          {
           "data": {
            "values": [
             {
              "ECDF": 0,
              "beak length (mm)": 8.338,
              "species": "fortis"
             },
             {
              "ECDF": 0,
              "beak length (mm)": 8.7,
              "species": "fortis"
             },
             {
              "ECDF": 0,
              "beak length (mm)": 8.7,
              "species": "fortis"
             },
             {
              "ECDF": 0.003205128205128205,
              "beak length (mm)": 8.7,
              "species": "fortis"
             },
             {
              "ECDF": 0.003205128205128205,
              "beak length (mm)": 8.8,
              "species": "fortis"
             },
             {
              "ECDF": 0.00641025641025641,
              "beak length (mm)": 8.8,
              "species": "fortis"
             },
             {
              "ECDF": 0.00641025641025641,
              "beak length (mm)": 9,
              "species": "fortis"
             },
             {
              "ECDF": 0.009615384615384616,
              "beak length (mm)": 9,
              "species": "fortis"
             },
             {
              "ECDF": 0.009615384615384616,
              "beak length (mm)": 9.1,
              "species": "fortis"
             },
             {
              "ECDF": 0.01282051282051282,
              "beak length (mm)": 9.1,
              "species": "fortis"
             },
             {
              "ECDF": 0.01282051282051282,
              "beak length (mm)": 9.1,
              "species": "fortis"
             },
             {
              "ECDF": 0.016025641025641024,
              "beak length (mm)": 9.1,
              "species": "fortis"
             },
             {
              "ECDF": 0.016025641025641024,
              "beak length (mm)": 9.1,
              "species": "fortis"
             },
             {
              "ECDF": 0.019230769230769232,
              "beak length (mm)": 9.1,
              "species": "fortis"
             },
             {
              "ECDF": 0.019230769230769232,
              "beak length (mm)": 9.2,
              "species": "fortis"
             },
             {
              "ECDF": 0.022435897435897436,
              "beak length (mm)": 9.2,
              "species": "fortis"
             },
             {
              "ECDF": 0.022435897435897436,
              "beak length (mm)": 9.2,
              "species": "fortis"
             },
             {
              "ECDF": 0.02564102564102564,
              "beak length (mm)": 9.2,
              "species": "fortis"
             },
             {
              "ECDF": 0.02564102564102564,
              "beak length (mm)": 9.2,
              "species": "fortis"
             },
             {
              "ECDF": 0.028846153846153848,
              "beak length (mm)": 9.2,
              "species": "fortis"
             },
             {
              "ECDF": 0.028846153846153848,
              "beak length (mm)": 9.3,
              "species": "fortis"
             },
             {
              "ECDF": 0.03205128205128205,
              "beak length (mm)": 9.3,
              "species": "fortis"
             },
             {
              "ECDF": 0.03205128205128205,
              "beak length (mm)": 9.3,
              "species": "fortis"
             },
             {
              "ECDF": 0.035256410256410256,
              "beak length (mm)": 9.3,
              "species": "fortis"
             },
             {
              "ECDF": 0.035256410256410256,
              "beak length (mm)": 9.4,
              "species": "fortis"
             },
             {
              "ECDF": 0.038461538461538464,
              "beak length (mm)": 9.4,
              "species": "fortis"
             },
             {
              "ECDF": 0.038461538461538464,
              "beak length (mm)": 9.4,
              "species": "fortis"
             },
             {
              "ECDF": 0.041666666666666664,
              "beak length (mm)": 9.4,
              "species": "fortis"
             },
             {
              "ECDF": 0.041666666666666664,
              "beak length (mm)": 9.4,
              "species": "fortis"
             },
             {
              "ECDF": 0.04487179487179487,
              "beak length (mm)": 9.4,
              "species": "fortis"
             },
             {
              "ECDF": 0.04487179487179487,
              "beak length (mm)": 9.5,
              "species": "fortis"
             },
             {
              "ECDF": 0.04807692307692308,
              "beak length (mm)": 9.5,
              "species": "fortis"
             },
             {
              "ECDF": 0.04807692307692308,
              "beak length (mm)": 9.5,
              "species": "fortis"
             },
             {
              "ECDF": 0.05128205128205128,
              "beak length (mm)": 9.5,
              "species": "fortis"
             },
             {
              "ECDF": 0.05128205128205128,
              "beak length (mm)": 9.5,
              "species": "fortis"
             },
             {
              "ECDF": 0.05448717948717949,
              "beak length (mm)": 9.5,
              "species": "fortis"
             },
             {
              "ECDF": 0.05448717948717949,
              "beak length (mm)": 9.6,
              "species": "fortis"
             },
             {
              "ECDF": 0.057692307692307696,
              "beak length (mm)": 9.6,
              "species": "fortis"
             },
             {
              "ECDF": 0.057692307692307696,
              "beak length (mm)": 9.6,
              "species": "fortis"
             },
             {
              "ECDF": 0.060897435897435896,
              "beak length (mm)": 9.6,
              "species": "fortis"
             },
             {
              "ECDF": 0.060897435897435896,
              "beak length (mm)": 9.6,
              "species": "fortis"
             },
             {
              "ECDF": 0.0641025641025641,
              "beak length (mm)": 9.6,
              "species": "fortis"
             },
             {
              "ECDF": 0.0641025641025641,
              "beak length (mm)": 9.6,
              "species": "fortis"
             },
             {
              "ECDF": 0.0673076923076923,
              "beak length (mm)": 9.6,
              "species": "fortis"
             },
             {
              "ECDF": 0.0673076923076923,
              "beak length (mm)": 9.6,
              "species": "fortis"
             },
             {
              "ECDF": 0.07051282051282051,
              "beak length (mm)": 9.6,
              "species": "fortis"
             },
             {
              "ECDF": 0.07051282051282051,
              "beak length (mm)": 9.6,
              "species": "fortis"
             },
             {
              "ECDF": 0.07371794871794872,
              "beak length (mm)": 9.6,
              "species": "fortis"
             },
             {
              "ECDF": 0.07371794871794872,
              "beak length (mm)": 9.6,
              "species": "fortis"
             },
             {
              "ECDF": 0.07692307692307693,
              "beak length (mm)": 9.6,
              "species": "fortis"
             },
             {
              "ECDF": 0.07692307692307693,
              "beak length (mm)": 9.6,
              "species": "fortis"
             },
             {
              "ECDF": 0.08012820512820513,
              "beak length (mm)": 9.6,
              "species": "fortis"
             },
             {
              "ECDF": 0.08012820512820513,
              "beak length (mm)": 9.63,
              "species": "fortis"
             },
             {
              "ECDF": 0.08333333333333333,
              "beak length (mm)": 9.63,
              "species": "fortis"
             },
             {
              "ECDF": 0.08333333333333333,
              "beak length (mm)": 9.65,
              "species": "fortis"
             },
             {
              "ECDF": 0.08653846153846154,
              "beak length (mm)": 9.65,
              "species": "fortis"
             },
             {
              "ECDF": 0.08653846153846154,
              "beak length (mm)": 9.7,
              "species": "fortis"
             },
             {
              "ECDF": 0.08974358974358974,
              "beak length (mm)": 9.7,
              "species": "fortis"
             },
             {
              "ECDF": 0.08974358974358974,
              "beak length (mm)": 9.7,
              "species": "fortis"
             },
             {
              "ECDF": 0.09294871794871795,
              "beak length (mm)": 9.7,
              "species": "fortis"
             },
             {
              "ECDF": 0.09294871794871795,
              "beak length (mm)": 9.7,
              "species": "fortis"
             },
             {
              "ECDF": 0.09615384615384616,
              "beak length (mm)": 9.7,
              "species": "fortis"
             },
             {
              "ECDF": 0.09615384615384616,
              "beak length (mm)": 9.7,
              "species": "fortis"
             },
             {
              "ECDF": 0.09935897435897435,
              "beak length (mm)": 9.7,
              "species": "fortis"
             },
             {
              "ECDF": 0.09935897435897435,
              "beak length (mm)": 9.7,
              "species": "fortis"
             },
             {
              "ECDF": 0.10256410256410256,
              "beak length (mm)": 9.7,
              "species": "fortis"
             },
             {
              "ECDF": 0.10256410256410256,
              "beak length (mm)": 9.7,
              "species": "fortis"
             },
             {
              "ECDF": 0.10576923076923077,
              "beak length (mm)": 9.7,
              "species": "fortis"
             },
             {
              "ECDF": 0.10576923076923077,
              "beak length (mm)": 9.7,
              "species": "fortis"
             },
             {
              "ECDF": 0.10897435897435898,
              "beak length (mm)": 9.7,
              "species": "fortis"
             },
             {
              "ECDF": 0.10897435897435898,
              "beak length (mm)": 9.7,
              "species": "fortis"
             },
             {
              "ECDF": 0.11217948717948718,
              "beak length (mm)": 9.7,
              "species": "fortis"
             },
             {
              "ECDF": 0.11217948717948718,
              "beak length (mm)": 9.7,
              "species": "fortis"
             },
             {
              "ECDF": 0.11538461538461539,
              "beak length (mm)": 9.7,
              "species": "fortis"
             },
             {
              "ECDF": 0.11538461538461539,
              "beak length (mm)": 9.7,
              "species": "fortis"
             },
             {
              "ECDF": 0.11858974358974358,
              "beak length (mm)": 9.7,
              "species": "fortis"
             },
             {
              "ECDF": 0.11858974358974358,
              "beak length (mm)": 9.8,
              "species": "fortis"
             },
             {
              "ECDF": 0.12179487179487179,
              "beak length (mm)": 9.8,
              "species": "fortis"
             },
             {
              "ECDF": 0.12179487179487179,
              "beak length (mm)": 9.8,
              "species": "fortis"
             },
             {
              "ECDF": 0.125,
              "beak length (mm)": 9.8,
              "species": "fortis"
             },
             {
              "ECDF": 0.125,
              "beak length (mm)": 9.8,
              "species": "fortis"
             },
             {
              "ECDF": 0.1282051282051282,
              "beak length (mm)": 9.8,
              "species": "fortis"
             },
             {
              "ECDF": 0.1282051282051282,
              "beak length (mm)": 9.8,
              "species": "fortis"
             },
             {
              "ECDF": 0.13141025641025642,
              "beak length (mm)": 9.8,
              "species": "fortis"
             },
             {
              "ECDF": 0.13141025641025642,
              "beak length (mm)": 9.8,
              "species": "fortis"
             },
             {
              "ECDF": 0.1346153846153846,
              "beak length (mm)": 9.8,
              "species": "fortis"
             },
             {
              "ECDF": 0.1346153846153846,
              "beak length (mm)": 9.8,
              "species": "fortis"
             },
             {
              "ECDF": 0.13782051282051283,
              "beak length (mm)": 9.8,
              "species": "fortis"
             },
             {
              "ECDF": 0.13782051282051283,
              "beak length (mm)": 9.8,
              "species": "fortis"
             },
             {
              "ECDF": 0.14102564102564102,
              "beak length (mm)": 9.8,
              "species": "fortis"
             },
             {
              "ECDF": 0.14102564102564102,
              "beak length (mm)": 9.8,
              "species": "fortis"
             },
             {
              "ECDF": 0.14423076923076922,
              "beak length (mm)": 9.8,
              "species": "fortis"
             },
             {
              "ECDF": 0.14423076923076922,
              "beak length (mm)": 9.8,
              "species": "fortis"
             },
             {
              "ECDF": 0.14743589743589744,
              "beak length (mm)": 9.8,
              "species": "fortis"
             },
             {
              "ECDF": 0.14743589743589744,
              "beak length (mm)": 9.83,
              "species": "fortis"
             },
             {
              "ECDF": 0.15064102564102563,
              "beak length (mm)": 9.83,
              "species": "fortis"
             },
             {
              "ECDF": 0.15064102564102563,
              "beak length (mm)": 9.85,
              "species": "fortis"
             },
             {
              "ECDF": 0.15384615384615385,
              "beak length (mm)": 9.85,
              "species": "fortis"
             },
             {
              "ECDF": 0.15384615384615385,
              "beak length (mm)": 9.9,
              "species": "fortis"
             },
             {
              "ECDF": 0.15705128205128205,
              "beak length (mm)": 9.9,
              "species": "fortis"
             },
             {
              "ECDF": 0.15705128205128205,
              "beak length (mm)": 9.9,
              "species": "fortis"
             },
             {
              "ECDF": 0.16025641025641027,
              "beak length (mm)": 9.9,
              "species": "fortis"
             },
             {
              "ECDF": 0.16025641025641027,
              "beak length (mm)": 9.9,
              "species": "fortis"
             },
             {
              "ECDF": 0.16346153846153846,
              "beak length (mm)": 9.9,
              "species": "fortis"
             },
             {
              "ECDF": 0.16346153846153846,
              "beak length (mm)": 9.9,
              "species": "fortis"
             },
             {
              "ECDF": 0.16666666666666666,
              "beak length (mm)": 9.9,
              "species": "fortis"
             },
             {
              "ECDF": 0.16666666666666666,
              "beak length (mm)": 9.9,
              "species": "fortis"
             },
             {
              "ECDF": 0.16987179487179488,
              "beak length (mm)": 9.9,
              "species": "fortis"
             },
             {
              "ECDF": 0.16987179487179488,
              "beak length (mm)": 9.9,
              "species": "fortis"
             },
             {
              "ECDF": 0.17307692307692307,
              "beak length (mm)": 9.9,
              "species": "fortis"
             },
             {
              "ECDF": 0.17307692307692307,
              "beak length (mm)": 9.9,
              "species": "fortis"
             },
             {
              "ECDF": 0.1762820512820513,
              "beak length (mm)": 9.9,
              "species": "fortis"
             },
             {
              "ECDF": 0.1762820512820513,
              "beak length (mm)": 9.9,
              "species": "fortis"
             },
             {
              "ECDF": 0.1794871794871795,
              "beak length (mm)": 9.9,
              "species": "fortis"
             },
             {
              "ECDF": 0.1794871794871795,
              "beak length (mm)": 9.9,
              "species": "fortis"
             },
             {
              "ECDF": 0.18269230769230768,
              "beak length (mm)": 9.9,
              "species": "fortis"
             },
             {
              "ECDF": 0.18269230769230768,
              "beak length (mm)": 9.9,
              "species": "fortis"
             },
             {
              "ECDF": 0.1858974358974359,
              "beak length (mm)": 9.9,
              "species": "fortis"
             },
             {
              "ECDF": 0.1858974358974359,
              "beak length (mm)": 9.9,
              "species": "fortis"
             },
             {
              "ECDF": 0.1891025641025641,
              "beak length (mm)": 9.9,
              "species": "fortis"
             },
             {
              "ECDF": 0.1891025641025641,
              "beak length (mm)": 9.9,
              "species": "fortis"
             },
             {
              "ECDF": 0.19230769230769232,
              "beak length (mm)": 9.9,
              "species": "fortis"
             },
             {
              "ECDF": 0.19230769230769232,
              "beak length (mm)": 9.9,
              "species": "fortis"
             },
             {
              "ECDF": 0.1955128205128205,
              "beak length (mm)": 9.9,
              "species": "fortis"
             },
             {
              "ECDF": 0.1955128205128205,
              "beak length (mm)": 9.9,
              "species": "fortis"
             },
             {
              "ECDF": 0.1987179487179487,
              "beak length (mm)": 9.9,
              "species": "fortis"
             },
             {
              "ECDF": 0.1987179487179487,
              "beak length (mm)": 9.9,
              "species": "fortis"
             },
             {
              "ECDF": 0.20192307692307693,
              "beak length (mm)": 9.9,
              "species": "fortis"
             },
             {
              "ECDF": 0.20192307692307693,
              "beak length (mm)": 9.93,
              "species": "fortis"
             },
             {
              "ECDF": 0.20512820512820512,
              "beak length (mm)": 9.93,
              "species": "fortis"
             },
             {
              "ECDF": 0.20512820512820512,
              "beak length (mm)": 10,
              "species": "fortis"
             },
             {
              "ECDF": 0.20833333333333334,
              "beak length (mm)": 10,
              "species": "fortis"
             },
             {
              "ECDF": 0.20833333333333334,
              "beak length (mm)": 10,
              "species": "fortis"
             },
             {
              "ECDF": 0.21153846153846154,
              "beak length (mm)": 10,
              "species": "fortis"
             },
             {
              "ECDF": 0.21153846153846154,
              "beak length (mm)": 10,
              "species": "fortis"
             },
             {
              "ECDF": 0.21474358974358973,
              "beak length (mm)": 10,
              "species": "fortis"
             },
             {
              "ECDF": 0.21474358974358973,
              "beak length (mm)": 10,
              "species": "fortis"
             },
             {
              "ECDF": 0.21794871794871795,
              "beak length (mm)": 10,
              "species": "fortis"
             },
             {
              "ECDF": 0.21794871794871795,
              "beak length (mm)": 10,
              "species": "fortis"
             },
             {
              "ECDF": 0.22115384615384615,
              "beak length (mm)": 10,
              "species": "fortis"
             },
             {
              "ECDF": 0.22115384615384615,
              "beak length (mm)": 10,
              "species": "fortis"
             },
             {
              "ECDF": 0.22435897435897437,
              "beak length (mm)": 10,
              "species": "fortis"
             },
             {
              "ECDF": 0.22435897435897437,
              "beak length (mm)": 10,
              "species": "fortis"
             },
             {
              "ECDF": 0.22756410256410256,
              "beak length (mm)": 10,
              "species": "fortis"
             },
             {
              "ECDF": 0.22756410256410256,
              "beak length (mm)": 10,
              "species": "fortis"
             },
             {
              "ECDF": 0.23076923076923078,
              "beak length (mm)": 10,
              "species": "fortis"
             },
             {
              "ECDF": 0.23076923076923078,
              "beak length (mm)": 10,
              "species": "fortis"
             },
             {
              "ECDF": 0.23397435897435898,
              "beak length (mm)": 10,
              "species": "fortis"
             },
             {
              "ECDF": 0.23397435897435898,
              "beak length (mm)": 10.05,
              "species": "fortis"
             },
             {
              "ECDF": 0.23717948717948717,
              "beak length (mm)": 10.05,
              "species": "fortis"
             },
             {
              "ECDF": 0.23717948717948717,
              "beak length (mm)": 10.1,
              "species": "fortis"
             },
             {
              "ECDF": 0.2403846153846154,
              "beak length (mm)": 10.1,
              "species": "fortis"
             },
             {
              "ECDF": 0.2403846153846154,
              "beak length (mm)": 10.1,
              "species": "fortis"
             },
             {
              "ECDF": 0.24358974358974358,
              "beak length (mm)": 10.1,
              "species": "fortis"
             },
             {
              "ECDF": 0.24358974358974358,
              "beak length (mm)": 10.1,
              "species": "fortis"
             },
             {
              "ECDF": 0.2467948717948718,
              "beak length (mm)": 10.1,
              "species": "fortis"
             },
             {
              "ECDF": 0.2467948717948718,
              "beak length (mm)": 10.1,
              "species": "fortis"
             },
             {
              "ECDF": 0.25,
              "beak length (mm)": 10.1,
              "species": "fortis"
             },
             {
              "ECDF": 0.25,
              "beak length (mm)": 10.1,
              "species": "fortis"
             },
             {
              "ECDF": 0.2532051282051282,
              "beak length (mm)": 10.1,
              "species": "fortis"
             },
             {
              "ECDF": 0.2532051282051282,
              "beak length (mm)": 10.1,
              "species": "fortis"
             },
             {
              "ECDF": 0.2564102564102564,
              "beak length (mm)": 10.1,
              "species": "fortis"
             },
             {
              "ECDF": 0.2564102564102564,
              "beak length (mm)": 10.1,
              "species": "fortis"
             },
             {
              "ECDF": 0.25961538461538464,
              "beak length (mm)": 10.1,
              "species": "fortis"
             },
             {
              "ECDF": 0.25961538461538464,
              "beak length (mm)": 10.1,
              "species": "fortis"
             },
             {
              "ECDF": 0.26282051282051283,
              "beak length (mm)": 10.1,
              "species": "fortis"
             },
             {
              "ECDF": 0.26282051282051283,
              "beak length (mm)": 10.1,
              "species": "fortis"
             },
             {
              "ECDF": 0.266025641025641,
              "beak length (mm)": 10.1,
              "species": "fortis"
             },
             {
              "ECDF": 0.266025641025641,
              "beak length (mm)": 10.1,
              "species": "fortis"
             },
             {
              "ECDF": 0.2692307692307692,
              "beak length (mm)": 10.1,
              "species": "fortis"
             },
             {
              "ECDF": 0.2692307692307692,
              "beak length (mm)": 10.13,
              "species": "fortis"
             },
             {
              "ECDF": 0.2724358974358974,
              "beak length (mm)": 10.13,
              "species": "fortis"
             },
             {
              "ECDF": 0.2724358974358974,
              "beak length (mm)": 10.15,
              "species": "fortis"
             },
             {
              "ECDF": 0.27564102564102566,
              "beak length (mm)": 10.15,
              "species": "fortis"
             },
             {
              "ECDF": 0.27564102564102566,
              "beak length (mm)": 10.2,
              "species": "fortis"
             },
             {
              "ECDF": 0.27884615384615385,
              "beak length (mm)": 10.2,
              "species": "fortis"
             },
             {
              "ECDF": 0.27884615384615385,
              "beak length (mm)": 10.2,
              "species": "fortis"
             },
             {
              "ECDF": 0.28205128205128205,
              "beak length (mm)": 10.2,
              "species": "fortis"
             },
             {
              "ECDF": 0.28205128205128205,
              "beak length (mm)": 10.2,
              "species": "fortis"
             },
             {
              "ECDF": 0.28525641025641024,
              "beak length (mm)": 10.2,
              "species": "fortis"
             },
             {
              "ECDF": 0.28525641025641024,
              "beak length (mm)": 10.2,
              "species": "fortis"
             },
             {
              "ECDF": 0.28846153846153844,
              "beak length (mm)": 10.2,
              "species": "fortis"
             },
             {
              "ECDF": 0.28846153846153844,
              "beak length (mm)": 10.2,
              "species": "fortis"
             },
             {
              "ECDF": 0.2916666666666667,
              "beak length (mm)": 10.2,
              "species": "fortis"
             },
             {
              "ECDF": 0.2916666666666667,
              "beak length (mm)": 10.2,
              "species": "fortis"
             },
             {
              "ECDF": 0.2948717948717949,
              "beak length (mm)": 10.2,
              "species": "fortis"
             },
             {
              "ECDF": 0.2948717948717949,
              "beak length (mm)": 10.2,
              "species": "fortis"
             },
             {
              "ECDF": 0.2980769230769231,
              "beak length (mm)": 10.2,
              "species": "fortis"
             },
             {
              "ECDF": 0.2980769230769231,
              "beak length (mm)": 10.2,
              "species": "fortis"
             },
             {
              "ECDF": 0.30128205128205127,
              "beak length (mm)": 10.2,
              "species": "fortis"
             },
             {
              "ECDF": 0.30128205128205127,
              "beak length (mm)": 10.2,
              "species": "fortis"
             },
             {
              "ECDF": 0.30448717948717946,
              "beak length (mm)": 10.2,
              "species": "fortis"
             },
             {
              "ECDF": 0.30448717948717946,
              "beak length (mm)": 10.2,
              "species": "fortis"
             },
             {
              "ECDF": 0.3076923076923077,
              "beak length (mm)": 10.2,
              "species": "fortis"
             },
             {
              "ECDF": 0.3076923076923077,
              "beak length (mm)": 10.2,
              "species": "fortis"
             },
             {
              "ECDF": 0.3108974358974359,
              "beak length (mm)": 10.2,
              "species": "fortis"
             },
             {
              "ECDF": 0.3108974358974359,
              "beak length (mm)": 10.2,
              "species": "fortis"
             },
             {
              "ECDF": 0.3141025641025641,
              "beak length (mm)": 10.2,
              "species": "fortis"
             },
             {
              "ECDF": 0.3141025641025641,
              "beak length (mm)": 10.2,
              "species": "fortis"
             },
             {
              "ECDF": 0.3173076923076923,
              "beak length (mm)": 10.2,
              "species": "fortis"
             },
             {
              "ECDF": 0.3173076923076923,
              "beak length (mm)": 10.2,
              "species": "fortis"
             },
             {
              "ECDF": 0.32051282051282054,
              "beak length (mm)": 10.2,
              "species": "fortis"
             },
             {
              "ECDF": 0.32051282051282054,
              "beak length (mm)": 10.2,
              "species": "fortis"
             },
             {
              "ECDF": 0.32371794871794873,
              "beak length (mm)": 10.2,
              "species": "fortis"
             },
             {
              "ECDF": 0.32371794871794873,
              "beak length (mm)": 10.2,
              "species": "fortis"
             },
             {
              "ECDF": 0.3269230769230769,
              "beak length (mm)": 10.2,
              "species": "fortis"
             },
             {
              "ECDF": 0.3269230769230769,
              "beak length (mm)": 10.2,
              "species": "fortis"
             },
             {
              "ECDF": 0.3301282051282051,
              "beak length (mm)": 10.2,
              "species": "fortis"
             },
             {
              "ECDF": 0.3301282051282051,
              "beak length (mm)": 10.2,
              "species": "fortis"
             },
             {
              "ECDF": 0.3333333333333333,
              "beak length (mm)": 10.2,
              "species": "fortis"
             },
             {
              "ECDF": 0.3333333333333333,
              "beak length (mm)": 10.23,
              "species": "fortis"
             },
             {
              "ECDF": 0.33653846153846156,
              "beak length (mm)": 10.23,
              "species": "fortis"
             },
             {
              "ECDF": 0.33653846153846156,
              "beak length (mm)": 10.23,
              "species": "fortis"
             },
             {
              "ECDF": 0.33974358974358976,
              "beak length (mm)": 10.23,
              "species": "fortis"
             },
             {
              "ECDF": 0.33974358974358976,
              "beak length (mm)": 10.25,
              "species": "fortis"
             },
             {
              "ECDF": 0.34294871794871795,
              "beak length (mm)": 10.25,
              "species": "fortis"
             },
             {
              "ECDF": 0.34294871794871795,
              "beak length (mm)": 10.25,
              "species": "fortis"
             },
             {
              "ECDF": 0.34615384615384615,
              "beak length (mm)": 10.25,
              "species": "fortis"
             },
             {
              "ECDF": 0.34615384615384615,
              "beak length (mm)": 10.3,
              "species": "fortis"
             },
             {
              "ECDF": 0.34935897435897434,
              "beak length (mm)": 10.3,
              "species": "fortis"
             },
             {
              "ECDF": 0.34935897435897434,
              "beak length (mm)": 10.3,
              "species": "fortis"
             },
             {
              "ECDF": 0.3525641025641026,
              "beak length (mm)": 10.3,
              "species": "fortis"
             },
             {
              "ECDF": 0.3525641025641026,
              "beak length (mm)": 10.3,
              "species": "fortis"
             },
             {
              "ECDF": 0.3557692307692308,
              "beak length (mm)": 10.3,
              "species": "fortis"
             },
             {
              "ECDF": 0.3557692307692308,
              "beak length (mm)": 10.3,
              "species": "fortis"
             },
             {
              "ECDF": 0.358974358974359,
              "beak length (mm)": 10.3,
              "species": "fortis"
             },
             {
              "ECDF": 0.358974358974359,
              "beak length (mm)": 10.3,
              "species": "fortis"
             },
             {
              "ECDF": 0.36217948717948717,
              "beak length (mm)": 10.3,
              "species": "fortis"
             },
             {
              "ECDF": 0.36217948717948717,
              "beak length (mm)": 10.3,
              "species": "fortis"
             },
             {
              "ECDF": 0.36538461538461536,
              "beak length (mm)": 10.3,
              "species": "fortis"
             },
             {
              "ECDF": 0.36538461538461536,
              "beak length (mm)": 10.3,
              "species": "fortis"
             },
             {
              "ECDF": 0.3685897435897436,
              "beak length (mm)": 10.3,
              "species": "fortis"
             },
             {
              "ECDF": 0.3685897435897436,
              "beak length (mm)": 10.3,
              "species": "fortis"
             },
             {
              "ECDF": 0.3717948717948718,
              "beak length (mm)": 10.3,
              "species": "fortis"
             },
             {
              "ECDF": 0.3717948717948718,
              "beak length (mm)": 10.3,
              "species": "fortis"
             },
             {
              "ECDF": 0.375,
              "beak length (mm)": 10.3,
              "species": "fortis"
             },
             {
              "ECDF": 0.375,
              "beak length (mm)": 10.3,
              "species": "fortis"
             },
             {
              "ECDF": 0.3782051282051282,
              "beak length (mm)": 10.3,
              "species": "fortis"
             },
             {
              "ECDF": 0.3782051282051282,
              "beak length (mm)": 10.3,
              "species": "fortis"
             },
             {
              "ECDF": 0.3814102564102564,
              "beak length (mm)": 10.3,
              "species": "fortis"
             },
             {
              "ECDF": 0.3814102564102564,
              "beak length (mm)": 10.3,
              "species": "fortis"
             },
             {
              "ECDF": 0.38461538461538464,
              "beak length (mm)": 10.3,
              "species": "fortis"
             },
             {
              "ECDF": 0.38461538461538464,
              "beak length (mm)": 10.33,
              "species": "fortis"
             },
             {
              "ECDF": 0.38782051282051283,
              "beak length (mm)": 10.33,
              "species": "fortis"
             },
             {
              "ECDF": 0.38782051282051283,
              "beak length (mm)": 10.4,
              "species": "fortis"
             },
             {
              "ECDF": 0.391025641025641,
              "beak length (mm)": 10.4,
              "species": "fortis"
             },
             {
              "ECDF": 0.391025641025641,
              "beak length (mm)": 10.4,
              "species": "fortis"
             },
             {
              "ECDF": 0.3942307692307692,
              "beak length (mm)": 10.4,
              "species": "fortis"
             },
             {
              "ECDF": 0.3942307692307692,
              "beak length (mm)": 10.4,
              "species": "fortis"
             },
             {
              "ECDF": 0.3974358974358974,
              "beak length (mm)": 10.4,
              "species": "fortis"
             },
             {
              "ECDF": 0.3974358974358974,
              "beak length (mm)": 10.4,
              "species": "fortis"
             },
             {
              "ECDF": 0.40064102564102566,
              "beak length (mm)": 10.4,
              "species": "fortis"
             },
             {
              "ECDF": 0.40064102564102566,
              "beak length (mm)": 10.4,
              "species": "fortis"
             },
             {
              "ECDF": 0.40384615384615385,
              "beak length (mm)": 10.4,
              "species": "fortis"
             },
             {
              "ECDF": 0.40384615384615385,
              "beak length (mm)": 10.4,
              "species": "fortis"
             },
             {
              "ECDF": 0.40705128205128205,
              "beak length (mm)": 10.4,
              "species": "fortis"
             },
             {
              "ECDF": 0.40705128205128205,
              "beak length (mm)": 10.4,
              "species": "fortis"
             },
             {
              "ECDF": 0.41025641025641024,
              "beak length (mm)": 10.4,
              "species": "fortis"
             },
             {
              "ECDF": 0.41025641025641024,
              "beak length (mm)": 10.4,
              "species": "fortis"
             },
             {
              "ECDF": 0.41346153846153844,
              "beak length (mm)": 10.4,
              "species": "fortis"
             },
             {
              "ECDF": 0.41346153846153844,
              "beak length (mm)": 10.4,
              "species": "fortis"
             },
             {
              "ECDF": 0.4166666666666667,
              "beak length (mm)": 10.4,
              "species": "fortis"
             },
             {
              "ECDF": 0.4166666666666667,
              "beak length (mm)": 10.4,
              "species": "fortis"
             },
             {
              "ECDF": 0.4198717948717949,
              "beak length (mm)": 10.4,
              "species": "fortis"
             },
             {
              "ECDF": 0.4198717948717949,
              "beak length (mm)": 10.4,
              "species": "fortis"
             },
             {
              "ECDF": 0.4230769230769231,
              "beak length (mm)": 10.4,
              "species": "fortis"
             },
             {
              "ECDF": 0.4230769230769231,
              "beak length (mm)": 10.4,
              "species": "fortis"
             },
             {
              "ECDF": 0.42628205128205127,
              "beak length (mm)": 10.4,
              "species": "fortis"
             },
             {
              "ECDF": 0.42628205128205127,
              "beak length (mm)": 10.4,
              "species": "fortis"
             },
             {
              "ECDF": 0.42948717948717946,
              "beak length (mm)": 10.4,
              "species": "fortis"
             },
             {
              "ECDF": 0.42948717948717946,
              "beak length (mm)": 10.4,
              "species": "fortis"
             },
             {
              "ECDF": 0.4326923076923077,
              "beak length (mm)": 10.4,
              "species": "fortis"
             },
             {
              "ECDF": 0.4326923076923077,
              "beak length (mm)": 10.5,
              "species": "fortis"
             },
             {
              "ECDF": 0.4358974358974359,
              "beak length (mm)": 10.5,
              "species": "fortis"
             },
             {
              "ECDF": 0.4358974358974359,
              "beak length (mm)": 10.5,
              "species": "fortis"
             },
             {
              "ECDF": 0.4391025641025641,
              "beak length (mm)": 10.5,
              "species": "fortis"
             },
             {
              "ECDF": 0.4391025641025641,
              "beak length (mm)": 10.5,
              "species": "fortis"
             },
             {
              "ECDF": 0.4423076923076923,
              "beak length (mm)": 10.5,
              "species": "fortis"
             },
             {
              "ECDF": 0.4423076923076923,
              "beak length (mm)": 10.5,
              "species": "fortis"
             },
             {
              "ECDF": 0.44551282051282054,
              "beak length (mm)": 10.5,
              "species": "fortis"
             },
             {
              "ECDF": 0.44551282051282054,
              "beak length (mm)": 10.5,
              "species": "fortis"
             },
             {
              "ECDF": 0.44871794871794873,
              "beak length (mm)": 10.5,
              "species": "fortis"
             },
             {
              "ECDF": 0.44871794871794873,
              "beak length (mm)": 10.5,
              "species": "fortis"
             },
             {
              "ECDF": 0.4519230769230769,
              "beak length (mm)": 10.5,
              "species": "fortis"
             },
             {
              "ECDF": 0.4519230769230769,
              "beak length (mm)": 10.5,
              "species": "fortis"
             },
             {
              "ECDF": 0.4551282051282051,
              "beak length (mm)": 10.5,
              "species": "fortis"
             },
             {
              "ECDF": 0.4551282051282051,
              "beak length (mm)": 10.5,
              "species": "fortis"
             },
             {
              "ECDF": 0.4583333333333333,
              "beak length (mm)": 10.5,
              "species": "fortis"
             },
             {
              "ECDF": 0.4583333333333333,
              "beak length (mm)": 10.5,
              "species": "fortis"
             },
             {
              "ECDF": 0.46153846153846156,
              "beak length (mm)": 10.5,
              "species": "fortis"
             },
             {
              "ECDF": 0.46153846153846156,
              "beak length (mm)": 10.5,
              "species": "fortis"
             },
             {
              "ECDF": 0.46474358974358976,
              "beak length (mm)": 10.5,
              "species": "fortis"
             },
             {
              "ECDF": 0.46474358974358976,
              "beak length (mm)": 10.5,
              "species": "fortis"
             },
             {
              "ECDF": 0.46794871794871795,
              "beak length (mm)": 10.5,
              "species": "fortis"
             },
             {
              "ECDF": 0.46794871794871795,
              "beak length (mm)": 10.5,
              "species": "fortis"
             },
             {
              "ECDF": 0.47115384615384615,
              "beak length (mm)": 10.5,
              "species": "fortis"
             },
             {
              "ECDF": 0.47115384615384615,
              "beak length (mm)": 10.5,
              "species": "fortis"
             },
             {
              "ECDF": 0.47435897435897434,
              "beak length (mm)": 10.5,
              "species": "fortis"
             },
             {
              "ECDF": 0.47435897435897434,
              "beak length (mm)": 10.5,
              "species": "fortis"
             },
             {
              "ECDF": 0.4775641025641026,
              "beak length (mm)": 10.5,
              "species": "fortis"
             },
             {
              "ECDF": 0.4775641025641026,
              "beak length (mm)": 10.5,
              "species": "fortis"
             },
             {
              "ECDF": 0.4807692307692308,
              "beak length (mm)": 10.5,
              "species": "fortis"
             },
             {
              "ECDF": 0.4807692307692308,
              "beak length (mm)": 10.5,
              "species": "fortis"
             },
             {
              "ECDF": 0.483974358974359,
              "beak length (mm)": 10.5,
              "species": "fortis"
             },
             {
              "ECDF": 0.483974358974359,
              "beak length (mm)": 10.5,
              "species": "fortis"
             },
             {
              "ECDF": 0.48717948717948717,
              "beak length (mm)": 10.5,
              "species": "fortis"
             },
             {
              "ECDF": 0.48717948717948717,
              "beak length (mm)": 10.5,
              "species": "fortis"
             },
             {
              "ECDF": 0.49038461538461536,
              "beak length (mm)": 10.5,
              "species": "fortis"
             },
             {
              "ECDF": 0.49038461538461536,
              "beak length (mm)": 10.5,
              "species": "fortis"
             },
             {
              "ECDF": 0.4935897435897436,
              "beak length (mm)": 10.5,
              "species": "fortis"
             },
             {
              "ECDF": 0.4935897435897436,
              "beak length (mm)": 10.53,
              "species": "fortis"
             },
             {
              "ECDF": 0.4967948717948718,
              "beak length (mm)": 10.53,
              "species": "fortis"
             },
             {
              "ECDF": 0.4967948717948718,
              "beak length (mm)": 10.55,
              "species": "fortis"
             },
             {
              "ECDF": 0.5,
              "beak length (mm)": 10.55,
              "species": "fortis"
             },
             {
              "ECDF": 0.5,
              "beak length (mm)": 10.6,
              "species": "fortis"
             },
             {
              "ECDF": 0.5032051282051282,
              "beak length (mm)": 10.6,
              "species": "fortis"
             },
             {
              "ECDF": 0.5032051282051282,
              "beak length (mm)": 10.6,
              "species": "fortis"
             },
             {
              "ECDF": 0.5064102564102564,
              "beak length (mm)": 10.6,
              "species": "fortis"
             },
             {
              "ECDF": 0.5064102564102564,
              "beak length (mm)": 10.6,
              "species": "fortis"
             },
             {
              "ECDF": 0.5096153846153846,
              "beak length (mm)": 10.6,
              "species": "fortis"
             },
             {
              "ECDF": 0.5096153846153846,
              "beak length (mm)": 10.6,
              "species": "fortis"
             },
             {
              "ECDF": 0.5128205128205128,
              "beak length (mm)": 10.6,
              "species": "fortis"
             },
             {
              "ECDF": 0.5128205128205128,
              "beak length (mm)": 10.6,
              "species": "fortis"
             },
             {
              "ECDF": 0.5160256410256411,
              "beak length (mm)": 10.6,
              "species": "fortis"
             },
             {
              "ECDF": 0.5160256410256411,
              "beak length (mm)": 10.6,
              "species": "fortis"
             },
             {
              "ECDF": 0.5192307692307693,
              "beak length (mm)": 10.6,
              "species": "fortis"
             },
             {
              "ECDF": 0.5192307692307693,
              "beak length (mm)": 10.6,
              "species": "fortis"
             },
             {
              "ECDF": 0.5224358974358975,
              "beak length (mm)": 10.6,
              "species": "fortis"
             },
             {
              "ECDF": 0.5224358974358975,
              "beak length (mm)": 10.6,
              "species": "fortis"
             },
             {
              "ECDF": 0.5256410256410257,
              "beak length (mm)": 10.6,
              "species": "fortis"
             },
             {
              "ECDF": 0.5256410256410257,
              "beak length (mm)": 10.6,
              "species": "fortis"
             },
             {
              "ECDF": 0.5288461538461539,
              "beak length (mm)": 10.6,
              "species": "fortis"
             },
             {
              "ECDF": 0.5288461538461539,
              "beak length (mm)": 10.6,
              "species": "fortis"
             },
             {
              "ECDF": 0.532051282051282,
              "beak length (mm)": 10.6,
              "species": "fortis"
             },
             {
              "ECDF": 0.532051282051282,
              "beak length (mm)": 10.6,
              "species": "fortis"
             },
             {
              "ECDF": 0.5352564102564102,
              "beak length (mm)": 10.6,
              "species": "fortis"
             },
             {
              "ECDF": 0.5352564102564102,
              "beak length (mm)": 10.7,
              "species": "fortis"
             },
             {
              "ECDF": 0.5384615384615384,
              "beak length (mm)": 10.7,
              "species": "fortis"
             },
             {
              "ECDF": 0.5384615384615384,
              "beak length (mm)": 10.7,
              "species": "fortis"
             },
             {
              "ECDF": 0.5416666666666666,
              "beak length (mm)": 10.7,
              "species": "fortis"
             },
             {
              "ECDF": 0.5416666666666666,
              "beak length (mm)": 10.7,
              "species": "fortis"
             },
             {
              "ECDF": 0.5448717948717948,
              "beak length (mm)": 10.7,
              "species": "fortis"
             },
             {
              "ECDF": 0.5448717948717948,
              "beak length (mm)": 10.7,
              "species": "fortis"
             },
             {
              "ECDF": 0.5480769230769231,
              "beak length (mm)": 10.7,
              "species": "fortis"
             },
             {
              "ECDF": 0.5480769230769231,
              "beak length (mm)": 10.7,
              "species": "fortis"
             },
             {
              "ECDF": 0.5512820512820513,
              "beak length (mm)": 10.7,
              "species": "fortis"
             },
             {
              "ECDF": 0.5512820512820513,
              "beak length (mm)": 10.7,
              "species": "fortis"
             },
             {
              "ECDF": 0.5544871794871795,
              "beak length (mm)": 10.7,
              "species": "fortis"
             },
             {
              "ECDF": 0.5544871794871795,
              "beak length (mm)": 10.7,
              "species": "fortis"
             },
             {
              "ECDF": 0.5576923076923077,
              "beak length (mm)": 10.7,
              "species": "fortis"
             },
             {
              "ECDF": 0.5576923076923077,
              "beak length (mm)": 10.7,
              "species": "fortis"
             },
             {
              "ECDF": 0.5608974358974359,
              "beak length (mm)": 10.7,
              "species": "fortis"
             },
             {
              "ECDF": 0.5608974358974359,
              "beak length (mm)": 10.7,
              "species": "fortis"
             },
             {
              "ECDF": 0.5641025641025641,
              "beak length (mm)": 10.7,
              "species": "fortis"
             },
             {
              "ECDF": 0.5641025641025641,
              "beak length (mm)": 10.7,
              "species": "fortis"
             },
             {
              "ECDF": 0.5673076923076923,
              "beak length (mm)": 10.7,
              "species": "fortis"
             },
             {
              "ECDF": 0.5673076923076923,
              "beak length (mm)": 10.7,
              "species": "fortis"
             },
             {
              "ECDF": 0.5705128205128205,
              "beak length (mm)": 10.7,
              "species": "fortis"
             },
             {
              "ECDF": 0.5705128205128205,
              "beak length (mm)": 10.73,
              "species": "fortis"
             },
             {
              "ECDF": 0.5737179487179487,
              "beak length (mm)": 10.73,
              "species": "fortis"
             },
             {
              "ECDF": 0.5737179487179487,
              "beak length (mm)": 10.73,
              "species": "fortis"
             },
             {
              "ECDF": 0.5769230769230769,
              "beak length (mm)": 10.73,
              "species": "fortis"
             },
             {
              "ECDF": 0.5769230769230769,
              "beak length (mm)": 10.8,
              "species": "fortis"
             },
             {
              "ECDF": 0.5801282051282052,
              "beak length (mm)": 10.8,
              "species": "fortis"
             },
             {
              "ECDF": 0.5801282051282052,
              "beak length (mm)": 10.8,
              "species": "fortis"
             },
             {
              "ECDF": 0.5833333333333334,
              "beak length (mm)": 10.8,
              "species": "fortis"
             },
             {
              "ECDF": 0.5833333333333334,
              "beak length (mm)": 10.8,
              "species": "fortis"
             },
             {
              "ECDF": 0.5865384615384616,
              "beak length (mm)": 10.8,
              "species": "fortis"
             },
             {
              "ECDF": 0.5865384615384616,
              "beak length (mm)": 10.8,
              "species": "fortis"
             },
             {
              "ECDF": 0.5897435897435898,
              "beak length (mm)": 10.8,
              "species": "fortis"
             },
             {
              "ECDF": 0.5897435897435898,
              "beak length (mm)": 10.8,
              "species": "fortis"
             },
             {
              "ECDF": 0.592948717948718,
              "beak length (mm)": 10.8,
              "species": "fortis"
             },
             {
              "ECDF": 0.592948717948718,
              "beak length (mm)": 10.8,
              "species": "fortis"
             },
             {
              "ECDF": 0.5961538461538461,
              "beak length (mm)": 10.8,
              "species": "fortis"
             },
             {
              "ECDF": 0.5961538461538461,
              "beak length (mm)": 10.8,
              "species": "fortis"
             },
             {
              "ECDF": 0.5993589743589743,
              "beak length (mm)": 10.8,
              "species": "fortis"
             },
             {
              "ECDF": 0.5993589743589743,
              "beak length (mm)": 10.8,
              "species": "fortis"
             },
             {
              "ECDF": 0.6025641025641025,
              "beak length (mm)": 10.8,
              "species": "fortis"
             },
             {
              "ECDF": 0.6025641025641025,
              "beak length (mm)": 10.8,
              "species": "fortis"
             },
             {
              "ECDF": 0.6057692307692307,
              "beak length (mm)": 10.8,
              "species": "fortis"
             },
             {
              "ECDF": 0.6057692307692307,
              "beak length (mm)": 10.8,
              "species": "fortis"
             },
             {
              "ECDF": 0.6089743589743589,
              "beak length (mm)": 10.8,
              "species": "fortis"
             },
             {
              "ECDF": 0.6089743589743589,
              "beak length (mm)": 10.8,
              "species": "fortis"
             },
             {
              "ECDF": 0.6121794871794872,
              "beak length (mm)": 10.8,
              "species": "fortis"
             },
             {
              "ECDF": 0.6121794871794872,
              "beak length (mm)": 10.8,
              "species": "fortis"
             },
             {
              "ECDF": 0.6153846153846154,
              "beak length (mm)": 10.8,
              "species": "fortis"
             },
             {
              "ECDF": 0.6153846153846154,
              "beak length (mm)": 10.8,
              "species": "fortis"
             },
             {
              "ECDF": 0.6185897435897436,
              "beak length (mm)": 10.8,
              "species": "fortis"
             },
             {
              "ECDF": 0.6185897435897436,
              "beak length (mm)": 10.8,
              "species": "fortis"
             },
             {
              "ECDF": 0.6217948717948718,
              "beak length (mm)": 10.8,
              "species": "fortis"
             },
             {
              "ECDF": 0.6217948717948718,
              "beak length (mm)": 10.8,
              "species": "fortis"
             },
             {
              "ECDF": 0.625,
              "beak length (mm)": 10.8,
              "species": "fortis"
             },
             {
              "ECDF": 0.625,
              "beak length (mm)": 10.8,
              "species": "fortis"
             },
             {
              "ECDF": 0.6282051282051282,
              "beak length (mm)": 10.8,
              "species": "fortis"
             },
             {
              "ECDF": 0.6282051282051282,
              "beak length (mm)": 10.8,
              "species": "fortis"
             },
             {
              "ECDF": 0.6314102564102564,
              "beak length (mm)": 10.8,
              "species": "fortis"
             },
             {
              "ECDF": 0.6314102564102564,
              "beak length (mm)": 10.83,
              "species": "fortis"
             },
             {
              "ECDF": 0.6346153846153846,
              "beak length (mm)": 10.83,
              "species": "fortis"
             },
             {
              "ECDF": 0.6346153846153846,
              "beak length (mm)": 10.85,
              "species": "fortis"
             },
             {
              "ECDF": 0.6378205128205128,
              "beak length (mm)": 10.85,
              "species": "fortis"
             },
             {
              "ECDF": 0.6378205128205128,
              "beak length (mm)": 10.9,
              "species": "fortis"
             },
             {
              "ECDF": 0.6410256410256411,
              "beak length (mm)": 10.9,
              "species": "fortis"
             },
             {
              "ECDF": 0.6410256410256411,
              "beak length (mm)": 10.9,
              "species": "fortis"
             },
             {
              "ECDF": 0.6442307692307693,
              "beak length (mm)": 10.9,
              "species": "fortis"
             },
             {
              "ECDF": 0.6442307692307693,
              "beak length (mm)": 10.9,
              "species": "fortis"
             },
             {
              "ECDF": 0.6474358974358975,
              "beak length (mm)": 10.9,
              "species": "fortis"
             },
             {
              "ECDF": 0.6474358974358975,
              "beak length (mm)": 10.9,
              "species": "fortis"
             },
             {
              "ECDF": 0.6506410256410257,
              "beak length (mm)": 10.9,
              "species": "fortis"
             },
             {
              "ECDF": 0.6506410256410257,
              "beak length (mm)": 10.9,
              "species": "fortis"
             },
             {
              "ECDF": 0.6538461538461539,
              "beak length (mm)": 10.9,
              "species": "fortis"
             },
             {
              "ECDF": 0.6538461538461539,
              "beak length (mm)": 10.9,
              "species": "fortis"
             },
             {
              "ECDF": 0.657051282051282,
              "beak length (mm)": 10.9,
              "species": "fortis"
             },
             {
              "ECDF": 0.657051282051282,
              "beak length (mm)": 10.9,
              "species": "fortis"
             },
             {
              "ECDF": 0.6602564102564102,
              "beak length (mm)": 10.9,
              "species": "fortis"
             },
             {
              "ECDF": 0.6602564102564102,
              "beak length (mm)": 10.9,
              "species": "fortis"
             },
             {
              "ECDF": 0.6634615384615384,
              "beak length (mm)": 10.9,
              "species": "fortis"
             },
             {
              "ECDF": 0.6634615384615384,
              "beak length (mm)": 10.9,
              "species": "fortis"
             },
             {
              "ECDF": 0.6666666666666666,
              "beak length (mm)": 10.9,
              "species": "fortis"
             },
             {
              "ECDF": 0.6666666666666666,
              "beak length (mm)": 10.9,
              "species": "fortis"
             },
             {
              "ECDF": 0.6698717948717948,
              "beak length (mm)": 10.9,
              "species": "fortis"
             },
             {
              "ECDF": 0.6698717948717948,
              "beak length (mm)": 10.9,
              "species": "fortis"
             },
             {
              "ECDF": 0.6730769230769231,
              "beak length (mm)": 10.9,
              "species": "fortis"
             },
             {
              "ECDF": 0.6730769230769231,
              "beak length (mm)": 10.9,
              "species": "fortis"
             },
             {
              "ECDF": 0.6762820512820513,
              "beak length (mm)": 10.9,
              "species": "fortis"
             },
             {
              "ECDF": 0.6762820512820513,
              "beak length (mm)": 10.9,
              "species": "fortis"
             },
             {
              "ECDF": 0.6794871794871795,
              "beak length (mm)": 10.9,
              "species": "fortis"
             },
             {
              "ECDF": 0.6794871794871795,
              "beak length (mm)": 10.9,
              "species": "fortis"
             },
             {
              "ECDF": 0.6826923076923077,
              "beak length (mm)": 10.9,
              "species": "fortis"
             },
             {
              "ECDF": 0.6826923076923077,
              "beak length (mm)": 10.9,
              "species": "fortis"
             },
             {
              "ECDF": 0.6858974358974359,
              "beak length (mm)": 10.9,
              "species": "fortis"
             },
             {
              "ECDF": 0.6858974358974359,
              "beak length (mm)": 10.9,
              "species": "fortis"
             },
             {
              "ECDF": 0.6891025641025641,
              "beak length (mm)": 10.9,
              "species": "fortis"
             },
             {
              "ECDF": 0.6891025641025641,
              "beak length (mm)": 10.9,
              "species": "fortis"
             },
             {
              "ECDF": 0.6923076923076923,
              "beak length (mm)": 10.9,
              "species": "fortis"
             },
             {
              "ECDF": 0.6923076923076923,
              "beak length (mm)": 10.9,
              "species": "fortis"
             },
             {
              "ECDF": 0.6955128205128205,
              "beak length (mm)": 10.9,
              "species": "fortis"
             },
             {
              "ECDF": 0.6955128205128205,
              "beak length (mm)": 10.9,
              "species": "fortis"
             },
             {
              "ECDF": 0.6987179487179487,
              "beak length (mm)": 10.9,
              "species": "fortis"
             },
             {
              "ECDF": 0.6987179487179487,
              "beak length (mm)": 10.95,
              "species": "fortis"
             },
             {
              "ECDF": 0.7019230769230769,
              "beak length (mm)": 10.95,
              "species": "fortis"
             },
             {
              "ECDF": 0.7019230769230769,
              "beak length (mm)": 10.95,
              "species": "fortis"
             },
             {
              "ECDF": 0.7051282051282052,
              "beak length (mm)": 10.95,
              "species": "fortis"
             },
             {
              "ECDF": 0.7051282051282052,
              "beak length (mm)": 10.95,
              "species": "fortis"
             },
             {
              "ECDF": 0.7083333333333334,
              "beak length (mm)": 10.95,
              "species": "fortis"
             },
             {
              "ECDF": 0.7083333333333334,
              "beak length (mm)": 11,
              "species": "fortis"
             },
             {
              "ECDF": 0.7115384615384616,
              "beak length (mm)": 11,
              "species": "fortis"
             },
             {
              "ECDF": 0.7115384615384616,
              "beak length (mm)": 11,
              "species": "fortis"
             },
             {
              "ECDF": 0.7147435897435898,
              "beak length (mm)": 11,
              "species": "fortis"
             },
             {
              "ECDF": 0.7147435897435898,
              "beak length (mm)": 11,
              "species": "fortis"
             },
             {
              "ECDF": 0.717948717948718,
              "beak length (mm)": 11,
              "species": "fortis"
             },
             {
              "ECDF": 0.717948717948718,
              "beak length (mm)": 11,
              "species": "fortis"
             },
             {
              "ECDF": 0.7211538461538461,
              "beak length (mm)": 11,
              "species": "fortis"
             },
             {
              "ECDF": 0.7211538461538461,
              "beak length (mm)": 11,
              "species": "fortis"
             },
             {
              "ECDF": 0.7243589743589743,
              "beak length (mm)": 11,
              "species": "fortis"
             },
             {
              "ECDF": 0.7243589743589743,
              "beak length (mm)": 11,
              "species": "fortis"
             },
             {
              "ECDF": 0.7275641025641025,
              "beak length (mm)": 11,
              "species": "fortis"
             },
             {
              "ECDF": 0.7275641025641025,
              "beak length (mm)": 11,
              "species": "fortis"
             },
             {
              "ECDF": 0.7307692307692307,
              "beak length (mm)": 11,
              "species": "fortis"
             },
             {
              "ECDF": 0.7307692307692307,
              "beak length (mm)": 11,
              "species": "fortis"
             },
             {
              "ECDF": 0.7339743589743589,
              "beak length (mm)": 11,
              "species": "fortis"
             },
             {
              "ECDF": 0.7339743589743589,
              "beak length (mm)": 11,
              "species": "fortis"
             },
             {
              "ECDF": 0.7371794871794872,
              "beak length (mm)": 11,
              "species": "fortis"
             },
             {
              "ECDF": 0.7371794871794872,
              "beak length (mm)": 11,
              "species": "fortis"
             },
             {
              "ECDF": 0.7403846153846154,
              "beak length (mm)": 11,
              "species": "fortis"
             },
             {
              "ECDF": 0.7403846153846154,
              "beak length (mm)": 11,
              "species": "fortis"
             },
             {
              "ECDF": 0.7435897435897436,
              "beak length (mm)": 11,
              "species": "fortis"
             },
             {
              "ECDF": 0.7435897435897436,
              "beak length (mm)": 11,
              "species": "fortis"
             },
             {
              "ECDF": 0.7467948717948718,
              "beak length (mm)": 11,
              "species": "fortis"
             },
             {
              "ECDF": 0.7467948717948718,
              "beak length (mm)": 11,
              "species": "fortis"
             },
             {
              "ECDF": 0.75,
              "beak length (mm)": 11,
              "species": "fortis"
             },
             {
              "ECDF": 0.75,
              "beak length (mm)": 11,
              "species": "fortis"
             },
             {
              "ECDF": 0.7532051282051282,
              "beak length (mm)": 11,
              "species": "fortis"
             },
             {
              "ECDF": 0.7532051282051282,
              "beak length (mm)": 11,
              "species": "fortis"
             },
             {
              "ECDF": 0.7564102564102564,
              "beak length (mm)": 11,
              "species": "fortis"
             },
             {
              "ECDF": 0.7564102564102564,
              "beak length (mm)": 11,
              "species": "fortis"
             },
             {
              "ECDF": 0.7596153846153846,
              "beak length (mm)": 11,
              "species": "fortis"
             },
             {
              "ECDF": 0.7596153846153846,
              "beak length (mm)": 11,
              "species": "fortis"
             },
             {
              "ECDF": 0.7628205128205128,
              "beak length (mm)": 11,
              "species": "fortis"
             },
             {
              "ECDF": 0.7628205128205128,
              "beak length (mm)": 11,
              "species": "fortis"
             },
             {
              "ECDF": 0.7660256410256411,
              "beak length (mm)": 11,
              "species": "fortis"
             },
             {
              "ECDF": 0.7660256410256411,
              "beak length (mm)": 11,
              "species": "fortis"
             },
             {
              "ECDF": 0.7692307692307693,
              "beak length (mm)": 11,
              "species": "fortis"
             },
             {
              "ECDF": 0.7692307692307693,
              "beak length (mm)": 11,
              "species": "fortis"
             },
             {
              "ECDF": 0.7724358974358975,
              "beak length (mm)": 11,
              "species": "fortis"
             },
             {
              "ECDF": 0.7724358974358975,
              "beak length (mm)": 11,
              "species": "fortis"
             },
             {
              "ECDF": 0.7756410256410257,
              "beak length (mm)": 11,
              "species": "fortis"
             },
             {
              "ECDF": 0.7756410256410257,
              "beak length (mm)": 11,
              "species": "fortis"
             },
             {
              "ECDF": 0.7788461538461539,
              "beak length (mm)": 11,
              "species": "fortis"
             },
             {
              "ECDF": 0.7788461538461539,
              "beak length (mm)": 11,
              "species": "fortis"
             },
             {
              "ECDF": 0.782051282051282,
              "beak length (mm)": 11,
              "species": "fortis"
             },
             {
              "ECDF": 0.782051282051282,
              "beak length (mm)": 11.03,
              "species": "fortis"
             },
             {
              "ECDF": 0.7852564102564102,
              "beak length (mm)": 11.03,
              "species": "fortis"
             },
             {
              "ECDF": 0.7852564102564102,
              "beak length (mm)": 11.03,
              "species": "fortis"
             },
             {
              "ECDF": 0.7884615384615384,
              "beak length (mm)": 11.03,
              "species": "fortis"
             },
             {
              "ECDF": 0.7884615384615384,
              "beak length (mm)": 11.1,
              "species": "fortis"
             },
             {
              "ECDF": 0.7916666666666666,
              "beak length (mm)": 11.1,
              "species": "fortis"
             },
             {
              "ECDF": 0.7916666666666666,
              "beak length (mm)": 11.1,
              "species": "fortis"
             },
             {
              "ECDF": 0.7948717948717948,
              "beak length (mm)": 11.1,
              "species": "fortis"
             },
             {
              "ECDF": 0.7948717948717948,
              "beak length (mm)": 11.1,
              "species": "fortis"
             },
             {
              "ECDF": 0.7980769230769231,
              "beak length (mm)": 11.1,
              "species": "fortis"
             },
             {
              "ECDF": 0.7980769230769231,
              "beak length (mm)": 11.1,
              "species": "fortis"
             },
             {
              "ECDF": 0.8012820512820513,
              "beak length (mm)": 11.1,
              "species": "fortis"
             },
             {
              "ECDF": 0.8012820512820513,
              "beak length (mm)": 11.1,
              "species": "fortis"
             },
             {
              "ECDF": 0.8044871794871795,
              "beak length (mm)": 11.1,
              "species": "fortis"
             },
             {
              "ECDF": 0.8044871794871795,
              "beak length (mm)": 11.1,
              "species": "fortis"
             },
             {
              "ECDF": 0.8076923076923077,
              "beak length (mm)": 11.1,
              "species": "fortis"
             },
             {
              "ECDF": 0.8076923076923077,
              "beak length (mm)": 11.1,
              "species": "fortis"
             },
             {
              "ECDF": 0.8108974358974359,
              "beak length (mm)": 11.1,
              "species": "fortis"
             },
             {
              "ECDF": 0.8108974358974359,
              "beak length (mm)": 11.1,
              "species": "fortis"
             },
             {
              "ECDF": 0.8141025641025641,
              "beak length (mm)": 11.1,
              "species": "fortis"
             },
             {
              "ECDF": 0.8141025641025641,
              "beak length (mm)": 11.1,
              "species": "fortis"
             },
             {
              "ECDF": 0.8173076923076923,
              "beak length (mm)": 11.1,
              "species": "fortis"
             },
             {
              "ECDF": 0.8173076923076923,
              "beak length (mm)": 11.1,
              "species": "fortis"
             },
             {
              "ECDF": 0.8205128205128205,
              "beak length (mm)": 11.1,
              "species": "fortis"
             },
             {
              "ECDF": 0.8205128205128205,
              "beak length (mm)": 11.2,
              "species": "fortis"
             },
             {
              "ECDF": 0.8237179487179487,
              "beak length (mm)": 11.2,
              "species": "fortis"
             },
             {
              "ECDF": 0.8237179487179487,
              "beak length (mm)": 11.2,
              "species": "fortis"
             },
             {
              "ECDF": 0.8269230769230769,
              "beak length (mm)": 11.2,
              "species": "fortis"
             },
             {
              "ECDF": 0.8269230769230769,
              "beak length (mm)": 11.2,
              "species": "fortis"
             },
             {
              "ECDF": 0.8301282051282052,
              "beak length (mm)": 11.2,
              "species": "fortis"
             },
             {
              "ECDF": 0.8301282051282052,
              "beak length (mm)": 11.2,
              "species": "fortis"
             },
             {
              "ECDF": 0.8333333333333334,
              "beak length (mm)": 11.2,
              "species": "fortis"
             },
             {
              "ECDF": 0.8333333333333334,
              "beak length (mm)": 11.2,
              "species": "fortis"
             },
             {
              "ECDF": 0.8365384615384616,
              "beak length (mm)": 11.2,
              "species": "fortis"
             },
             {
              "ECDF": 0.8365384615384616,
              "beak length (mm)": 11.2,
              "species": "fortis"
             },
             {
              "ECDF": 0.8397435897435898,
              "beak length (mm)": 11.2,
              "species": "fortis"
             },
             {
              "ECDF": 0.8397435897435898,
              "beak length (mm)": 11.2,
              "species": "fortis"
             },
             {
              "ECDF": 0.842948717948718,
              "beak length (mm)": 11.2,
              "species": "fortis"
             },
             {
              "ECDF": 0.842948717948718,
              "beak length (mm)": 11.2,
              "species": "fortis"
             },
             {
              "ECDF": 0.8461538461538461,
              "beak length (mm)": 11.2,
              "species": "fortis"
             },
             {
              "ECDF": 0.8461538461538461,
              "beak length (mm)": 11.2,
              "species": "fortis"
             },
             {
              "ECDF": 0.8493589743589743,
              "beak length (mm)": 11.2,
              "species": "fortis"
             },
             {
              "ECDF": 0.8493589743589743,
              "beak length (mm)": 11.2,
              "species": "fortis"
             },
             {
              "ECDF": 0.8525641025641025,
              "beak length (mm)": 11.2,
              "species": "fortis"
             },
             {
              "ECDF": 0.8525641025641025,
              "beak length (mm)": 11.2,
              "species": "fortis"
             },
             {
              "ECDF": 0.8557692307692307,
              "beak length (mm)": 11.2,
              "species": "fortis"
             },
             {
              "ECDF": 0.8557692307692307,
              "beak length (mm)": 11.23,
              "species": "fortis"
             },
             {
              "ECDF": 0.8589743589743589,
              "beak length (mm)": 11.23,
              "species": "fortis"
             },
             {
              "ECDF": 0.8589743589743589,
              "beak length (mm)": 11.3,
              "species": "fortis"
             },
             {
              "ECDF": 0.8621794871794872,
              "beak length (mm)": 11.3,
              "species": "fortis"
             },
             {
              "ECDF": 0.8621794871794872,
              "beak length (mm)": 11.3,
              "species": "fortis"
             },
             {
              "ECDF": 0.8653846153846154,
              "beak length (mm)": 11.3,
              "species": "fortis"
             },
             {
              "ECDF": 0.8653846153846154,
              "beak length (mm)": 11.3,
              "species": "fortis"
             },
             {
              "ECDF": 0.8685897435897436,
              "beak length (mm)": 11.3,
              "species": "fortis"
             },
             {
              "ECDF": 0.8685897435897436,
              "beak length (mm)": 11.3,
              "species": "fortis"
             },
             {
              "ECDF": 0.8717948717948718,
              "beak length (mm)": 11.3,
              "species": "fortis"
             },
             {
              "ECDF": 0.8717948717948718,
              "beak length (mm)": 11.3,
              "species": "fortis"
             },
             {
              "ECDF": 0.875,
              "beak length (mm)": 11.3,
              "species": "fortis"
             },
             {
              "ECDF": 0.875,
              "beak length (mm)": 11.4,
              "species": "fortis"
             },
             {
              "ECDF": 0.8782051282051282,
              "beak length (mm)": 11.4,
              "species": "fortis"
             },
             {
              "ECDF": 0.8782051282051282,
              "beak length (mm)": 11.4,
              "species": "fortis"
             },
             {
              "ECDF": 0.8814102564102564,
              "beak length (mm)": 11.4,
              "species": "fortis"
             },
             {
              "ECDF": 0.8814102564102564,
              "beak length (mm)": 11.4,
              "species": "fortis"
             },
             {
              "ECDF": 0.8846153846153846,
              "beak length (mm)": 11.4,
              "species": "fortis"
             },
             {
              "ECDF": 0.8846153846153846,
              "beak length (mm)": 11.43,
              "species": "fortis"
             },
             {
              "ECDF": 0.8878205128205128,
              "beak length (mm)": 11.43,
              "species": "fortis"
             },
             {
              "ECDF": 0.8878205128205128,
              "beak length (mm)": 11.45,
              "species": "fortis"
             },
             {
              "ECDF": 0.8910256410256411,
              "beak length (mm)": 11.45,
              "species": "fortis"
             },
             {
              "ECDF": 0.8910256410256411,
              "beak length (mm)": 11.5,
              "species": "fortis"
             },
             {
              "ECDF": 0.8942307692307693,
              "beak length (mm)": 11.5,
              "species": "fortis"
             },
             {
              "ECDF": 0.8942307692307693,
              "beak length (mm)": 11.5,
              "species": "fortis"
             },
             {
              "ECDF": 0.8974358974358975,
              "beak length (mm)": 11.5,
              "species": "fortis"
             },
             {
              "ECDF": 0.8974358974358975,
              "beak length (mm)": 11.5,
              "species": "fortis"
             },
             {
              "ECDF": 0.9006410256410257,
              "beak length (mm)": 11.5,
              "species": "fortis"
             },
             {
              "ECDF": 0.9006410256410257,
              "beak length (mm)": 11.5,
              "species": "fortis"
             },
             {
              "ECDF": 0.9038461538461539,
              "beak length (mm)": 11.5,
              "species": "fortis"
             },
             {
              "ECDF": 0.9038461538461539,
              "beak length (mm)": 11.5,
              "species": "fortis"
             },
             {
              "ECDF": 0.907051282051282,
              "beak length (mm)": 11.5,
              "species": "fortis"
             },
             {
              "ECDF": 0.907051282051282,
              "beak length (mm)": 11.5,
              "species": "fortis"
             },
             {
              "ECDF": 0.9102564102564102,
              "beak length (mm)": 11.5,
              "species": "fortis"
             },
             {
              "ECDF": 0.9102564102564102,
              "beak length (mm)": 11.5,
              "species": "fortis"
             },
             {
              "ECDF": 0.9134615384615384,
              "beak length (mm)": 11.5,
              "species": "fortis"
             },
             {
              "ECDF": 0.9134615384615384,
              "beak length (mm)": 11.5,
              "species": "fortis"
             },
             {
              "ECDF": 0.9166666666666666,
              "beak length (mm)": 11.5,
              "species": "fortis"
             },
             {
              "ECDF": 0.9166666666666666,
              "beak length (mm)": 11.53,
              "species": "fortis"
             },
             {
              "ECDF": 0.9198717948717948,
              "beak length (mm)": 11.53,
              "species": "fortis"
             },
             {
              "ECDF": 0.9198717948717948,
              "beak length (mm)": 11.6,
              "species": "fortis"
             },
             {
              "ECDF": 0.9230769230769231,
              "beak length (mm)": 11.6,
              "species": "fortis"
             },
             {
              "ECDF": 0.9230769230769231,
              "beak length (mm)": 11.6,
              "species": "fortis"
             },
             {
              "ECDF": 0.9262820512820513,
              "beak length (mm)": 11.6,
              "species": "fortis"
             },
             {
              "ECDF": 0.9262820512820513,
              "beak length (mm)": 11.6,
              "species": "fortis"
             },
             {
              "ECDF": 0.9294871794871795,
              "beak length (mm)": 11.6,
              "species": "fortis"
             },
             {
              "ECDF": 0.9294871794871795,
              "beak length (mm)": 11.6,
              "species": "fortis"
             },
             {
              "ECDF": 0.9326923076923077,
              "beak length (mm)": 11.6,
              "species": "fortis"
             },
             {
              "ECDF": 0.9326923076923077,
              "beak length (mm)": 11.6,
              "species": "fortis"
             },
             {
              "ECDF": 0.9358974358974359,
              "beak length (mm)": 11.6,
              "species": "fortis"
             },
             {
              "ECDF": 0.9358974358974359,
              "beak length (mm)": 11.6,
              "species": "fortis"
             },
             {
              "ECDF": 0.9391025641025641,
              "beak length (mm)": 11.6,
              "species": "fortis"
             },
             {
              "ECDF": 0.9391025641025641,
              "beak length (mm)": 11.7,
              "species": "fortis"
             },
             {
              "ECDF": 0.9423076923076923,
              "beak length (mm)": 11.7,
              "species": "fortis"
             },
             {
              "ECDF": 0.9423076923076923,
              "beak length (mm)": 11.7,
              "species": "fortis"
             },
             {
              "ECDF": 0.9455128205128205,
              "beak length (mm)": 11.7,
              "species": "fortis"
             },
             {
              "ECDF": 0.9455128205128205,
              "beak length (mm)": 11.7,
              "species": "fortis"
             },
             {
              "ECDF": 0.9487179487179487,
              "beak length (mm)": 11.7,
              "species": "fortis"
             },
             {
              "ECDF": 0.9487179487179487,
              "beak length (mm)": 11.73,
              "species": "fortis"
             },
             {
              "ECDF": 0.9519230769230769,
              "beak length (mm)": 11.73,
              "species": "fortis"
             },
             {
              "ECDF": 0.9519230769230769,
              "beak length (mm)": 11.73,
              "species": "fortis"
             },
             {
              "ECDF": 0.9551282051282052,
              "beak length (mm)": 11.73,
              "species": "fortis"
             },
             {
              "ECDF": 0.9551282051282052,
              "beak length (mm)": 11.75,
              "species": "fortis"
             },
             {
              "ECDF": 0.9583333333333334,
              "beak length (mm)": 11.75,
              "species": "fortis"
             },
             {
              "ECDF": 0.9583333333333334,
              "beak length (mm)": 11.8,
              "species": "fortis"
             },
             {
              "ECDF": 0.9615384615384616,
              "beak length (mm)": 11.8,
              "species": "fortis"
             },
             {
              "ECDF": 0.9615384615384616,
              "beak length (mm)": 11.8,
              "species": "fortis"
             },
             {
              "ECDF": 0.9647435897435898,
              "beak length (mm)": 11.8,
              "species": "fortis"
             },
             {
              "ECDF": 0.9647435897435898,
              "beak length (mm)": 11.8,
              "species": "fortis"
             },
             {
              "ECDF": 0.967948717948718,
              "beak length (mm)": 11.8,
              "species": "fortis"
             },
             {
              "ECDF": 0.967948717948718,
              "beak length (mm)": 11.8,
              "species": "fortis"
             },
             {
              "ECDF": 0.9711538461538461,
              "beak length (mm)": 11.8,
              "species": "fortis"
             },
             {
              "ECDF": 0.9711538461538461,
              "beak length (mm)": 11.8,
              "species": "fortis"
             },
             {
              "ECDF": 0.9743589743589743,
              "beak length (mm)": 11.8,
              "species": "fortis"
             },
             {
              "ECDF": 0.9743589743589743,
              "beak length (mm)": 11.83,
              "species": "fortis"
             },
             {
              "ECDF": 0.9775641025641025,
              "beak length (mm)": 11.83,
              "species": "fortis"
             },
             {
              "ECDF": 0.9775641025641025,
              "beak length (mm)": 11.88,
              "species": "fortis"
             },
             {
              "ECDF": 0.9807692307692307,
              "beak length (mm)": 11.88,
              "species": "fortis"
             },
             {
              "ECDF": 0.9807692307692307,
              "beak length (mm)": 11.9,
              "species": "fortis"
             },
             {
              "ECDF": 0.9839743589743589,
              "beak length (mm)": 11.9,
              "species": "fortis"
             },
             {
              "ECDF": 0.9839743589743589,
              "beak length (mm)": 11.9,
              "species": "fortis"
             },
             {
              "ECDF": 0.9871794871794872,
              "beak length (mm)": 11.9,
              "species": "fortis"
             },
             {
              "ECDF": 0.9871794871794872,
              "beak length (mm)": 12,
              "species": "fortis"
             },
             {
              "ECDF": 0.9903846153846154,
              "beak length (mm)": 12,
              "species": "fortis"
             },
             {
              "ECDF": 0.9903846153846154,
              "beak length (mm)": 12.1,
              "species": "fortis"
             },
             {
              "ECDF": 0.9935897435897436,
              "beak length (mm)": 12.1,
              "species": "fortis"
             },
             {
              "ECDF": 0.9935897435897436,
              "beak length (mm)": 12.2,
              "species": "fortis"
             },
             {
              "ECDF": 0.9967948717948718,
              "beak length (mm)": 12.2,
              "species": "fortis"
             },
             {
              "ECDF": 0.9967948717948718,
              "beak length (mm)": 12.2,
              "species": "fortis"
             },
             {
              "ECDF": 1,
              "beak length (mm)": 12.2,
              "species": "fortis"
             },
             {
              "ECDF": 1,
              "beak length (mm)": 12.2,
              "species": "fortis"
             },
             {
              "ECDF": 1,
              "beak length (mm)": 16.302,
              "species": "fortis"
             },
             {
              "ECDF": 0,
              "beak length (mm)": 8.338,
              "species": "scandens"
             },
             {
              "ECDF": 0,
              "beak length (mm)": 12.8,
              "species": "scandens"
             },
             {
              "ECDF": 0,
              "beak length (mm)": 12.8,
              "species": "scandens"
             },
             {
              "ECDF": 0.011494252873563218,
              "beak length (mm)": 12.8,
              "species": "scandens"
             },
             {
              "ECDF": 0.011494252873563218,
              "beak length (mm)": 12.8,
              "species": "scandens"
             },
             {
              "ECDF": 0.022988505747126436,
              "beak length (mm)": 12.8,
              "species": "scandens"
             },
             {
              "ECDF": 0.022988505747126436,
              "beak length (mm)": 12.8,
              "species": "scandens"
             },
             {
              "ECDF": 0.034482758620689655,
              "beak length (mm)": 12.8,
              "species": "scandens"
             },
             {
              "ECDF": 0.034482758620689655,
              "beak length (mm)": 12.9,
              "species": "scandens"
             },
             {
              "ECDF": 0.04597701149425287,
              "beak length (mm)": 12.9,
              "species": "scandens"
             },
             {
              "ECDF": 0.04597701149425287,
              "beak length (mm)": 12.9,
              "species": "scandens"
             },
             {
              "ECDF": 0.05747126436781609,
              "beak length (mm)": 12.9,
              "species": "scandens"
             },
             {
              "ECDF": 0.05747126436781609,
              "beak length (mm)": 12.9,
              "species": "scandens"
             },
             {
              "ECDF": 0.06896551724137931,
              "beak length (mm)": 12.9,
              "species": "scandens"
             },
             {
              "ECDF": 0.06896551724137931,
              "beak length (mm)": 13,
              "species": "scandens"
             },
             {
              "ECDF": 0.08045977011494253,
              "beak length (mm)": 13,
              "species": "scandens"
             },
             {
              "ECDF": 0.08045977011494253,
              "beak length (mm)": 13,
              "species": "scandens"
             },
             {
              "ECDF": 0.09195402298850575,
              "beak length (mm)": 13,
              "species": "scandens"
             },
             {
              "ECDF": 0.09195402298850575,
              "beak length (mm)": 13,
              "species": "scandens"
             },
             {
              "ECDF": 0.10344827586206896,
              "beak length (mm)": 13,
              "species": "scandens"
             },
             {
              "ECDF": 0.10344827586206896,
              "beak length (mm)": 13.1,
              "species": "scandens"
             },
             {
              "ECDF": 0.11494252873563218,
              "beak length (mm)": 13.1,
              "species": "scandens"
             },
             {
              "ECDF": 0.11494252873563218,
              "beak length (mm)": 13.1,
              "species": "scandens"
             },
             {
              "ECDF": 0.12643678160919541,
              "beak length (mm)": 13.1,
              "species": "scandens"
             },
             {
              "ECDF": 0.12643678160919541,
              "beak length (mm)": 13.25,
              "species": "scandens"
             },
             {
              "ECDF": 0.13793103448275862,
              "beak length (mm)": 13.25,
              "species": "scandens"
             },
             {
              "ECDF": 0.13793103448275862,
              "beak length (mm)": 13.4,
              "species": "scandens"
             },
             {
              "ECDF": 0.14942528735632185,
              "beak length (mm)": 13.4,
              "species": "scandens"
             },
             {
              "ECDF": 0.14942528735632185,
              "beak length (mm)": 13.4,
              "species": "scandens"
             },
             {
              "ECDF": 0.16091954022988506,
              "beak length (mm)": 13.4,
              "species": "scandens"
             },
             {
              "ECDF": 0.16091954022988506,
              "beak length (mm)": 13.4,
              "species": "scandens"
             },
             {
              "ECDF": 0.1724137931034483,
              "beak length (mm)": 13.4,
              "species": "scandens"
             },
             {
              "ECDF": 0.1724137931034483,
              "beak length (mm)": 13.4,
              "species": "scandens"
             },
             {
              "ECDF": 0.1839080459770115,
              "beak length (mm)": 13.4,
              "species": "scandens"
             },
             {
              "ECDF": 0.1839080459770115,
              "beak length (mm)": 13.4,
              "species": "scandens"
             },
             {
              "ECDF": 0.19540229885057472,
              "beak length (mm)": 13.4,
              "species": "scandens"
             },
             {
              "ECDF": 0.19540229885057472,
              "beak length (mm)": 13.5,
              "species": "scandens"
             },
             {
              "ECDF": 0.20689655172413793,
              "beak length (mm)": 13.5,
              "species": "scandens"
             },
             {
              "ECDF": 0.20689655172413793,
              "beak length (mm)": 13.5,
              "species": "scandens"
             },
             {
              "ECDF": 0.21839080459770116,
              "beak length (mm)": 13.5,
              "species": "scandens"
             },
             {
              "ECDF": 0.21839080459770116,
              "beak length (mm)": 13.5,
              "species": "scandens"
             },
             {
              "ECDF": 0.22988505747126436,
              "beak length (mm)": 13.5,
              "species": "scandens"
             },
             {
              "ECDF": 0.22988505747126436,
              "beak length (mm)": 13.5,
              "species": "scandens"
             },
             {
              "ECDF": 0.2413793103448276,
              "beak length (mm)": 13.5,
              "species": "scandens"
             },
             {
              "ECDF": 0.2413793103448276,
              "beak length (mm)": 13.5,
              "species": "scandens"
             },
             {
              "ECDF": 0.25287356321839083,
              "beak length (mm)": 13.5,
              "species": "scandens"
             },
             {
              "ECDF": 0.25287356321839083,
              "beak length (mm)": 13.5,
              "species": "scandens"
             },
             {
              "ECDF": 0.26436781609195403,
              "beak length (mm)": 13.5,
              "species": "scandens"
             },
             {
              "ECDF": 0.26436781609195403,
              "beak length (mm)": 13.6,
              "species": "scandens"
             },
             {
              "ECDF": 0.27586206896551724,
              "beak length (mm)": 13.6,
              "species": "scandens"
             },
             {
              "ECDF": 0.27586206896551724,
              "beak length (mm)": 13.6,
              "species": "scandens"
             },
             {
              "ECDF": 0.28735632183908044,
              "beak length (mm)": 13.6,
              "species": "scandens"
             },
             {
              "ECDF": 0.28735632183908044,
              "beak length (mm)": 13.7,
              "species": "scandens"
             },
             {
              "ECDF": 0.2988505747126437,
              "beak length (mm)": 13.7,
              "species": "scandens"
             },
             {
              "ECDF": 0.2988505747126437,
              "beak length (mm)": 13.7,
              "species": "scandens"
             },
             {
              "ECDF": 0.3103448275862069,
              "beak length (mm)": 13.7,
              "species": "scandens"
             },
             {
              "ECDF": 0.3103448275862069,
              "beak length (mm)": 13.8,
              "species": "scandens"
             },
             {
              "ECDF": 0.3218390804597701,
              "beak length (mm)": 13.8,
              "species": "scandens"
             },
             {
              "ECDF": 0.3218390804597701,
              "beak length (mm)": 13.8,
              "species": "scandens"
             },
             {
              "ECDF": 0.3333333333333333,
              "beak length (mm)": 13.8,
              "species": "scandens"
             },
             {
              "ECDF": 0.3333333333333333,
              "beak length (mm)": 13.8,
              "species": "scandens"
             },
             {
              "ECDF": 0.3448275862068966,
              "beak length (mm)": 13.8,
              "species": "scandens"
             },
             {
              "ECDF": 0.3448275862068966,
              "beak length (mm)": 13.8,
              "species": "scandens"
             },
             {
              "ECDF": 0.3563218390804598,
              "beak length (mm)": 13.8,
              "species": "scandens"
             },
             {
              "ECDF": 0.3563218390804598,
              "beak length (mm)": 13.9,
              "species": "scandens"
             },
             {
              "ECDF": 0.367816091954023,
              "beak length (mm)": 13.9,
              "species": "scandens"
             },
             {
              "ECDF": 0.367816091954023,
              "beak length (mm)": 13.9,
              "species": "scandens"
             },
             {
              "ECDF": 0.3793103448275862,
              "beak length (mm)": 13.9,
              "species": "scandens"
             },
             {
              "ECDF": 0.3793103448275862,
              "beak length (mm)": 13.9,
              "species": "scandens"
             },
             {
              "ECDF": 0.39080459770114945,
              "beak length (mm)": 13.9,
              "species": "scandens"
             },
             {
              "ECDF": 0.39080459770114945,
              "beak length (mm)": 13.95,
              "species": "scandens"
             },
             {
              "ECDF": 0.40229885057471265,
              "beak length (mm)": 13.95,
              "species": "scandens"
             },
             {
              "ECDF": 0.40229885057471265,
              "beak length (mm)": 14,
              "species": "scandens"
             },
             {
              "ECDF": 0.41379310344827586,
              "beak length (mm)": 14,
              "species": "scandens"
             },
             {
              "ECDF": 0.41379310344827586,
              "beak length (mm)": 14,
              "species": "scandens"
             },
             {
              "ECDF": 0.42528735632183906,
              "beak length (mm)": 14,
              "species": "scandens"
             },
             {
              "ECDF": 0.42528735632183906,
              "beak length (mm)": 14,
              "species": "scandens"
             },
             {
              "ECDF": 0.4367816091954023,
              "beak length (mm)": 14,
              "species": "scandens"
             },
             {
              "ECDF": 0.4367816091954023,
              "beak length (mm)": 14,
              "species": "scandens"
             },
             {
              "ECDF": 0.4482758620689655,
              "beak length (mm)": 14,
              "species": "scandens"
             },
             {
              "ECDF": 0.4482758620689655,
              "beak length (mm)": 14,
              "species": "scandens"
             },
             {
              "ECDF": 0.45977011494252873,
              "beak length (mm)": 14,
              "species": "scandens"
             },
             {
              "ECDF": 0.45977011494252873,
              "beak length (mm)": 14,
              "species": "scandens"
             },
             {
              "ECDF": 0.47126436781609193,
              "beak length (mm)": 14,
              "species": "scandens"
             },
             {
              "ECDF": 0.47126436781609193,
              "beak length (mm)": 14,
              "species": "scandens"
             },
             {
              "ECDF": 0.4827586206896552,
              "beak length (mm)": 14,
              "species": "scandens"
             },
             {
              "ECDF": 0.4827586206896552,
              "beak length (mm)": 14,
              "species": "scandens"
             },
             {
              "ECDF": 0.4942528735632184,
              "beak length (mm)": 14,
              "species": "scandens"
             },
             {
              "ECDF": 0.4942528735632184,
              "beak length (mm)": 14,
              "species": "scandens"
             },
             {
              "ECDF": 0.5057471264367817,
              "beak length (mm)": 14,
              "species": "scandens"
             },
             {
              "ECDF": 0.5057471264367817,
              "beak length (mm)": 14,
              "species": "scandens"
             },
             {
              "ECDF": 0.5172413793103449,
              "beak length (mm)": 14,
              "species": "scandens"
             },
             {
              "ECDF": 0.5172413793103449,
              "beak length (mm)": 14,
              "species": "scandens"
             },
             {
              "ECDF": 0.5287356321839081,
              "beak length (mm)": 14,
              "species": "scandens"
             },
             {
              "ECDF": 0.5287356321839081,
              "beak length (mm)": 14.05,
              "species": "scandens"
             },
             {
              "ECDF": 0.5402298850574713,
              "beak length (mm)": 14.05,
              "species": "scandens"
             },
             {
              "ECDF": 0.5402298850574713,
              "beak length (mm)": 14.05,
              "species": "scandens"
             },
             {
              "ECDF": 0.5517241379310345,
              "beak length (mm)": 14.05,
              "species": "scandens"
             },
             {
              "ECDF": 0.5517241379310345,
              "beak length (mm)": 14.15,
              "species": "scandens"
             },
             {
              "ECDF": 0.5632183908045977,
              "beak length (mm)": 14.15,
              "species": "scandens"
             },
             {
              "ECDF": 0.5632183908045977,
              "beak length (mm)": 14.2,
              "species": "scandens"
             },
             {
              "ECDF": 0.5747126436781609,
              "beak length (mm)": 14.2,
              "species": "scandens"
             },
             {
              "ECDF": 0.5747126436781609,
              "beak length (mm)": 14.2,
              "species": "scandens"
             },
             {
              "ECDF": 0.5862068965517241,
              "beak length (mm)": 14.2,
              "species": "scandens"
             },
             {
              "ECDF": 0.5862068965517241,
              "beak length (mm)": 14.2,
              "species": "scandens"
             },
             {
              "ECDF": 0.5977011494252874,
              "beak length (mm)": 14.2,
              "species": "scandens"
             },
             {
              "ECDF": 0.5977011494252874,
              "beak length (mm)": 14.2,
              "species": "scandens"
             },
             {
              "ECDF": 0.6091954022988506,
              "beak length (mm)": 14.2,
              "species": "scandens"
             },
             {
              "ECDF": 0.6091954022988506,
              "beak length (mm)": 14.2,
              "species": "scandens"
             },
             {
              "ECDF": 0.6206896551724138,
              "beak length (mm)": 14.2,
              "species": "scandens"
             },
             {
              "ECDF": 0.6206896551724138,
              "beak length (mm)": 14.23,
              "species": "scandens"
             },
             {
              "ECDF": 0.632183908045977,
              "beak length (mm)": 14.23,
              "species": "scandens"
             },
             {
              "ECDF": 0.632183908045977,
              "beak length (mm)": 14.35,
              "species": "scandens"
             },
             {
              "ECDF": 0.6436781609195402,
              "beak length (mm)": 14.35,
              "species": "scandens"
             },
             {
              "ECDF": 0.6436781609195402,
              "beak length (mm)": 14.4,
              "species": "scandens"
             },
             {
              "ECDF": 0.6551724137931034,
              "beak length (mm)": 14.4,
              "species": "scandens"
             },
             {
              "ECDF": 0.6551724137931034,
              "beak length (mm)": 14.4,
              "species": "scandens"
             },
             {
              "ECDF": 0.6666666666666666,
              "beak length (mm)": 14.4,
              "species": "scandens"
             },
             {
              "ECDF": 0.6666666666666666,
              "beak length (mm)": 14.45,
              "species": "scandens"
             },
             {
              "ECDF": 0.6781609195402298,
              "beak length (mm)": 14.45,
              "species": "scandens"
             },
             {
              "ECDF": 0.6781609195402298,
              "beak length (mm)": 14.55,
              "species": "scandens"
             },
             {
              "ECDF": 0.6896551724137931,
              "beak length (mm)": 14.55,
              "species": "scandens"
             },
             {
              "ECDF": 0.6896551724137931,
              "beak length (mm)": 14.6,
              "species": "scandens"
             },
             {
              "ECDF": 0.7011494252873564,
              "beak length (mm)": 14.6,
              "species": "scandens"
             },
             {
              "ECDF": 0.7011494252873564,
              "beak length (mm)": 14.6,
              "species": "scandens"
             },
             {
              "ECDF": 0.7126436781609196,
              "beak length (mm)": 14.6,
              "species": "scandens"
             },
             {
              "ECDF": 0.7126436781609196,
              "beak length (mm)": 14.6,
              "species": "scandens"
             },
             {
              "ECDF": 0.7241379310344828,
              "beak length (mm)": 14.6,
              "species": "scandens"
             },
             {
              "ECDF": 0.7241379310344828,
              "beak length (mm)": 14.63,
              "species": "scandens"
             },
             {
              "ECDF": 0.735632183908046,
              "beak length (mm)": 14.63,
              "species": "scandens"
             },
             {
              "ECDF": 0.735632183908046,
              "beak length (mm)": 14.73,
              "species": "scandens"
             },
             {
              "ECDF": 0.7471264367816092,
              "beak length (mm)": 14.73,
              "species": "scandens"
             },
             {
              "ECDF": 0.7471264367816092,
              "beak length (mm)": 14.75,
              "species": "scandens"
             },
             {
              "ECDF": 0.7586206896551724,
              "beak length (mm)": 14.75,
              "species": "scandens"
             },
             {
              "ECDF": 0.7586206896551724,
              "beak length (mm)": 14.8,
              "species": "scandens"
             },
             {
              "ECDF": 0.7701149425287356,
              "beak length (mm)": 14.8,
              "species": "scandens"
             },
             {
              "ECDF": 0.7701149425287356,
              "beak length (mm)": 14.83,
              "species": "scandens"
             },
             {
              "ECDF": 0.7816091954022989,
              "beak length (mm)": 14.83,
              "species": "scandens"
             },
             {
              "ECDF": 0.7816091954022989,
              "beak length (mm)": 14.9,
              "species": "scandens"
             },
             {
              "ECDF": 0.7931034482758621,
              "beak length (mm)": 14.9,
              "species": "scandens"
             },
             {
              "ECDF": 0.7931034482758621,
              "beak length (mm)": 14.9,
              "species": "scandens"
             },
             {
              "ECDF": 0.8045977011494253,
              "beak length (mm)": 14.9,
              "species": "scandens"
             },
             {
              "ECDF": 0.8045977011494253,
              "beak length (mm)": 14.9,
              "species": "scandens"
             },
             {
              "ECDF": 0.8160919540229885,
              "beak length (mm)": 14.9,
              "species": "scandens"
             },
             {
              "ECDF": 0.8160919540229885,
              "beak length (mm)": 14.9,
              "species": "scandens"
             },
             {
              "ECDF": 0.8275862068965517,
              "beak length (mm)": 14.9,
              "species": "scandens"
             },
             {
              "ECDF": 0.8275862068965517,
              "beak length (mm)": 14.9,
              "species": "scandens"
             },
             {
              "ECDF": 0.8390804597701149,
              "beak length (mm)": 14.9,
              "species": "scandens"
             },
             {
              "ECDF": 0.8390804597701149,
              "beak length (mm)": 14.95,
              "species": "scandens"
             },
             {
              "ECDF": 0.8505747126436781,
              "beak length (mm)": 14.95,
              "species": "scandens"
             },
             {
              "ECDF": 0.8505747126436781,
              "beak length (mm)": 15,
              "species": "scandens"
             },
             {
              "ECDF": 0.8620689655172413,
              "beak length (mm)": 15,
              "species": "scandens"
             },
             {
              "ECDF": 0.8620689655172413,
              "beak length (mm)": 15.05,
              "species": "scandens"
             },
             {
              "ECDF": 0.8735632183908046,
              "beak length (mm)": 15.05,
              "species": "scandens"
             },
             {
              "ECDF": 0.8735632183908046,
              "beak length (mm)": 15.1,
              "species": "scandens"
             },
             {
              "ECDF": 0.8850574712643678,
              "beak length (mm)": 15.1,
              "species": "scandens"
             },
             {
              "ECDF": 0.8850574712643678,
              "beak length (mm)": 15.1,
              "species": "scandens"
             },
             {
              "ECDF": 0.896551724137931,
              "beak length (mm)": 15.1,
              "species": "scandens"
             },
             {
              "ECDF": 0.896551724137931,
              "beak length (mm)": 15.1,
              "species": "scandens"
             },
             {
              "ECDF": 0.9080459770114943,
              "beak length (mm)": 15.1,
              "species": "scandens"
             },
             {
              "ECDF": 0.9080459770114943,
              "beak length (mm)": 15.1,
              "species": "scandens"
             },
             {
              "ECDF": 0.9195402298850575,
              "beak length (mm)": 15.1,
              "species": "scandens"
             },
             {
              "ECDF": 0.9195402298850575,
              "beak length (mm)": 15.14,
              "species": "scandens"
             },
             {
              "ECDF": 0.9310344827586207,
              "beak length (mm)": 15.14,
              "species": "scandens"
             },
             {
              "ECDF": 0.9310344827586207,
              "beak length (mm)": 15.2,
              "species": "scandens"
             },
             {
              "ECDF": 0.9425287356321839,
              "beak length (mm)": 15.2,
              "species": "scandens"
             },
             {
              "ECDF": 0.9425287356321839,
              "beak length (mm)": 15.3,
              "species": "scandens"
             },
             {
              "ECDF": 0.9540229885057471,
              "beak length (mm)": 15.3,
              "species": "scandens"
             },
             {
              "ECDF": 0.9540229885057471,
              "beak length (mm)": 15.54,
              "species": "scandens"
             },
             {
              "ECDF": 0.9655172413793104,
              "beak length (mm)": 15.54,
              "species": "scandens"
             },
             {
              "ECDF": 0.9655172413793104,
              "beak length (mm)": 15.6,
              "species": "scandens"
             },
             {
              "ECDF": 0.9770114942528736,
              "beak length (mm)": 15.6,
              "species": "scandens"
             },
             {
              "ECDF": 0.9770114942528736,
              "beak length (mm)": 15.73,
              "species": "scandens"
             },
             {
              "ECDF": 0.9885057471264368,
              "beak length (mm)": 15.73,
              "species": "scandens"
             },
             {
              "ECDF": 0.9885057471264368,
              "beak length (mm)": 15.94,
              "species": "scandens"
             },
             {
              "ECDF": 1,
              "beak length (mm)": 15.94,
              "species": "scandens"
             },
             {
              "ECDF": 1,
              "beak length (mm)": 15.94,
              "species": "scandens"
             },
             {
              "ECDF": 1,
              "beak length (mm)": 16.302,
              "species": "scandens"
             }
            ]
           },
           "encoding": {
            "color": {
             "field": "species",
             "type": "nominal"
            },
            "order": {
             "field": "beak length (mm)",
             "type": "quantitative"
            },
            "x": {
             "field": "beak length (mm)",
             "type": "quantitative"
            },
            "y": {
             "field": "ECDF",
             "type": "quantitative"
            }
           },
           "mark": "line"
          },
          {
           "data": {
            "values": [
             {
              "beak length (mm)": 8.7,
              "bs ecdf max": 0.019230769230769232,
              "bs ecdf min": 0.003205128205128205
             },
             {
              "beak length (mm)": 8.8,
              "bs ecdf max": 0.028846153846153848,
              "bs ecdf min": 0.003205128205128205
             },
             {
              "beak length (mm)": 9,
              "bs ecdf max": 0.035256410256410256,
              "bs ecdf min": 0.003205128205128205
             },
             {
              "beak length (mm)": 9.1,
              "bs ecdf max": 0.060897435897435896,
              "bs ecdf min": 0.003205128205128205
             },
             {
              "beak length (mm)": 9.2,
              "bs ecdf max": 0.07051282051282051,
              "bs ecdf min": 0.003205128205128205
             },
             {
              "beak length (mm)": 9.3,
              "bs ecdf max": 0.08333333333333333,
              "bs ecdf min": 0.003205128205128205
             },
             {
              "beak length (mm)": 9.4,
              "bs ecdf max": 0.09294871794871795,
              "bs ecdf min": 0.00641025641025641
             },
             {
              "beak length (mm)": 9.5,
              "bs ecdf max": 0.10576923076923077,
              "bs ecdf min": 0.01282051282051282
             },
             {
              "beak length (mm)": 9.6,
              "bs ecdf max": 0.15064102564102563,
              "bs ecdf min": 0.016025641025641024
             },
             {
              "beak length (mm)": 9.63,
              "bs ecdf max": 0.14743589743589744,
              "bs ecdf min": 0.038461538461538464
             },
             {
              "beak length (mm)": 9.65,
              "bs ecdf max": 0.15384615384615385,
              "bs ecdf min": 0.035256410256410256
             },
             {
              "beak length (mm)": 9.7,
              "bs ecdf max": 0.19230769230769232,
              "bs ecdf min": 0.038461538461538464
             },
             {
              "beak length (mm)": 9.8,
              "bs ecdf max": 0.23717948717948717,
              "bs ecdf min": 0.057692307692307696
             },
             {
              "beak length (mm)": 9.83,
              "bs ecdf max": 0.2403846153846154,
              "bs ecdf min": 0.08333333333333333
             },
             {
              "beak length (mm)": 9.85,
              "bs ecdf max": 0.24358974358974358,
              "bs ecdf min": 0.07051282051282051
             },
             {
              "beak length (mm)": 9.9,
              "bs ecdf max": 0.30448717948717946,
              "bs ecdf min": 0.08012820512820513
             },
             {
              "beak length (mm)": 9.93,
              "bs ecdf max": 0.2948717948717949,
              "bs ecdf min": 0.11217948717948718
             },
             {
              "beak length (mm)": 10,
              "bs ecdf max": 0.3269230769230769,
              "bs ecdf min": 0.11538461538461539
             },
             {
              "beak length (mm)": 10.05,
              "bs ecdf max": 0.3301282051282051,
              "bs ecdf min": 0.15064102564102563
             },
             {
              "beak length (mm)": 10.1,
              "bs ecdf max": 0.375,
              "bs ecdf min": 0.14743589743589744
             },
             {
              "beak length (mm)": 10.13,
              "bs ecdf max": 0.3782051282051282,
              "bs ecdf min": 0.1858974358974359
             },
             {
              "beak length (mm)": 10.15,
              "bs ecdf max": 0.3717948717948718,
              "bs ecdf min": 0.18269230769230768
             },
             {
              "beak length (mm)": 10.2,
              "bs ecdf max": 0.4391025641025641,
              "bs ecdf min": 0.1858974358974359
             },
             {
              "beak length (mm)": 10.23,
              "bs ecdf max": 0.4551282051282051,
              "bs ecdf min": 0.2403846153846154
             },
             {
              "beak length (mm)": 10.25,
              "bs ecdf max": 0.4583333333333333,
              "bs ecdf min": 0.2532051282051282
             },
             {
              "beak length (mm)": 10.3,
              "bs ecdf max": 0.5,
              "bs ecdf min": 0.25961538461538464
             },
             {
              "beak length (mm)": 10.33,
              "bs ecdf max": 0.5032051282051282,
              "bs ecdf min": 0.2948717948717949
             },
             {
              "beak length (mm)": 10.4,
              "bs ecdf max": 0.5512820512820513,
              "bs ecdf min": 0.2916666666666667
             },
             {
              "beak length (mm)": 10.5,
              "bs ecdf max": 0.5961538461538461,
              "bs ecdf min": 0.34294871794871795
             },
             {
              "beak length (mm)": 10.53,
              "bs ecdf max": 0.5993589743589743,
              "bs ecdf min": 0.3942307692307692
             },
             {
              "beak length (mm)": 10.55,
              "bs ecdf max": 0.6057692307692307,
              "bs ecdf min": 0.40705128205128205
             },
             {
              "beak length (mm)": 10.6,
              "bs ecdf max": 0.6474358974358975,
              "bs ecdf min": 0.40064102564102566
             },
             {
              "beak length (mm)": 10.7,
              "bs ecdf max": 0.7019230769230769,
              "bs ecdf min": 0.42948717948717946
             },
             {
              "beak length (mm)": 10.73,
              "bs ecdf max": 0.7083333333333334,
              "bs ecdf min": 0.46794871794871795
             },
             {
              "beak length (mm)": 10.8,
              "bs ecdf max": 0.7435897435897436,
              "bs ecdf min": 0.4775641025641026
             },
             {
              "beak length (mm)": 10.83,
              "bs ecdf max": 0.7467948717948718,
              "bs ecdf min": 0.5352564102564102
             },
             {
              "beak length (mm)": 10.85,
              "bs ecdf max": 0.7371794871794872,
              "bs ecdf min": 0.5384615384615384
             },
             {
              "beak length (mm)": 10.9,
              "bs ecdf max": 0.7980769230769231,
              "bs ecdf min": 0.5448717948717948
             },
             {
              "beak length (mm)": 10.95,
              "bs ecdf max": 0.8012820512820513,
              "bs ecdf min": 0.5993589743589743
             },
             {
              "beak length (mm)": 11,
              "bs ecdf max": 0.875,
              "bs ecdf min": 0.6185897435897436
             },
             {
              "beak length (mm)": 11.03,
              "bs ecdf max": 0.8814102564102564,
              "bs ecdf min": 0.6891025641025641
             },
             {
              "beak length (mm)": 11.1,
              "bs ecdf max": 0.907051282051282,
              "bs ecdf min": 0.7019230769230769
             },
             {
              "beak length (mm)": 11.2,
              "bs ecdf max": 0.9326923076923077,
              "bs ecdf min": 0.7435897435897436
             },
             {
              "beak length (mm)": 11.23,
              "bs ecdf max": 0.9262820512820513,
              "bs ecdf min": 0.7788461538461539
             },
             {
              "beak length (mm)": 11.3,
              "bs ecdf max": 0.9455128205128205,
              "bs ecdf min": 0.782051282051282
             },
             {
              "beak length (mm)": 11.4,
              "bs ecdf max": 0.9519230769230769,
              "bs ecdf min": 0.7980769230769231
             },
             {
              "beak length (mm)": 11.43,
              "bs ecdf max": 0.9519230769230769,
              "bs ecdf min": 0.8044871794871795
             },
             {
              "beak length (mm)": 11.45,
              "bs ecdf max": 0.9551282051282052,
              "bs ecdf min": 0.8076923076923077
             },
             {
              "beak length (mm)": 11.5,
              "bs ecdf max": 0.9743589743589743,
              "bs ecdf min": 0.8141025641025641
             },
             {
              "beak length (mm)": 11.53,
              "bs ecdf max": 0.967948717948718,
              "bs ecdf min": 0.8365384615384616
             },
             {
              "beak length (mm)": 11.6,
              "bs ecdf max": 0.9807692307692307,
              "bs ecdf min": 0.842948717948718
             },
             {
              "beak length (mm)": 11.7,
              "bs ecdf max": 0.9871794871794872,
              "bs ecdf min": 0.8814102564102564
             },
             {
              "beak length (mm)": 11.73,
              "bs ecdf max": 0.9903846153846154,
              "bs ecdf min": 0.8910256410256411
             },
             {
              "beak length (mm)": 11.75,
              "bs ecdf max": 0.9935897435897436,
              "bs ecdf min": 0.9006410256410257
             },
             {
              "beak length (mm)": 11.8,
              "bs ecdf max": 1,
              "bs ecdf min": 0.9102564102564102
             },
             {
              "beak length (mm)": 11.83,
              "bs ecdf max": 1,
              "bs ecdf min": 0.9358974358974359
             },
             {
              "beak length (mm)": 11.88,
              "bs ecdf max": 1,
              "bs ecdf min": 0.9455128205128205
             },
             {
              "beak length (mm)": 11.9,
              "bs ecdf max": 1,
              "bs ecdf min": 0.9519230769230769
             },
             {
              "beak length (mm)": 12,
              "bs ecdf max": 1,
              "bs ecdf min": 0.9583333333333334
             },
             {
              "beak length (mm)": 12.1,
              "bs ecdf max": 1,
              "bs ecdf min": 0.9711538461538461
             },
             {
              "beak length (mm)": 12.2,
              "bs ecdf max": 1,
              "bs ecdf min": 0.9711538461538461
             }
            ]
           },
           "encoding": {
            "order": {
             "field": "beak length (mm)",
             "type": "quantitative"
            },
            "x": {
             "field": "beak length (mm)",
             "type": "quantitative"
            },
            "y": {
             "field": "bs ecdf min",
             "title": "ECDF",
             "type": "quantitative"
            },
            "y2": {
             "field": "bs ecdf max",
             "title": "ECDF",
             "type": "quantitative"
            }
           },
           "mark": {
            "opacity": 0.3,
            "type": "area"
           }
          },
          {
           "data": {
            "values": [
             {
              "beak length (mm)": 12.8,
              "bs ecdf max": 0.12643678160919541,
              "bs ecdf min": 0.011494252873563218
             },
             {
              "beak length (mm)": 12.9,
              "bs ecdf max": 0.20689655172413793,
              "bs ecdf min": 0.011494252873563218
             },
             {
              "beak length (mm)": 13,
              "bs ecdf max": 0.26436781609195403,
              "bs ecdf min": 0.011494252873563218
             },
             {
              "beak length (mm)": 13.1,
              "bs ecdf max": 0.3103448275862069,
              "bs ecdf min": 0.022988505747126436
             },
             {
              "beak length (mm)": 13.25,
              "bs ecdf max": 0.27586206896551724,
              "bs ecdf min": 0.034482758620689655
             },
             {
              "beak length (mm)": 13.4,
              "bs ecdf max": 0.3563218390804598,
              "bs ecdf min": 0.034482758620689655
             },
             {
              "beak length (mm)": 13.5,
              "bs ecdf max": 0.4482758620689655,
              "bs ecdf min": 0.06896551724137931
             },
             {
              "beak length (mm)": 13.6,
              "bs ecdf max": 0.4827586206896552,
              "bs ecdf min": 0.12643678160919541
             },
             {
              "beak length (mm)": 13.7,
              "bs ecdf max": 0.5172413793103449,
              "bs ecdf min": 0.13793103448275862
             },
             {
              "beak length (mm)": 13.8,
              "bs ecdf max": 0.5747126436781609,
              "bs ecdf min": 0.14942528735632185
             },
             {
              "beak length (mm)": 13.9,
              "bs ecdf max": 0.5977011494252874,
              "bs ecdf min": 0.16091954022988506
             },
             {
              "beak length (mm)": 13.95,
              "bs ecdf max": 0.5977011494252874,
              "bs ecdf min": 0.1839080459770115
             },
             {
              "beak length (mm)": 14,
              "bs ecdf max": 0.735632183908046,
              "bs ecdf min": 0.19540229885057472
             },
             {
              "beak length (mm)": 14.05,
              "bs ecdf max": 0.735632183908046,
              "bs ecdf min": 0.28735632183908044
             },
             {
              "beak length (mm)": 14.15,
              "bs ecdf max": 0.7471264367816092,
              "bs ecdf min": 0.3448275862068966
             },
             {
              "beak length (mm)": 14.2,
              "bs ecdf max": 0.7931034482758621,
              "bs ecdf min": 0.3793103448275862
             },
             {
              "beak length (mm)": 14.23,
              "bs ecdf max": 0.8045977011494253,
              "bs ecdf min": 0.4482758620689655
             },
             {
              "beak length (mm)": 14.35,
              "bs ecdf max": 0.8160919540229885,
              "bs ecdf min": 0.45977011494252873
             },
             {
              "beak length (mm)": 14.4,
              "bs ecdf max": 0.8390804597701149,
              "bs ecdf min": 0.45977011494252873
             },
             {
              "beak length (mm)": 14.45,
              "bs ecdf max": 0.8505747126436781,
              "bs ecdf min": 0.4942528735632184
             },
             {
              "beak length (mm)": 14.55,
              "bs ecdf max": 0.8505747126436781,
              "bs ecdf min": 0.5172413793103449
             },
             {
              "beak length (mm)": 14.6,
              "bs ecdf max": 0.8850574712643678,
              "bs ecdf min": 0.4827586206896552
             },
             {
              "beak length (mm)": 14.63,
              "bs ecdf max": 0.8850574712643678,
              "bs ecdf min": 0.5517241379310345
             },
             {
              "beak length (mm)": 14.73,
              "bs ecdf max": 0.896551724137931,
              "bs ecdf min": 0.5632183908045977
             },
             {
              "beak length (mm)": 14.75,
              "bs ecdf max": 0.896551724137931,
              "bs ecdf min": 0.5862068965517241
             },
             {
              "beak length (mm)": 14.8,
              "bs ecdf max": 0.9080459770114943,
              "bs ecdf min": 0.5977011494252874
             },
             {
              "beak length (mm)": 14.83,
              "bs ecdf max": 0.9195402298850575,
              "bs ecdf min": 0.6091954022988506
             },
             {
              "beak length (mm)": 14.9,
              "bs ecdf max": 0.9655172413793104,
              "bs ecdf min": 0.6206896551724138
             },
             {
              "beak length (mm)": 14.95,
              "bs ecdf max": 0.9770114942528736,
              "bs ecdf min": 0.7011494252873564
             },
             {
              "beak length (mm)": 15,
              "bs ecdf max": 0.9885057471264368,
              "bs ecdf min": 0.6896551724137931
             },
             {
              "beak length (mm)": 15.05,
              "bs ecdf max": 0.9885057471264368,
              "bs ecdf min": 0.7126436781609196
             },
             {
              "beak length (mm)": 15.1,
              "bs ecdf max": 1,
              "bs ecdf min": 0.735632183908046
             },
             {
              "beak length (mm)": 15.14,
              "bs ecdf max": 1,
              "bs ecdf min": 0.7931034482758621
             },
             {
              "beak length (mm)": 15.2,
              "bs ecdf max": 1,
              "bs ecdf min": 0.8160919540229885
             },
             {
              "beak length (mm)": 15.3,
              "bs ecdf max": 1,
              "bs ecdf min": 0.8275862068965517
             },
             {
              "beak length (mm)": 15.54,
              "bs ecdf max": 1,
              "bs ecdf min": 0.8505747126436781
             },
             {
              "beak length (mm)": 15.6,
              "bs ecdf max": 1,
              "bs ecdf min": 0.8850574712643678
             },
             {
              "beak length (mm)": 15.73,
              "bs ecdf max": 1,
              "bs ecdf min": 0.9080459770114943
             },
             {
              "beak length (mm)": 15.94,
              "bs ecdf max": 1,
              "bs ecdf min": 0.9310344827586207
             }
            ]
           },
           "encoding": {
            "order": {
             "field": "beak length (mm)",
             "type": "quantitative"
            },
            "x": {
             "field": "beak length (mm)",
             "type": "quantitative"
            },
            "y": {
             "field": "bs ecdf min",
             "title": "ECDF",
             "type": "quantitative"
            },
            "y2": {
             "field": "bs ecdf max",
             "title": "ECDF",
             "type": "quantitative"
            }
           },
           "mark": {
            "color": "orange",
            "opacity": 0.3,
            "type": "area"
           }
          }
         ],
         "width": 500
        },
        {
         "data": {
          "values": [
           {
            "value": 10.487302884615385,
            "variable": "fortis"
           },
           {
            "value": 10.56213141025641,
            "variable": "fortis"
           },
           {
            "value": 10.63576923076923,
            "variable": "fortis"
           },
           {
            "value": 13.965172413793107,
            "variable": "scandens"
           },
           {
            "value": 14.120459770114943,
            "variable": "scandens"
           },
           {
            "value": 14.27551724137931,
            "variable": "scandens"
           }
          ]
         },
         "encoding": {
          "color": {
           "field": "variable",
           "type": "nominal"
          },
          "x": {
           "field": "value",
           "scale": {
            "domain": [
             8,
             17
            ]
           },
           "title": "beak length (mm)",
           "type": "quantitative"
          }
         },
         "mark": {
          "opacity": 1,
          "type": "tick"
         },
         "width": 500
        }
       ]
      },
      "image/png": "[encoded data removed]",
      "text/plain": [
       "<VegaLite 2 object>\n",
       "\n",
       "If you see this message, it means the renderer has not been properly enabled\n",
       "for the frontend that you are using. For more information, see\n",
       "https://altair-viz.github.io/user_guide/troubleshooting.html\n"
      ]
     },
     "execution_count": 84,
     "metadata": {},
     "output_type": "execute_result"
    }
   ],
   "source": [
    "sum_ticks = alt.Chart(bs_depth_summary, width=500\n",
    "                ).mark_tick(opacity=1\n",
    "                ).encode(\n",
    "                    x=alt.X('value:Q', title='beak length (mm)', scale=alt.Scale(domain=[8,17])),\n",
    "                    color='variable'\n",
    "                )\n",
    "#line = alt.Chart().mark_rule().encode(x=8, x2=17)\n",
    "\n",
    "\n",
    "alt.layer(formal_ecdf, bs_ecdf_fortis, bs_ecdf_scandens).properties(height=200, width=500) & sum_ticks"
   ]
  },
  {
   "cell_type": "markdown",
   "metadata": {},
   "source": [
    "Something is wrong here. There should not be jagged ends because previous points set the min of subsequent points by definition."
   ]
  },
  {
   "cell_type": "code",
   "execution_count": null,
   "metadata": {},
   "outputs": [],
   "source": []
  }
 ],
 "metadata": {
  "kernelspec": {
   "display_name": "Python 3",
   "language": "python",
   "name": "python3"
  },
  "language_info": {
   "codemirror_mode": {
    "name": "ipython",
    "version": 3
   },
   "file_extension": ".py",
   "mimetype": "text/x-python",
   "name": "python",
   "nbconvert_exporter": "python",
   "pygments_lexer": "ipython3",
   "version": "3.6.5"
  }
 },
 "nbformat": 4,
 "nbformat_minor": 2
}
